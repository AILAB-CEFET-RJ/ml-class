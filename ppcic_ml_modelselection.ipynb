{
  "nbformat": 4,
  "nbformat_minor": 0,
  "metadata": {
    "colab": {
      "name": "ppcic-ml-modelselection.ipynb",
      "provenance": [],
      "collapsed_sections": [],
      "toc_visible": true,
      "authorship_tag": "ABX9TyOGaJFqwJ3eukQo+NsAYsNp",
      "include_colab_link": true
    },
    "kernelspec": {
      "name": "python3",
      "display_name": "Python 3"
    }
  },
  "cells": [
    {
      "cell_type": "markdown",
      "metadata": {
        "id": "view-in-github",
        "colab_type": "text"
      },
      "source": [
        "<a href=\"https://colab.research.google.com/github/MLRG-CEFET-RJ/ml-class/blob/master/ppcic_ml_modelselection.ipynb\" target=\"_parent\"><img src=\"https://colab.research.google.com/assets/colab-badge.svg\" alt=\"Open In Colab\"/></a>"
      ]
    },
    {
      "cell_type": "markdown",
      "metadata": {
        "id": "UWlV6OxwMKhU",
        "colab_type": "text"
      },
      "source": [
        "# Model Selection\n",
        "\n",
        "The task of producing the most suitable predictive model from a dataset has many nuances. In particular, there are two aspects that need to be defined experimentally before starting to adjust a model:\n",
        "\n",
        "* At first, it may not be clear which learning algorithm is best suited to be used in a given situation.\n",
        "\n",
        "* In addition, each learning algorithm has its own set of *hyperparameters*, which are the parameters of the algorithm itself, to counter the concept of *parameter* of the ML model to be adjusted.\n",
        "\n",
        "Model selection is the process of selecting one of different learning algorithms (e.g., SVM, decision tree learning, logistic regression, etc.) or, once the learning algorithm is selected, choosing between different values ​​of hyperparameters (e.g., in polynomial regression, deciding which polynomial degree to use during training).\n",
        "\n",
        "For a given prediction task, the choice of the most appropriate learning algorithm (and its respective hyperparameter values) is made based on some *estimate* of the generalization error obtained on unused data during training. In other words, different candidate models are evaluated during model selection. The model that has the best predictive performance (according to some pre-established assessment measure) is selected as a result of the model selection process."
      ]
    },
    {
      "cell_type": "markdown",
      "metadata": {
        "id": "_HvrJRmzAqkh",
        "colab_type": "text"
      },
      "source": [
        "# Two-way holdout method\n",
        "\n",
        "In classification or regression tasks, it is very common to split the available observations (original dataset ) in two datasets: \n",
        "\n",
        "* training dataset: used for training a model M\n",
        "* test dataset: used to estimate the *generalization error* of M\n",
        "\n",
        "This splitting method is commonly named *two-way holdout method*, or simply *holdout method*. This two-way split is illustrated in the image below ([source](https://www.datavedas.com/holdout-cross-validation/)).\n",
        "\n",
        "![alt text](https://www.datavedas.com/wp-content/uploads/2018/04/image001-768x368.jpg)\n",
        "\n"
      ]
    },
    {
      "cell_type": "markdown",
      "metadata": {
        "id": "p_Wx4vawBl9n",
        "colab_type": "text"
      },
      "source": [
        "In Scikit-Learn, we can apply the holdout method by using the `train_test_split` function. This function receives as input a data matrix $X$ and response vector $y$.\n",
        "\n",
        "The following image illustrates the effect of applying the function `train_test_split`. As a result, two data matrices and two response vectors are created. \n",
        "\n",
        "![alt text](https://res.cloudinary.com/dyd911kmh/image/upload/f_auto,q_auto:best/v1543836883/image_6_cfpjpr.png)\n",
        "\n",
        "Please notice that, each time `train_test_split` is called, it randomly selects which examples to put in the training and test datasets."
      ]
    },
    {
      "cell_type": "markdown",
      "metadata": {
        "id": "Vvv1GLjaNKI1",
        "colab_type": "text"
      },
      "source": [
        "## Three-way holdout method\n",
        "\n",
        "The application of the two-way holdout method can lead to a misleading estimate of the generalization error if the test data is also used for model selection.\n",
        "\n",
        "Since the test dataset should ideally be used only to produce an estimate of the generalization error **after** training, it is common (at least for relatively large data sets) to further divide the training set into two subsets. The result of this is the production of three datasets, as described below.\n",
        "\n",
        "* Training set: used to adjust the parameters for several candidate models.\n",
        "\n",
        "* Validation set: used to adjust the hyperparameters of the ML algorithm. The predictive performance on this set is used for model selection. i.e., choose the best candidate model.  \n",
        "\n",
        "* Test set: used once to obtain an estimate of the generalization error for the chosen candidate model.\n",
        "\n",
        "The image below ([source](https://www.datavedas.com/holdout-cross-validation/)) illustrates the three-way split of the original dataset.\n",
        "\n",
        "![alt text](https://www.datavedas.com/wp-content/uploads/2018/04/image003.jpg)\n",
        "\n",
        "The image below ([source](https://datascience.stackexchange.com/questions/52632/cross-validation-vs-train-validate-test)) summarizes the model selection process for a given learning algorithm using the three data sets described above. Initially, the original data set is divided into two subsets, training and testing. Then, the training set is again divided into two, which generates the training, validation and test sets. After that, for each desired combination of hyperparameter values, a model is adjusted on the training set, and its performance on the validation set is computed. In this way, for each of the $ q $ combinations of hyperparameter values, $ q $ performance estimates are obtained. The predictive model corresponding to the combination of hyperparameter values ​​that produces the best performance estimate is selected. Finally, the generalization error estimate for this selected model is produced using the test set.\n",
        "\n",
        "![alt text](https://i.stack.imgur.com/osBuF.png)\n",
        "\n",
        "The procedure illustrated in the figure above can be performed once for each of the different learning algorithms candidates in a supervised learning task."
      ]
    },
    {
      "cell_type": "markdown",
      "metadata": {
        "id": "9Vq5YxWvN5_F",
        "colab_type": "text"
      },
      "source": [
        "### Split proportions\n",
        "\n",
        "Reserving  a test dataset to compute an estimate of the generalization error has the negative side effect of retaining potentially valuable information that the learning algorithm could benefit from. Therefore, choosing the size of the test set  involves a trade-off: allocating a very large test set can retain a lot of information that could be used to improve model fit during training. On the other hand, the smaller the test set, the more inaccurate the generalization error estimate is.\n",
        "\n",
        "In most practical cases, the most used divisions are 60:40,\n",
        "70:30 or 80:20, depending on the size of the initial data set.\n",
        "\n",
        "However, for large data sets, 90:10 or even 99: 1 may be appropriate, since 10% (or even 1%) of a very large sample can still be statistically significant.\n",
        "\n",
        "A common practice is to re-train the estimator on the entire data set (i.e., rejoining the training and test sets), in order to improve predictive performance of the resulting final model."
      ]
    },
    {
      "cell_type": "markdown",
      "metadata": {
        "id": "piO8DLsf93Cv",
        "colab_type": "text"
      },
      "source": [
        "## $k$-fold Cross-validation\n",
        "\n",
        "There are two disadvantages of the holdout method:\n",
        "\n",
        "* the performance estimate can be very sensitive to the way used to subdivide the training set into the training and validation sets: this estimate will vary for different data samples. Repeating the holdout validation on different subsets of the data would provide a better estimate of the algorithm's performance.\n",
        "\n",
        "* a significant part of the data is not used for training the model. For example, if the split ratio is 50%, half of the data set does not contribute to model training! This can cause problems, especially if the initial data set is small.\n",
        "\n",
        "A more robust technique for performing model selection is *k-fold cross-validtion*. This technique corresponds to applying the holdout method $k$ times over $k$ different configurations of training and validation subsets.\n",
        "\n",
        "The following figure ([source](https://sebastianraschka.com/faq/docs/evaluate-a-model.html)) illustrates $k$-fold cross validation. This is an iterative technique. In the first iteration, the training set is subdivided into $k$ disjunct sets (in the figure, $k = 10$). Then, $k-1$ of these subsets are used to fit the predictive model. Once the model has been adjusted, its error is estimated in the examples of the subset that was not used during the adjustment, which produces the value $E_1$ in the figure. In the second iteration, another fold is selected to compute the estimate and again a model is adjusted, which allows to compute another estimate of the error, $E_2$. In all, $k$ iterations are performed, which results in $k$ performance estimates. Finally, a more robust (i.e., less biased) estimate of the model error is obtained by computing the average of the previously produced $k$ estimates.\n",
        "\n",
        "![alt text](https://sebastianraschka.com/images/faq/evaluate-a-model/k-fold.png)\n",
        "\n",
        "Keep in mind that, as k increases:\n",
        "* Bias in the estimation of the generalization error decreases;\n",
        "Computational cost also increases.\n",
        "* Empirical evidence shows that k=10 is a good value for datasets of moderate size.\n",
        "* For large sized datasets, k can be safely decreased.\n"
      ]
    },
    {
      "cell_type": "markdown",
      "metadata": {
        "id": "LUXqo-lsHaPo",
        "colab_type": "text"
      },
      "source": [
        "### Function cross_val_score"
      ]
    },
    {
      "cell_type": "markdown",
      "metadata": {
        "id": "VJu2J83AX-NW",
        "colab_type": "text"
      },
      "source": [
        "In the following example, the $k$-fold cross-validation technique is applied, with $k = 2$. The result is two performance estimates, which can be combined (for example, taking the average) to obtain a better measure of the model's generalization performance. This specific form of cross-validation is double cross-validation: we split the original data into two subsets and use each one as a validation set."
      ]
    },
    {
      "cell_type": "code",
      "metadata": {
        "id": "D33MZ2_iXSwY",
        "colab_type": "code",
        "colab": {
          "base_uri": "https://localhost:8080/",
          "height": 35
        },
        "outputId": "d34e8d88-5451-44ba-a6bf-c760a4a331f1"
      },
      "source": [
        "from sklearn.model_selection import train_test_split\n",
        "from sklearn.datasets import load_iris\n",
        "from sklearn.neighbors import KNeighborsClassifier\n",
        "from sklearn.metrics import accuracy_score\n",
        "\n",
        "# Configures k-NN with 1 neighbor\n",
        "model = KNeighborsClassifier(n_neighbors=1)\n",
        "\n",
        "iris = load_iris()\n",
        "X = iris.data\n",
        "y = iris.target\n",
        "\n",
        "# divide the original dataset in 2 equal parts\n",
        "X1, X2, y1, y2 = train_test_split(X, y, random_state=0, train_size=0.5)\n",
        "\n",
        "# ajusta e avalia DOIS modelos\n",
        "\n",
        "y2_model = model.fit(X1, y1).predict(X2)\n",
        "\n",
        "y1_model = model.fit(X2, y2).predict(X1)\n",
        "\n",
        "accuracy_score(y1, y1_model), accuracy_score(y2, y2_model)"
      ],
      "execution_count": null,
      "outputs": [
        {
          "output_type": "execute_result",
          "data": {
            "text/plain": [
              "(0.96, 0.9066666666666666)"
            ]
          },
          "metadata": {
            "tags": []
          },
          "execution_count": 2
        }
      ]
    },
    {
      "cell_type": "markdown",
      "metadata": {
        "id": "jOlBbOMaGw1h",
        "colab_type": "text"
      },
      "source": [
        "Implementing $k$-fold cross validation using the approach illustrated in the previous example can be time consuming for greater values of $k$.\n",
        "\n",
        "Scikit-Learn provides the function [`cross_val_score`](https://scikit-learn.org/stable/modules/generated/sklearn.model_selection.cross_val_score.html). This function makes it easier to apply $k$-fold cross validation. \n",
        "\n",
        "It returns a NumPy array with an accuracy value for each fold. Notice that, for each fold, the training and tests sets will be different. Therefore, different accuracy values for each fold will be produced. Also notice that we can compute the mean and standard deviation of the resulting accuracies.\n",
        "\n",
        "The following example illustrates the application of the function cross_val_score to the case $k = 10$."
      ]
    },
    {
      "cell_type": "code",
      "metadata": {
        "id": "tSLzxCB_YERc",
        "colab_type": "code",
        "colab": {
          "base_uri": "https://localhost:8080/",
          "height": 124
        },
        "outputId": "70c675e7-13a7-4f4b-89c6-fb35ef94bbf5"
      },
      "source": [
        "from sklearn.model_selection import cross_val_score\n",
        "scores = cross_val_score(model, X, y, cv=10)\n",
        "print('Scores in each fold: ', scores)\n",
        "print('Average score: ', scores.mean())\n",
        "print('Std deviation of scores: ', scores.std())"
      ],
      "execution_count": null,
      "outputs": [
        {
          "output_type": "stream",
          "text": [
            "Scores in each fold:  [1.  1.  1.  1.  0.  0.  0.  0.5 0.  1. ]\n",
            "Average score:  0.55\n",
            "Std deviation of scores:  0.4716990566028302\n"
          ],
          "name": "stdout"
        },
        {
          "output_type": "stream",
          "text": [
            "/usr/local/lib/python3.6/dist-packages/sklearn/model_selection/_split.py:667: UserWarning: The least populated class in y has only 6 members, which is less than n_splits=10.\n",
            "  % (min_groups, self.n_splits)), UserWarning)\n"
          ],
          "name": "stderr"
        }
      ]
    },
    {
      "cell_type": "markdown",
      "metadata": {
        "id": "mUefpkmoY4v2",
        "colab_type": "text"
      },
      "source": [
        "Scikit-Learn implements several cross-validation schemes that are useful in particular situations; these are implemented through iterators in the cross_validation module. In practice, we have to define the iterator through the `cv` parameter.\n",
        "\n",
        "As an example, we might want to go to the extreme case where the number of subsets is equal to the number of examples contained in the training set. In this case, in each iteration, a model is fitted using all but one example, and accuracy is measured against the only example not used during training. This type of cross-validation is known as **leave-one-out cross-validation**.\n",
        "\n",
        "The example below illustrates the use of this particular case leave-one-out cross-validation. Since there are 150 samples, the leave-one-out cross-validation produces 150 estimates (1.0 indicates a successful forecast, and 0.0 indicates an unsuccessful one)."
      ]
    },
    {
      "cell_type": "code",
      "metadata": {
        "id": "paZ5oipGZIoJ",
        "colab_type": "code",
        "colab": {
          "base_uri": "https://localhost:8080/",
          "height": 173
        },
        "outputId": "dbf573c2-143c-443d-8011-52720752e43f"
      },
      "source": [
        "from sklearn.model_selection import LeaveOneOut\n",
        "\n",
        "scores = cross_val_score(model, X, y, cv=LeaveOneOut())\n",
        "scores"
      ],
      "execution_count": null,
      "outputs": [
        {
          "output_type": "execute_result",
          "data": {
            "text/plain": [
              "array([1., 1., 1., 1., 1., 1., 1., 1., 1., 1., 1., 1., 1., 1., 1., 1., 1.,\n",
              "       1., 1., 1., 1., 1., 1., 1., 1., 1., 1., 1., 1., 1., 1., 1., 1., 1.,\n",
              "       1., 1., 1., 1., 1., 1., 1., 1., 1., 1., 1., 1., 1., 1., 1., 1., 1.,\n",
              "       1., 1., 1., 1., 1., 1., 1., 1., 1., 1., 1., 1., 1., 1., 1., 1., 1.,\n",
              "       1., 1., 0., 1., 0., 1., 1., 1., 1., 1., 1., 1., 1., 1., 1., 0., 1.,\n",
              "       1., 1., 1., 1., 1., 1., 1., 1., 1., 1., 1., 1., 1., 1., 1., 1., 1.,\n",
              "       1., 1., 1., 1., 0., 1., 1., 1., 1., 1., 1., 1., 1., 1., 1., 1., 1.,\n",
              "       0., 1., 1., 1., 1., 1., 1., 1., 1., 1., 1., 1., 1., 1., 0., 1., 1.,\n",
              "       1., 1., 1., 1., 1., 1., 1., 1., 1., 1., 1., 1., 1., 1.])"
            ]
          },
          "metadata": {
            "tags": []
          },
          "execution_count": 7
        }
      ]
    },
    {
      "cell_type": "markdown",
      "metadata": {
        "id": "APSamO7pZZ2F",
        "colab_type": "text"
      },
      "source": [
        "The average of these 150 values ​​corresponds to the estimated error rate of the model produced:"
      ]
    },
    {
      "cell_type": "code",
      "metadata": {
        "id": "aXh4DFwqZgeG",
        "colab_type": "code",
        "colab": {
          "base_uri": "https://localhost:8080/",
          "height": 52
        },
        "outputId": "24c45ba7-c67b-4f11-9488-85b72d42bfb1"
      },
      "source": [
        "print('Average score: ', scores.mean())\n",
        "print('Std deviation of scores: ', scores.std())"
      ],
      "execution_count": null,
      "outputs": [
        {
          "output_type": "stream",
          "text": [
            "Average score:  0.96\n",
            "Std deviation of scores:  0.19595917942265423\n"
          ],
          "name": "stdout"
        }
      ]
    },
    {
      "cell_type": "markdown",
      "metadata": {
        "id": "yHk15WRYiziA",
        "colab_type": "text"
      },
      "source": [
        "## Stratified k-fold cross-validation\n",
        "\n",
        "In the context of the classification task, an unbalanced presents as unequal proportion of examples for each class. See the image below ([source](https://www.researchgate.net/publication/306376881_Survey_of_resampling_techniques_for_improving_classification_performance_in_unbalanced_datasets)) for an example.\n",
        "\n",
        "![alt text](https://miro.medium.com/max/698/1*cd6AorHoJYMFyj7IZd2nOg.png)\n",
        "\n",
        "For unbalanced datasets, if the vanilla version of $k$-fold cross-validation is used, it can be the case that one or more produced folds end up with zero examples of a particular class. In such situations, it is better to use *stratified $k$-fold cross-validation*. In stratified $k$ cross-validation, class proportions are preserved in each of the $k$ subsets, so that each one is representative of the class proportions in the training data set. The image below (source) illustrates how stratified $k$-fold crors-validation works.\n",
        "\n",
        "![alt text](https://miro.medium.com/max/562/0*QKJTHrcriSx2ZNYr.png)\n",
        "\n",
        "In Scikit-Learn, the `StratifiedKFold` class implements the stratified cross-validation method. See the following example, that applies stratified cross-validation to a toy dataset with two classes. Notice that the proportions os classes in each fold is approximately the same as the original dataset."
      ]
    },
    {
      "cell_type": "code",
      "metadata": {
        "id": "bB_y_3iml9Gs",
        "colab_type": "code",
        "colab": {
          "base_uri": "https://localhost:8080/",
          "height": 69
        },
        "outputId": "05f0b464-abde-4d13-b703-f4358b62ba22"
      },
      "source": [
        "import numpy as np\n",
        "from sklearn.model_selection import StratifiedKFold\n",
        "\n",
        "# data matrix\n",
        "X = np.array([[1, 2], [3, 4], [1, 2], [3, 4], [5, 6], [7, 8], \n",
        "              [9, 10], [9, 10], [11, 12], [11, 12],\n",
        "              [1, 2], [3, 4], [5, 6], [7, 8], [4, 5], [5, 6], [7, 8], [4, 5]])\n",
        "\n",
        "# response vector\n",
        "y = np.array([0, 0, 0, 0, 0, 0, 1, 1, 1, 1, 1, 1, 1, 1, 1, 1, 1, 1])\n",
        "\n",
        "skf = StratifiedKFold(n_splits=2, random_state=42)\n",
        "skf.get_n_splits(X, y)\n",
        "\n",
        "print(skf)  \n",
        "\n",
        "# print the indices of examples in each fold\n",
        "for train_index, test_index in skf.split(X, y):\n",
        "   print(\"TRAIN:\", train_index, \"TEST:\", test_index)\n",
        "   X_train, X_test = X[train_index], X[test_index]\n",
        "   y_train, y_test = y[train_index], y[test_index]"
      ],
      "execution_count": null,
      "outputs": [
        {
          "output_type": "stream",
          "text": [
            "StratifiedKFold(n_splits=2, random_state=None, shuffle=False)\n",
            "TRAIN: [ 3  4  5 12 13 14 15 16 17] TEST: [ 0  1  2  6  7  8  9 10 11]\n",
            "TRAIN: [ 0  1  2  6  7  8  9 10 11] TEST: [ 3  4  5 12 13 14 15 16 17]\n"
          ],
          "name": "stdout"
        }
      ]
    },
    {
      "cell_type": "markdown",
      "metadata": {
        "id": "UJw6vFxDix6O",
        "colab_type": "text"
      },
      "source": [
        "# Hyperparameter optimization\n",
        "\n",
        "In contrast to the model parameters that are learned during training, the values ​​of the hyperparameters are set before the training of a model begins. Some examples of hyperparameters are given below.\n",
        "\n",
        "* the learning rate in logistic regression and in linear regression, \n",
        "* the height of trees in decision tree learning,\n",
        "* the value of $k$ in $k$-NN, \n",
        "* the value of $k$ in $k$-means, \n",
        "* the values of $\\epsilon$ and $\\operatorname{minPoints}$ in DBSCAN,\n",
        "* the regularization term in linear regression,\n",
        "* the polynomial degree in polynomial regression.\n",
        "\n",
        "\n",
        "Hyperparameters can be considered as configurations of a learning algorithm. In general, the ideal settings for the algorithm to generate a suitable model for one dataset may not be the same for another dataset. \n",
        "\n",
        "*Hyperparameter optimization* (aka *hyperparameter tuning*) is the procedure of defining appropriate values for the hyperparameters of a given learning algorithm. The general approach is to generate several combinations of hyperparameter values. Then, a model is trained for each combinatation. Finally, the best combination (according to some evaluation measure applied on the candidate models) is chosen.\n",
        "\n",
        "When the learning algorithm generates an estimator (either a classifier or a regressor), there are two main strategies to *automatically* tune its hyperparameters: *Grid Search* and *Random Search*. Both strategies generate several hyperparameter combinations. Then, for each combination, an estimator is trained a model (on the training set) and evaluateed (on the validation set). The difference between these two strategies is in the way the several combinations are generated, as described below."
      ]
    },
    {
      "cell_type": "markdown",
      "metadata": {
        "id": "iB4Yw9xzVy4j",
        "colab_type": "text"
      },
      "source": [
        "**Grid search** first defines a grid of hyperparameter combinations. The amount of hyperparameters defines the number of dimensions in the grid. Then, each combination (a point in the grid) ​​is used to produce a model.\n",
        "\n",
        "The image below ([source](https://www.researchgate.net/publication/271771573_TuPAQ_An_Efficient_Planner_for_Large-scale_Predictive_Analytic_Queries/figures?lo=1)) illustrates the GS procedure for a learning algorithm with two hyperparameters. The star represents the combination of hyperparameters that gives the best model. as measured in the validation set. The red dot in picture on the left represents the first combination test by GS. The picture on the center represents the second combination. The picture on the right illustrates all the tested combinations in the 2-dimensional grid.\n",
        "\n",
        "![texto alternativo](https://www.researchgate.net/profile/Michael_Jordan13/publication/271771573/figure/fig4/AS:668513593217027@1536397469229/Illustration-of-naive-grid-search-for-a-single-model-family-with-two-hyperparameters_W640.jpg)\n",
        "\n",
        "**Random search** selects random combinations of hyperparameter values ​​(within preconfigured ranges of values for each hyperparameter) to train and evaluate the candidate models. Instead of trying all possible combinations of values, RS performs a pre-defined number of iterations, testing a random combination of hyperparameters ​​in each iteration.\n",
        "\n",
        "Both GS and RS can be very computationally expensive. For example, searching for 20 different values ​​for each of 4 hyperparameters would require 160,000 k-fold cross-validation runs. If $k = 10$ then 1,600,000 model adjustments and 1,600,000 evaluations should be performed\n",
        "\n",
        "The image below ([source](https://community.alteryx.com/t5/Data-Science/Hyperparameter-Tuning-Black-Magic/ba-p/449289)) illustrates the difference between GS and RS. Think of a learning algorithm with just two hyperparameters. This way, each combination of its hyperparameters is a pair of numbers. Suppose one of these hyperparameters (x-axis) has more influence than the other (y-axis) on the predictive performance of the generated models. The plot on the left shows several of these pairs organized in a grid. In total, there are thirty combination in this grid. The picture on the right shows other combinations of pairs; this times these combinations where randomly selected. Notice that RS has the potential to explore more promising combinations than GS.\n",
        "\n",
        "![texto alternativo](https://pvsmt99345.i.lithium.com/t5/image/serverpage/image-id/74545i97245FDAA10376E9/image-size/large?v=1.0&px=999)\n",
        "\n",
        "In Scikit-Learn, the classes [GridSearchCV](https://scikit-learn.org/stable/modules/generated/sklearn.model_selection.GridSearchCV.html) and [RandomizedSearchCV](https://scikit-learn.org/stable/modules/generated/sklearn.model_selection.RandomizedSearchCV.html) implement GS and RS, respectively."
      ]
    },
    {
      "cell_type": "markdown",
      "metadata": {
        "id": "hQg_3AcwaZjQ",
        "colab_type": "text"
      },
      "source": [
        "### Class GridSearchCV"
      ]
    },
    {
      "cell_type": "markdown",
      "metadata": {
        "id": "n59pZ0EI4I_d",
        "colab_type": "text"
      },
      "source": [
        "Scikit-Learn provides the class `GridSearchCV` to perform grid search.\n",
        "\n",
        "The following code block presents an example of using the `GridSearchCV` class to find the ideal polynomial model for a data set. In this example, a three-dimensional grid of hyperparameters is explored:\n",
        "\n",
        "* the polynomial degree,\n",
        "* a boolean indicator that indicates whether the linear coefficient should be adjusted,\n",
        "* an indicator (boolean) indicating whether the data should be normalized."
      ]
    },
    {
      "cell_type": "code",
      "metadata": {
        "id": "HyyBkg2E0eAP",
        "colab_type": "code",
        "colab": {}
      },
      "source": [
        "from sklearn.preprocessing import PolynomialFeatures\n",
        "from sklearn.linear_model import LinearRegression\n",
        "from sklearn.pipeline import make_pipeline\n",
        "\n",
        "def PolynomialRegression(degree=2, **kwargs):\n",
        "    return make_pipeline(PolynomialFeatures(degree),\n",
        "                         LinearRegression(**kwargs))"
      ],
      "execution_count": null,
      "outputs": []
    },
    {
      "cell_type": "code",
      "metadata": {
        "id": "SAW_e44vz86E",
        "colab_type": "code",
        "colab": {}
      },
      "source": [
        "from sklearn.model_selection import GridSearchCV\n",
        "import numpy as np\n",
        "\n",
        "param_grid = {'polynomialfeatures__degree': np.arange(21),\n",
        "              'linearregression__fit_intercept': [True, False],\n",
        "              'linearregression__normalize': [True, False]}\n",
        "\n",
        "def make_data(N, err=1.0, rseed=1):\n",
        "    # randomly sample the data\n",
        "    rng = np.random.RandomState(rseed)\n",
        "    X = rng.rand(N, 1) ** 2\n",
        "    y = 10 - 1. / (X.ravel() + 0.1)\n",
        "    if err > 0:\n",
        "        y += err * rng.randn(N)\n",
        "    return X, y"
      ],
      "execution_count": null,
      "outputs": []
    },
    {
      "cell_type": "code",
      "metadata": {
        "id": "VYV99pMK0FB8",
        "colab_type": "code",
        "colab": {
          "base_uri": "https://localhost:8080/",
          "height": 71
        },
        "outputId": "e95b5e59-aabd-45a8-88e7-243f803dcf45"
      },
      "source": [
        "X, y = make_data(40)\n",
        "grid = GridSearchCV(PolynomialRegression(), param_grid, cv=7)\n",
        "grid.fit(X, y);"
      ],
      "execution_count": null,
      "outputs": [
        {
          "output_type": "stream",
          "text": [
            "/usr/local/lib/python3.6/dist-packages/sklearn/model_selection/_search.py:814: DeprecationWarning: The default of the `iid` parameter will change from True to False in version 0.22 and will be removed in 0.24. This will change numeric results when test-set sizes are unequal.\n",
            "  DeprecationWarning)\n"
          ],
          "name": "stderr"
        }
      ]
    },
    {
      "cell_type": "code",
      "metadata": {
        "id": "Uw8ZQ4025wje",
        "colab_type": "code",
        "colab": {
          "base_uri": "https://localhost:8080/",
          "height": 291
        },
        "outputId": "e282cb97-3bff-4748-a6a4-c9f52be86290"
      },
      "source": [
        "%matplotlib inline\n",
        "import matplotlib.pyplot as plt\n",
        "import seaborn; seaborn.set()  # plot formatting\n",
        "\n",
        "X_test = np.linspace(-0.1, 1.1, 500)[:, None]\n",
        "\n",
        "plt.scatter(X.ravel(), y, color='black')\n",
        "axis = plt.axis()\n",
        "for degree in [1, 3, 5]:\n",
        "    y_test = PolynomialRegression(degree).fit(X, y).predict(X_test)\n",
        "    plt.plot(X_test.ravel(), y_test, label='degree={0}'.format(degree))\n",
        "plt.xlim(-0.1, 1.0)\n",
        "plt.ylim(-2, 12)"
      ],
      "execution_count": null,
      "outputs": [
        {
          "output_type": "execute_result",
          "data": {
            "text/plain": [
              "(-2, 12)"
            ]
          },
          "metadata": {
            "tags": []
          },
          "execution_count": 13
        },
        {
          "output_type": "display_data",
          "data": {
            "image/png": "[encoded data removed]",
            "text/plain": [
              "<Figure size 432x288 with 1 Axes>"
            ]
          },
          "metadata": {
            "tags": []
          }
        }
      ]
    },
    {
      "cell_type": "code",
      "metadata": {
        "id": "vGm6ipNT0Frz",
        "colab_type": "code",
        "colab": {
          "base_uri": "https://localhost:8080/",
          "height": 68
        },
        "outputId": "cb2cf362-75bc-46d4-c4f8-9f6596775724"
      },
      "source": [
        "grid.best_params_"
      ],
      "execution_count": null,
      "outputs": [
        {
          "output_type": "execute_result",
          "data": {
            "text/plain": [
              "{'linearregression__fit_intercept': False,\n",
              " 'linearregression__normalize': True,\n",
              " 'polynomialfeatures__degree': 4}"
            ]
          },
          "metadata": {
            "tags": []
          },
          "execution_count": 10
        }
      ]
    },
    {
      "cell_type": "code",
      "metadata": {
        "id": "7FXeoFiP5RTB",
        "colab_type": "code",
        "colab": {
          "base_uri": "https://localhost:8080/",
          "height": 274
        },
        "outputId": "e7d2c3d6-4340-44da-cf65-9ed449949cc1"
      },
      "source": [
        "import matplotlib.pyplot as plt\n",
        "\n",
        "model = grid.best_estimator_\n",
        "\n",
        "plt.scatter(X.ravel(), y)\n",
        "lim = plt.axis()\n",
        "y_test = model.fit(X, y).predict(X_test)\n",
        "plt.plot(X_test.ravel(), y_test);\n",
        "plt.axis(lim);"
      ],
      "execution_count": null,
      "outputs": [
        {
          "output_type": "display_data",
          "data": {
            "image/png": "[encoded data removed]",
            "text/plain": [
              "<Figure size 432x288 with 1 Axes>"
            ]
          },
          "metadata": {
            "tags": []
          }
        }
      ]
    },
    {
      "cell_type": "markdown",
      "metadata": {
        "id": "jTlVoHTlY7EQ",
        "colab_type": "text"
      },
      "source": [
        "### Class RandomizedSearchCV\n",
        "\n",
        "This allows you to explicitly control the number of parameter combinations that are attempted. The number of search iterations is defined based on time or resources. Scikit Learn offers the RandomizedSearchCV function for this process.\n"
      ]
    },
    {
      "cell_type": "code",
      "metadata": {
        "id": "sNmXxgGsPhkZ",
        "colab_type": "code",
        "colab": {
          "base_uri": "https://localhost:8080/",
          "height": 428
        },
        "outputId": "3c8445cd-0336-4491-db70-f43be404a3f2"
      },
      "source": [
        "from sklearn.model_selection import train_test_split\n",
        "from sklearn.model_selection import StratifiedKFold\n",
        "from sklearn.model_selection import RandomizedSearchCV\n",
        "from sklearn.model_selection import GridSearchCV\n",
        "from timeit import default_timer as timer\n",
        "from sklearn.svm import LinearSVC\n",
        "\n",
        "def linear_SVC(x, y, param, kfold):\n",
        "    param_grid = {'C':param}\n",
        "    k = StratifiedKFold(n_splits=kfold)\n",
        "    grid = GridSearchCV(LinearSVC(dual=False), param_grid=param_grid, cv=k, n_jobs=4, verbose=1)\n",
        "\n",
        "    return grid.fit(x, y)\n",
        "\n",
        "def Linear_SVC_Rand(x, y, param, kfold, n):\n",
        "    param_grid = {'C':param}\n",
        "    k = StratifiedKFold(n_splits=kfold)\n",
        "    randsearch = RandomizedSearchCV(LinearSVC(dual=False), param_distributions=param_grid, cv=k, n_jobs=4,\n",
        "                                    verbose=1, n_iter=n)\n",
        "\n",
        "    return randsearch.fit(x, y)\n",
        "\n",
        "from sklearn.datasets import load_iris\n",
        "iris=load_iris()\n",
        "X=iris.data\n",
        "y=iris.target\n",
        "\n",
        "x_train,x_test,y_train,y_test=train_test_split(X,y,test_size=0.2)\n",
        "\n",
        "\n",
        "start = timer()\n",
        "param = [i/1000 for i in range(1,1000)]\n",
        "param1 = [i for i in range(1,101)]\n",
        "param.extend(param1)\n",
        "\n",
        "#progress = progressbar.bar.ProgressBar()\n",
        "clf = Linear_SVC_Rand(x=x_train, y=y_train, param=param, kfold=3, n=100)\n",
        "\n",
        "print('LinearSVC:')\n",
        "print('Best cv accuracy: {}' .format(clf.best_score_))\n",
        "print('Test set score:   {}' .format(clf.score(x_test, y_test)))\n",
        "print('Best parameters:  {}' .format(clf.best_params_))\n",
        "print()\n",
        "\n",
        "duration = timer() - start\n",
        "print('time to run RandomizedSearchCV: {}' .format(duration))\n",
        "\n",
        "\n",
        "print('########')\n",
        "\n",
        "#high C means more chance of overfitting\n",
        "\n",
        "start = timer()\n",
        "param = [i/1000 for i in range(1,1000)]\n",
        "param1 = [i for i in range(1,101)]\n",
        "param.extend(param1)\n",
        "\n",
        "clf = linear_SVC(x=x_train, y=y_train, param=param, kfold=3)\n",
        "\n",
        "print('LinearSVC:')\n",
        "print('Best cv accuracy: {}' .format(clf.best_score_))\n",
        "print('Test set score:   {}' .format(clf.score(x_test, y_test)))\n",
        "print('Best parameters:  {}' .format(clf.best_params_))\n",
        "print()\n",
        "\n",
        "duration = timer() - start\n",
        "print('time to run GridSearchCV: {}' .format(duration))"
      ],
      "execution_count": null,
      "outputs": [
        {
          "output_type": "stream",
          "text": [
            "Fitting 3 folds for each of 100 candidates, totalling 300 fits\n"
          ],
          "name": "stdout"
        },
        {
          "output_type": "stream",
          "text": [
            "[Parallel(n_jobs=4)]: Using backend LokyBackend with 4 concurrent workers.\n",
            "[Parallel(n_jobs=4)]: Done 300 out of 300 | elapsed:    0.3s finished\n",
            "/usr/local/lib/python3.6/dist-packages/sklearn/model_selection/_search.py:814: DeprecationWarning: The default of the `iid` parameter will change from True to False in version 0.22 and will be removed in 0.24. This will change numeric results when test-set sizes are unequal.\n",
            "  DeprecationWarning)\n",
            "[Parallel(n_jobs=4)]: Using backend LokyBackend with 4 concurrent workers.\n"
          ],
          "name": "stderr"
        },
        {
          "output_type": "stream",
          "text": [
            "LinearSVC:\n",
            "Best cv accuracy: 0.9666666666666667\n",
            "Test set score:   0.9\n",
            "Best parameters:  {'C': 0.226}\n",
            "\n",
            "time to run RandomizedSearchCV: 0.3045790639998813\n",
            "########\n",
            "Fitting 3 folds for each of 1099 candidates, totalling 3297 fits\n",
            "LinearSVC:\n",
            "Best cv accuracy: 0.9666666666666667\n",
            "Test set score:   0.9\n",
            "Best parameters:  {'C': 0.187}\n",
            "\n",
            "time to run GridSearchCV: 2.47029100199984\n"
          ],
          "name": "stdout"
        },
        {
          "output_type": "stream",
          "text": [
            "[Parallel(n_jobs=4)]: Done 3297 out of 3297 | elapsed:    2.5s finished\n",
            "/usr/local/lib/python3.6/dist-packages/sklearn/model_selection/_search.py:814: DeprecationWarning: The default of the `iid` parameter will change from True to False in version 0.22 and will be removed in 0.24. This will change numeric results when test-set sizes are unequal.\n",
            "  DeprecationWarning)\n"
          ],
          "name": "stderr"
        }
      ]
    },
    {
      "cell_type": "code",
      "metadata": {
        "id": "bPaJ9EBODzzR",
        "colab_type": "code",
        "colab": {
          "base_uri": "https://localhost:8080/",
          "height": 479
        },
        "outputId": "15c02ec0-e907-4a42-c66e-ea4e251f2ff6"
      },
      "source": [
        "\n",
        "import numpy as np\n",
        "\n",
        "from time import time\n",
        "from scipy.stats import randint as sp_randint\n",
        "\n",
        "from sklearn.model_selection import GridSearchCV\n",
        "from sklearn.model_selection import RandomizedSearchCV\n",
        "from sklearn.datasets import load_digits\n",
        "from sklearn.ensemble import RandomForestClassifier\n",
        "\n",
        "# get some data\n",
        "digits = load_digits()\n",
        "X, y = digits.data, digits.target\n",
        "\n",
        "# build a classifier\n",
        "clf = RandomForestClassifier(n_estimators=20)\n",
        "\n",
        "\n",
        "# Utility function to report best scores\n",
        "def report(results, n_top=3):\n",
        "    for i in range(1, n_top + 1):\n",
        "        candidates = np.flatnonzero(results['rank_test_score'] == i)\n",
        "        for candidate in candidates:\n",
        "            print(\"Model with rank: {0}\".format(i))\n",
        "            print(\"Mean validation score: {0:.3f} (std: {1:.3f})\".format(\n",
        "                  results['mean_test_score'][candidate],\n",
        "                  results['std_test_score'][candidate]))\n",
        "            print(\"Parameters: {0}\".format(results['params'][candidate]))\n",
        "            print(\"\")\n",
        "\n",
        "\n",
        "# specify parameters and distributions to sample from\n",
        "param_dist = {\"max_depth\": [3, None],\n",
        "              \"max_features\": sp_randint(1, 11),\n",
        "              \"min_samples_split\": sp_randint(2, 11),\n",
        "              \"bootstrap\": [True, False],\n",
        "              \"criterion\": [\"gini\", \"entropy\"]}\n",
        "\n",
        "# run randomized search\n",
        "n_iter_search = 20\n",
        "random_search = RandomizedSearchCV(clf, param_distributions=param_dist,\n",
        "                                   n_iter=n_iter_search, cv=5, iid=False)\n",
        "\n",
        "start = time()\n",
        "random_search.fit(X, y)\n",
        "print(\"RandomizedSearchCV took %.2f seconds for %d candidates\"\n",
        "      \" parameter settings.\" % ((time() - start), n_iter_search))\n",
        "report(random_search.cv_results_)\n",
        "\n",
        "# use a full grid over all parameters\n",
        "param_grid = {\"max_depth\": [3, None],\n",
        "              \"max_features\": [1, 3, 10],\n",
        "              \"min_samples_split\": [2, 3, 10],\n",
        "              \"bootstrap\": [True, False],\n",
        "              \"criterion\": [\"gini\", \"entropy\"]}\n",
        "\n",
        "# run grid search\n",
        "grid_search = GridSearchCV(clf, param_grid=param_grid, cv=5, iid=False)\n",
        "start = time()\n",
        "grid_search.fit(X, y)\n",
        "\n",
        "print(\"GridSearchCV took %.2f seconds for %d candidate parameter settings.\"\n",
        "      % (time() - start, len(grid_search.cv_results_['params'])))\n",
        "report(grid_search.cv_results_)"
      ],
      "execution_count": null,
      "outputs": [
        {
          "output_type": "stream",
          "text": [
            "RandomizedSearchCV took 4.72 seconds for 20 candidates parameter settings.\n",
            "Model with rank: 1\n",
            "Mean validation score: 0.941 (std: 0.022)\n",
            "Parameters: {'bootstrap': False, 'criterion': 'gini', 'max_depth': None, 'max_features': 6, 'min_samples_split': 5}\n",
            "\n",
            "Model with rank: 2\n",
            "Mean validation score: 0.933 (std: 0.011)\n",
            "Parameters: {'bootstrap': False, 'criterion': 'gini', 'max_depth': None, 'max_features': 4, 'min_samples_split': 8}\n",
            "\n",
            "Model with rank: 3\n",
            "Mean validation score: 0.931 (std: 0.019)\n",
            "Parameters: {'bootstrap': False, 'criterion': 'entropy', 'max_depth': None, 'max_features': 5, 'min_samples_split': 2}\n",
            "\n",
            "GridSearchCV took 16.61 seconds for 72 candidate parameter settings.\n",
            "Model with rank: 1\n",
            "Mean validation score: 0.939 (std: 0.015)\n",
            "Parameters: {'bootstrap': False, 'criterion': 'entropy', 'max_depth': None, 'max_features': 3, 'min_samples_split': 2}\n",
            "\n",
            "Model with rank: 2\n",
            "Mean validation score: 0.934 (std: 0.017)\n",
            "Parameters: {'bootstrap': True, 'criterion': 'entropy', 'max_depth': None, 'max_features': 10, 'min_samples_split': 2}\n",
            "\n",
            "Model with rank: 3\n",
            "Mean validation score: 0.930 (std: 0.022)\n",
            "Parameters: {'bootstrap': False, 'criterion': 'gini', 'max_depth': None, 'max_features': 10, 'min_samples_split': 2}\n",
            "\n"
          ],
          "name": "stdout"
        }
      ]
    },
    {
      "cell_type": "markdown",
      "metadata": {
        "id": "EkB2DK0laaGr",
        "colab_type": "text"
      },
      "source": [
        "## Model selection: practical tips\n",
        "\n",
        "* It is appropriate to start with a simple algorithm that can be used quickly.\n",
        "\n",
        "* Use learning curves to decide for more (or less) data, more (or less) attributes, etc.\n",
        "\n",
        "* Another technique used in model selection is *error analysis*, which corresponds to manually checking the examples (in the validation set) that the algorithm has erred. It is sometimes possible to detect a pattern of systematic error in these examples.\n",
        "\n",
        "* The motivation for using k-fold cross-validation is to be able to use a good amount of test or validation data, without significantly reducing the training data set. In situations where there is enough data to have a good-sized training data set, in addition to reasonable amounts of test and validation data, holdout cross validation can be used."
      ]
    },
    {
      "cell_type": "markdown",
      "metadata": {
        "id": "5GeybIdRaZvd",
        "colab_type": "text"
      },
      "source": [
        "\n",
        "# Case Study: Housing dataset\n"
      ]
    },
    {
      "cell_type": "markdown",
      "metadata": {
        "id": "fFMl9Q2dwfpw",
        "colab_type": "text"
      },
      "source": [
        "In this case study, we will use the *Housing* dataset to practice some concepts related to hyperparameter optimization. This dataset contains information about residences in Boston/USA. There are 506 samples and 13 variables in this dataset. This dataset is used to train regressors, in which the objective is to predict the value of home prices (MEDV feature) using the predictive features provided. This dataset can be loaded with the Scikit-Learn library, according to the code block below."
      ]
    },
    {
      "cell_type": "code",
      "metadata": {
        "id": "Zu6suAhQmRjp",
        "colab_type": "code",
        "colab": {}
      },
      "source": [
        "import numpy as np\n",
        "import matplotlib.pyplot as plt \n",
        "\n",
        "import pandas as pd  \n",
        "import seaborn as sns \n",
        "\n",
        "from sklearn.datasets import load_boston\n",
        "boston_dataset = load_boston()\n",
        "\n",
        "print(boston_dataset.keys())\n",
        "print(boston_dataset['DESCR'])\n",
        "\n",
        "boston = pd.DataFrame(boston_dataset.data, columns=boston_dataset.feature_names)\n",
        "boston['MEDV'] = boston_dataset.target\n",
        "boston.head()"
      ],
      "execution_count": null,
      "outputs": []
    },
    {
      "cell_type": "markdown",
      "metadata": {
        "id": "oSioPypYksrd",
        "colab_type": "text"
      },
      "source": [
        "**(1)** \n",
        "\n",
        "a) Perform the split of the Housing dataset into training and test subsets using holdout strategy. Set aside 80% of the data for training. After that, build a OLS regression model with that split, and evaluate the MSE in the test dataset.\n",
        "\n",
        "b) Repeat the previous experiment, this time using $k$-fold cross validation instead of the hold-out strategy. Use $k = 5$."
      ]
    },
    {
      "cell_type": "markdown",
      "metadata": {
        "id": "QZpAEr8ntiEa",
        "colab_type": "text"
      },
      "source": [
        "**(2)** Consider the following code block, which is intended to perform Grid Search on the `Housing` dataset. The `param_grid` parameter tells Scikit-Learn to first evaluate all 3 × 4 = 12 combinations of` n_estimators` and `max_features` with hyperparameters specified in the first dict (don't worry about what these hyperparameters mean for the moment), and then try all 2 × 3 = 6 combinations of hyperparameter values ​​in the second dict, but this time with the `bootstrap` hyperparameter set to` False` instead of `True` (which is the default value).\n",
        "In short, GS will explore 12 + 6 = 18 combinations of hyperparameter values ​​for the `RandomForestRegressor` algorithm.\n",
        "\n",
        "  a) Based on the value of $k$ defined to perform the cross-validation in the code below, how many models will be adjusted during GS?\n",
        "\n",
        "  b) Complete the code given below to tune the hyperparameters using Grid Search. What is the RMSE value for the best model?\n",
        "  \n",
        "  c) Use Random Search with 18 iterations. Is there a change in the  produced best combination of hyperparameter values, when compared to Grid Search? What is the new RMSE value?"
      ]
    },
    {
      "cell_type": "code",
      "metadata": {
        "id": "4P0gkhvutlq2",
        "colab_type": "code",
        "colab": {
          "base_uri": "https://localhost:8080/",
          "height": 380
        },
        "outputId": "9a834746-fb4b-433d-b5e3-cd1bfdefc423"
      },
      "source": [
        "from sklearn.model_selection import GridSearchCV\n",
        "from sklearn.ensemble import RandomForestRegressor\n",
        "\n",
        "param_grid = [\n",
        "    {'n_estimators': [3, 10, 30], 'max_features': [2, 4, 6, 8]},\n",
        "    {'bootstrap': [False], 'n_estimators': [3, 10], 'max_features': [2, 3, 4]},\n",
        "  ]\n",
        "\n",
        "forest_reg = RandomForestRegressor()\n",
        "grid_search = GridSearchCV(forest_reg, param_grid, cv=5,\n",
        "                           scoring='neg_mean_squared_error')\n",
        "grid_search.fit(X, y)"
      ],
      "execution_count": null,
      "outputs": [
        {
          "output_type": "execute_result",
          "data": {
            "text/plain": [
              "GridSearchCV(cv=5, error_score=nan,\n",
              "             estimator=RandomForestRegressor(bootstrap=True, ccp_alpha=0.0,\n",
              "                                             criterion='mse', max_depth=None,\n",
              "                                             max_features='auto',\n",
              "                                             max_leaf_nodes=None,\n",
              "                                             max_samples=None,\n",
              "                                             min_impurity_decrease=0.0,\n",
              "                                             min_impurity_split=None,\n",
              "                                             min_samples_leaf=1,\n",
              "                                             min_samples_split=2,\n",
              "                                             min_weight_fraction_leaf=0.0,\n",
              "                                             n_estimators=100, n_jobs=None,\n",
              "                                             oob_score=False, random_state=None,\n",
              "                                             verbose=0, warm_start=False),\n",
              "             iid='deprecated', n_jobs=None,\n",
              "             param_grid=[{'max_features': [2, 4, 6, 8],\n",
              "                          'n_estimators': [3, 10, 30]},\n",
              "                         {'bootstrap': [False], 'max_features': [2, 3, 4],\n",
              "                          'n_estimators': [3, 10]}],\n",
              "             pre_dispatch='2*n_jobs', refit=True, return_train_score=False,\n",
              "             scoring='neg_mean_squared_error', verbose=0)"
            ]
          },
          "metadata": {
            "tags": []
          },
          "execution_count": 13
        }
      ]
    },
    {
      "cell_type": "markdown",
      "metadata": {
        "id": "uW2yvX0wEbtD",
        "colab_type": "text"
      },
      "source": [
        "To load the data, the `load_boston` function is imported. To standardize the data, the normalization function was used, which places the data with $ \\ mu = 0 $ and $ \\ sigma ^ 2 = 1 $"
      ]
    },
    {
      "cell_type": "code",
      "metadata": {
        "id": "upsQ2LjPFDFC",
        "colab_type": "code",
        "colab": {
          "base_uri": "https://localhost:8080/",
          "height": 218
        },
        "outputId": "2e74fe20-a328-4fa0-f2e2-4459d00f1ec4"
      },
      "source": [
        "import pandas as pd   \n",
        "from sklearn.datasets import load_boston\n",
        "from sklearn.preprocessing import normalize\n",
        "\n",
        "boston_dataset = load_boston()\n",
        "\n",
        "boston = pd.DataFrame(normalize(boston_dataset.data), columns=boston_dataset.feature_names)\n",
        "boston['MEDV'] = boston_dataset.target\n",
        "boston.head()"
      ],
      "execution_count": null,
      "outputs": [
        {
          "output_type": "execute_result",
          "data": {
            "text/html": [
              "<div>\n",
              "<style scoped>\n",
              "    .dataframe tbody tr th:only-of-type {\n",
              "        vertical-align: middle;\n",
              "    }\n",
              "\n",
              "    .dataframe tbody tr th {\n",
              "        vertical-align: top;\n",
              "    }\n",
              "\n",
              "    .dataframe thead th {\n",
              "        text-align: right;\n",
              "    }\n",
              "</style>\n",
              "<table border=\"1\" class=\"dataframe\">\n",
              "  <thead>\n",
              "    <tr style=\"text-align: right;\">\n",
              "      <th></th>\n",
              "      <th>CRIM</th>\n",
              "      <th>ZN</th>\n",
              "      <th>INDUS</th>\n",
              "      <th>CHAS</th>\n",
              "      <th>NOX</th>\n",
              "      <th>RM</th>\n",
              "      <th>AGE</th>\n",
              "      <th>DIS</th>\n",
              "      <th>RAD</th>\n",
              "      <th>TAX</th>\n",
              "      <th>PTRATIO</th>\n",
              "      <th>B</th>\n",
              "      <th>LSTAT</th>\n",
              "      <th>MEDV</th>\n",
              "    </tr>\n",
              "  </thead>\n",
              "  <tbody>\n",
              "    <tr>\n",
              "      <th>0</th>\n",
              "      <td>0.000013</td>\n",
              "      <td>0.035997</td>\n",
              "      <td>0.004620</td>\n",
              "      <td>0.0</td>\n",
              "      <td>0.001076</td>\n",
              "      <td>0.013149</td>\n",
              "      <td>0.130388</td>\n",
              "      <td>0.008179</td>\n",
              "      <td>0.002000</td>\n",
              "      <td>0.591945</td>\n",
              "      <td>0.030597</td>\n",
              "      <td>0.793727</td>\n",
              "      <td>0.009959</td>\n",
              "      <td>24.0</td>\n",
              "    </tr>\n",
              "    <tr>\n",
              "      <th>1</th>\n",
              "      <td>0.000058</td>\n",
              "      <td>0.000000</td>\n",
              "      <td>0.014977</td>\n",
              "      <td>0.0</td>\n",
              "      <td>0.000994</td>\n",
              "      <td>0.013602</td>\n",
              "      <td>0.167140</td>\n",
              "      <td>0.010522</td>\n",
              "      <td>0.004237</td>\n",
              "      <td>0.512648</td>\n",
              "      <td>0.037707</td>\n",
              "      <td>0.840785</td>\n",
              "      <td>0.019362</td>\n",
              "      <td>21.6</td>\n",
              "    </tr>\n",
              "    <tr>\n",
              "      <th>2</th>\n",
              "      <td>0.000059</td>\n",
              "      <td>0.000000</td>\n",
              "      <td>0.015174</td>\n",
              "      <td>0.0</td>\n",
              "      <td>0.001007</td>\n",
              "      <td>0.015421</td>\n",
              "      <td>0.131140</td>\n",
              "      <td>0.010661</td>\n",
              "      <td>0.004293</td>\n",
              "      <td>0.519409</td>\n",
              "      <td>0.038204</td>\n",
              "      <td>0.843138</td>\n",
              "      <td>0.008650</td>\n",
              "      <td>34.7</td>\n",
              "    </tr>\n",
              "    <tr>\n",
              "      <th>3</th>\n",
              "      <td>0.000071</td>\n",
              "      <td>0.000000</td>\n",
              "      <td>0.004785</td>\n",
              "      <td>0.0</td>\n",
              "      <td>0.001005</td>\n",
              "      <td>0.015360</td>\n",
              "      <td>0.100527</td>\n",
              "      <td>0.013306</td>\n",
              "      <td>0.006585</td>\n",
              "      <td>0.487268</td>\n",
              "      <td>0.041045</td>\n",
              "      <td>0.866174</td>\n",
              "      <td>0.006453</td>\n",
              "      <td>33.4</td>\n",
              "    </tr>\n",
              "    <tr>\n",
              "      <th>4</th>\n",
              "      <td>0.000151</td>\n",
              "      <td>0.000000</td>\n",
              "      <td>0.004755</td>\n",
              "      <td>0.0</td>\n",
              "      <td>0.000999</td>\n",
              "      <td>0.015587</td>\n",
              "      <td>0.118209</td>\n",
              "      <td>0.013222</td>\n",
              "      <td>0.006543</td>\n",
              "      <td>0.484177</td>\n",
              "      <td>0.040784</td>\n",
              "      <td>0.865631</td>\n",
              "      <td>0.011625</td>\n",
              "      <td>36.2</td>\n",
              "    </tr>\n",
              "  </tbody>\n",
              "</table>\n",
              "</div>"
            ],
            "text/plain": [
              "       CRIM        ZN     INDUS  CHAS  ...   PTRATIO         B     LSTAT  MEDV\n",
              "0  0.000013  0.035997  0.004620   0.0  ...  0.030597  0.793727  0.009959  24.0\n",
              "1  0.000058  0.000000  0.014977   0.0  ...  0.037707  0.840785  0.019362  21.6\n",
              "2  0.000059  0.000000  0.015174   0.0  ...  0.038204  0.843138  0.008650  34.7\n",
              "3  0.000071  0.000000  0.004785   0.0  ...  0.041045  0.866174  0.006453  33.4\n",
              "4  0.000151  0.000000  0.004755   0.0  ...  0.040784  0.865631  0.011625  36.2\n",
              "\n",
              "[5 rows x 14 columns]"
            ]
          },
          "metadata": {
            "tags": []
          },
          "execution_count": 4
        }
      ]
    },
    {
      "cell_type": "markdown",
      "metadata": {
        "id": "MSNFYGeIFKvK",
        "colab_type": "text"
      },
      "source": [
        "### Answer: 1a\n",
        "\n",
        "We can use the function `train_test_split` to create a training dataset with  80% of the examples, as requested."
      ]
    },
    {
      "cell_type": "code",
      "metadata": {
        "id": "8XeiO1bdFMSp",
        "colab_type": "code",
        "colab": {
          "base_uri": "https://localhost:8080/",
          "height": 69
        },
        "outputId": "18349b3b-3323-4e0e-8da0-329fe14044f2"
      },
      "source": [
        "from sklearn.model_selection import train_test_split\n",
        "from sklearn.linear_model import LinearRegression\n",
        "from sklearn.metrics import mean_squared_error\n",
        "\n",
        "X = boston.drop(columns=['MEDV'])\n",
        "y = boston['MEDV']\n",
        "\n",
        "X_train, X_test, y_train, y_test = train_test_split(X, y, \n",
        "                                                    train_size=0.8, \n",
        "                                                    random_state=42)\n",
        "\n",
        "print(X_train.shape)\n",
        "print(X_test.shape)\n",
        "\n",
        "reg = LinearRegression()\n",
        "\n",
        "reg.fit(X_train, y_train)\n",
        "\n",
        "y_pred = reg.predict(X_test)\n",
        "\n",
        "print('MSE:', mean_squared_error(y_test, y_pred))"
      ],
      "execution_count": null,
      "outputs": [
        {
          "output_type": "stream",
          "text": [
            "(404, 13)\n",
            "(102, 13)\n",
            "MSE: 23.111795411360358\n"
          ],
          "name": "stdout"
        }
      ]
    },
    {
      "cell_type": "markdown",
      "metadata": {
        "id": "AjvFQrB8GLjw",
        "colab_type": "text"
      },
      "source": [
        "### Answer: 1b\n",
        "\n",
        "For the k-fold validation, five data divisions were performed between training and testing using the cross_value function with $ MSE $ validation metric"
      ]
    },
    {
      "cell_type": "code",
      "metadata": {
        "id": "_DKu59nNGbVL",
        "colab_type": "code",
        "colab": {
          "base_uri": "https://localhost:8080/",
          "height": 89
        },
        "outputId": "2aaa0c31-c6e7-4714-ec59-5de5f1eb2574"
      },
      "source": [
        "import numpy as np\n",
        "from sklearn.model_selection import cross_validate\n",
        "from sklearn.linear_model import LinearRegression\n",
        "\n",
        "X = boston.drop(columns=['MEDV'])\n",
        "y = boston['MEDV']\n",
        "\n",
        "reg = LinearRegression()\n",
        "\n",
        "scores = cross_validate(reg, X, y, cv=5, scoring='neg_mean_squared_error')\n",
        "\n",
        "print(scores)\n",
        "print(-scores['test_score'].mean())"
      ],
      "execution_count": null,
      "outputs": [
        {
          "output_type": "stream",
          "text": [
            "{'fit_time': array([0.00324059, 0.00256824, 0.00249481, 0.00248075, 0.00245643]), 'score_time': array([0.00126147, 0.00105405, 0.00102663, 0.00103593, 0.00105   ]), 'test_score': array([-10.80088053, -24.71134007, -24.49247001, -70.29785965,\n",
            "       -45.91573759])}\n",
            "35.24365757024931\n"
          ],
          "name": "stdout"
        }
      ]
    },
    {
      "cell_type": "markdown",
      "metadata": {
        "id": "138_5SHdG3u0",
        "colab_type": "text"
      },
      "source": [
        "### Answer: 2a\n",
        "\n",
        "In total, 90 models will be trained by Grid Search as there are 18 parameters that will be combined and trained 5 times each"
      ]
    },
    {
      "cell_type": "markdown",
      "metadata": {
        "id": "2DlOiV0NCXOk",
        "colab_type": "text"
      },
      "source": [
        "### Answer: 2b\n",
        "The code below performs the training using Grid Search"
      ]
    },
    {
      "cell_type": "code",
      "metadata": {
        "id": "i83XrXyhG8AT",
        "colab_type": "code",
        "colab": {
          "base_uri": "https://localhost:8080/",
          "height": 218
        },
        "outputId": "c7b934c4-4181-45ef-d763-03e036dc0ded"
      },
      "source": [
        "housing = pd.read_csv('housing.csv')\n",
        "housing.head()"
      ],
      "execution_count": null,
      "outputs": [
        {
          "output_type": "execute_result",
          "data": {
            "text/html": [
              "<div>\n",
              "<style scoped>\n",
              "    .dataframe tbody tr th:only-of-type {\n",
              "        vertical-align: middle;\n",
              "    }\n",
              "\n",
              "    .dataframe tbody tr th {\n",
              "        vertical-align: top;\n",
              "    }\n",
              "\n",
              "    .dataframe thead th {\n",
              "        text-align: right;\n",
              "    }\n",
              "</style>\n",
              "<table border=\"1\" class=\"dataframe\">\n",
              "  <thead>\n",
              "    <tr style=\"text-align: right;\">\n",
              "      <th></th>\n",
              "      <th>longitude</th>\n",
              "      <th>latitude</th>\n",
              "      <th>housing_median_age</th>\n",
              "      <th>total_rooms</th>\n",
              "      <th>total_bedrooms</th>\n",
              "      <th>population</th>\n",
              "      <th>households</th>\n",
              "      <th>median_income</th>\n",
              "      <th>median_house_value</th>\n",
              "      <th>ocean_proximity</th>\n",
              "    </tr>\n",
              "  </thead>\n",
              "  <tbody>\n",
              "    <tr>\n",
              "      <th>0</th>\n",
              "      <td>-122.23</td>\n",
              "      <td>37.88</td>\n",
              "      <td>41.0</td>\n",
              "      <td>880.0</td>\n",
              "      <td>129.0</td>\n",
              "      <td>322.0</td>\n",
              "      <td>126.0</td>\n",
              "      <td>8.3252</td>\n",
              "      <td>452600.0</td>\n",
              "      <td>NEAR BAY</td>\n",
              "    </tr>\n",
              "    <tr>\n",
              "      <th>1</th>\n",
              "      <td>-122.22</td>\n",
              "      <td>37.86</td>\n",
              "      <td>21.0</td>\n",
              "      <td>7099.0</td>\n",
              "      <td>1106.0</td>\n",
              "      <td>2401.0</td>\n",
              "      <td>1138.0</td>\n",
              "      <td>8.3014</td>\n",
              "      <td>358500.0</td>\n",
              "      <td>NEAR BAY</td>\n",
              "    </tr>\n",
              "    <tr>\n",
              "      <th>2</th>\n",
              "      <td>-122.24</td>\n",
              "      <td>37.85</td>\n",
              "      <td>52.0</td>\n",
              "      <td>1467.0</td>\n",
              "      <td>190.0</td>\n",
              "      <td>496.0</td>\n",
              "      <td>177.0</td>\n",
              "      <td>7.2574</td>\n",
              "      <td>352100.0</td>\n",
              "      <td>NEAR BAY</td>\n",
              "    </tr>\n",
              "    <tr>\n",
              "      <th>3</th>\n",
              "      <td>-122.25</td>\n",
              "      <td>37.85</td>\n",
              "      <td>52.0</td>\n",
              "      <td>1274.0</td>\n",
              "      <td>235.0</td>\n",
              "      <td>558.0</td>\n",
              "      <td>219.0</td>\n",
              "      <td>5.6431</td>\n",
              "      <td>341300.0</td>\n",
              "      <td>NEAR BAY</td>\n",
              "    </tr>\n",
              "    <tr>\n",
              "      <th>4</th>\n",
              "      <td>-122.25</td>\n",
              "      <td>37.85</td>\n",
              "      <td>52.0</td>\n",
              "      <td>1627.0</td>\n",
              "      <td>280.0</td>\n",
              "      <td>565.0</td>\n",
              "      <td>259.0</td>\n",
              "      <td>3.8462</td>\n",
              "      <td>342200.0</td>\n",
              "      <td>NEAR BAY</td>\n",
              "    </tr>\n",
              "  </tbody>\n",
              "</table>\n",
              "</div>"
            ],
            "text/plain": [
              "   longitude  latitude  ...  median_house_value  ocean_proximity\n",
              "0    -122.23     37.88  ...            452600.0         NEAR BAY\n",
              "1    -122.22     37.86  ...            358500.0         NEAR BAY\n",
              "2    -122.24     37.85  ...            352100.0         NEAR BAY\n",
              "3    -122.25     37.85  ...            341300.0         NEAR BAY\n",
              "4    -122.25     37.85  ...            342200.0         NEAR BAY\n",
              "\n",
              "[5 rows x 10 columns]"
            ]
          },
          "metadata": {
            "tags": []
          },
          "execution_count": 16
        }
      ]
    },
    {
      "cell_type": "code",
      "metadata": {
        "id": "qlZ8no0G-7xH",
        "colab_type": "code",
        "colab": {}
      },
      "source": [
        "housing = pd.get_dummies(housing, drop_first=True)\n",
        "housing = housing.fillna(0)\n",
        "from sklearn.preprocessing import StandardScaler\n",
        "\n",
        "scaler = StandardScaler()\n",
        "\n",
        "housing_prepared = scaler.fit_transform(housing.drop(columns='median_house_value'))\n",
        "housing_labels = housing.loc[:,'median_house_value'].values"
      ],
      "execution_count": null,
      "outputs": []
    },
    {
      "cell_type": "code",
      "metadata": {
        "id": "AYU3feCs_w9K",
        "colab_type": "code",
        "colab": {
          "base_uri": "https://localhost:8080/",
          "height": 35
        },
        "outputId": "11d41e11-cb3c-462b-a5c3-ad18af5cedef"
      },
      "source": [
        "housing_labels"
      ],
      "execution_count": null,
      "outputs": [
        {
          "output_type": "execute_result",
          "data": {
            "text/plain": [
              "array([452600., 358500., 352100., ...,  92300.,  84700.,  89400.])"
            ]
          },
          "metadata": {
            "tags": []
          },
          "execution_count": 24
        }
      ]
    },
    {
      "cell_type": "code",
      "metadata": {
        "id": "d5OXx67cG-Nu",
        "colab_type": "code",
        "colab": {
          "base_uri": "https://localhost:8080/",
          "height": 415
        },
        "outputId": "a15afce8-c95e-48aa-a61f-594b5f5cf1ff"
      },
      "source": [
        "from sklearn.model_selection import GridSearchCV\n",
        "from sklearn.ensemble import RandomForestRegressor\n",
        "\n",
        "param_grid = [\n",
        "    {'n_estimators': [3, 10, 30], 'max_features': [2, 4, 6, 8]},\n",
        "    {'bootstrap': [False], 'n_estimators': [3, 10], 'max_features': [2, 3, 4]},\n",
        "  ]\n",
        "\n",
        "forest_reg = RandomForestRegressor()\n",
        "grid_search = GridSearchCV(forest_reg, param_grid, cv=5,\n",
        "                           scoring='neg_mean_squared_error')\n",
        "%time grid_search.fit(housing_prepared, housing_labels)"
      ],
      "execution_count": null,
      "outputs": [
        {
          "output_type": "stream",
          "text": [
            "CPU times: user 1min 2s, sys: 223 ms, total: 1min 2s\n",
            "Wall time: 1min 2s\n"
          ],
          "name": "stdout"
        },
        {
          "output_type": "execute_result",
          "data": {
            "text/plain": [
              "GridSearchCV(cv=5, error_score=nan,\n",
              "             estimator=RandomForestRegressor(bootstrap=True, ccp_alpha=0.0,\n",
              "                                             criterion='mse', max_depth=None,\n",
              "                                             max_features='auto',\n",
              "                                             max_leaf_nodes=None,\n",
              "                                             max_samples=None,\n",
              "                                             min_impurity_decrease=0.0,\n",
              "                                             min_impurity_split=None,\n",
              "                                             min_samples_leaf=1,\n",
              "                                             min_samples_split=2,\n",
              "                                             min_weight_fraction_leaf=0.0,\n",
              "                                             n_estimators=100, n_jobs=None,\n",
              "                                             oob_score=False, random_state=None,\n",
              "                                             verbose=0, warm_start=False),\n",
              "             iid='deprecated', n_jobs=None,\n",
              "             param_grid=[{'max_features': [2, 4, 6, 8],\n",
              "                          'n_estimators': [3, 10, 30]},\n",
              "                         {'bootstrap': [False], 'max_features': [2, 3, 4],\n",
              "                          'n_estimators': [3, 10]}],\n",
              "             pre_dispatch='2*n_jobs', refit=True, return_train_score=False,\n",
              "             scoring='neg_mean_squared_error', verbose=0)"
            ]
          },
          "metadata": {
            "tags": []
          },
          "execution_count": 30
        }
      ]
    },
    {
      "cell_type": "code",
      "metadata": {
        "id": "rr4PgbUQHB1j",
        "colab_type": "code",
        "colab": {
          "base_uri": "https://localhost:8080/",
          "height": 35
        },
        "outputId": "a1d69334-7d6b-454a-f328-e0337854061c"
      },
      "source": [
        "grid_search.best_params_"
      ],
      "execution_count": null,
      "outputs": [
        {
          "output_type": "execute_result",
          "data": {
            "text/plain": [
              "{'max_features': 2, 'n_estimators': 30}"
            ]
          },
          "metadata": {
            "tags": []
          },
          "execution_count": 26
        }
      ]
    },
    {
      "cell_type": "code",
      "metadata": {
        "id": "9G9pmH7OHFGK",
        "colab_type": "code",
        "colab": {
          "base_uri": "https://localhost:8080/",
          "height": 35
        },
        "outputId": "5a88b92d-5111-403c-8d64-2b1fc2241e80"
      },
      "source": [
        "import numpy as np\n",
        "\n",
        "rmse = np.sqrt(-grid_search.best_score_)\n",
        "\n",
        "rmse"
      ],
      "execution_count": null,
      "outputs": [
        {
          "output_type": "execute_result",
          "data": {
            "text/plain": [
              "72005.41921556783"
            ]
          },
          "metadata": {
            "tags": []
          },
          "execution_count": 28
        }
      ]
    },
    {
      "cell_type": "markdown",
      "metadata": {
        "id": "o4H47tctDEa2",
        "colab_type": "text"
      },
      "source": [
        "### Answer: 2c\n",
        "\n",
        "The code below performs the training using Random Search\n"
      ]
    },
    {
      "cell_type": "code",
      "metadata": {
        "id": "tcMgkMY1HImY",
        "colab_type": "code",
        "colab": {
          "base_uri": "https://localhost:8080/",
          "height": 1000
        },
        "outputId": "6bd6c7cd-47fd-45b3-b3a6-0183633cd43e"
      },
      "source": [
        "from sklearn.model_selection import RandomizedSearchCV\n",
        "from sklearn.ensemble import RandomForestRegressor\n",
        "\n",
        "param_grid = [\n",
        "    {'n_estimators': [3, 10, 30], 'max_features': [2, 4, 6, 8]},\n",
        "    {'bootstrap': [False], 'n_estimators': [3, 10], 'max_features': [2, 3, 4]},\n",
        "  ]\n",
        "\n",
        "forest_reg = RandomForestRegressor()\n",
        "random_search = RandomizedSearchCV(forest_reg, \n",
        "                                   param_grid, \n",
        "                                   cv = 5,\n",
        "                                   scoring='neg_mean_squared_error',\n",
        "                                   n_iter = 18,\n",
        "                                   verbose = 2)\n",
        "%time random_search.fit(housing_prepared, housing_labels)"
      ],
      "execution_count": null,
      "outputs": [
        {
          "output_type": "stream",
          "text": [
            "Fitting 5 folds for each of 18 candidates, totalling 90 fits\n",
            "[CV] n_estimators=3, max_features=2 ..................................\n",
            "[CV] ................... n_estimators=3, max_features=2, total=   0.1s\n",
            "[CV] n_estimators=3, max_features=2 ..................................\n"
          ],
          "name": "stdout"
        },
        {
          "output_type": "stream",
          "text": [
            "[Parallel(n_jobs=1)]: Using backend SequentialBackend with 1 concurrent workers.\n",
            "[Parallel(n_jobs=1)]: Done   1 out of   1 | elapsed:    0.1s remaining:    0.0s\n"
          ],
          "name": "stderr"
        },
        {
          "output_type": "stream",
          "text": [
            "[CV] ................... n_estimators=3, max_features=2, total=   0.1s\n",
            "[CV] n_estimators=3, max_features=2 ..................................\n",
            "[CV] ................... n_estimators=3, max_features=2, total=   0.1s\n",
            "[CV] n_estimators=3, max_features=2 ..................................\n",
            "[CV] ................... n_estimators=3, max_features=2, total=   0.1s\n",
            "[CV] n_estimators=3, max_features=2 ..................................\n",
            "[CV] ................... n_estimators=3, max_features=2, total=   0.1s\n",
            "[CV] n_estimators=10, max_features=2 .................................\n",
            "[CV] .................. n_estimators=10, max_features=2, total=   0.3s\n",
            "[CV] n_estimators=10, max_features=2 .................................\n",
            "[CV] .................. n_estimators=10, max_features=2, total=   0.3s\n",
            "[CV] n_estimators=10, max_features=2 .................................\n",
            "[CV] .................. n_estimators=10, max_features=2, total=   0.3s\n",
            "[CV] n_estimators=10, max_features=2 .................................\n",
            "[CV] .................. n_estimators=10, max_features=2, total=   0.3s\n",
            "[CV] n_estimators=10, max_features=2 .................................\n",
            "[CV] .................. n_estimators=10, max_features=2, total=   0.3s\n",
            "[CV] n_estimators=30, max_features=2 .................................\n",
            "[CV] .................. n_estimators=30, max_features=2, total=   0.9s\n",
            "[CV] n_estimators=30, max_features=2 .................................\n",
            "[CV] .................. n_estimators=30, max_features=2, total=   1.0s\n",
            "[CV] n_estimators=30, max_features=2 .................................\n",
            "[CV] .................. n_estimators=30, max_features=2, total=   0.9s\n",
            "[CV] n_estimators=30, max_features=2 .................................\n",
            "[CV] .................. n_estimators=30, max_features=2, total=   0.9s\n",
            "[CV] n_estimators=30, max_features=2 .................................\n",
            "[CV] .................. n_estimators=30, max_features=2, total=   0.9s\n",
            "[CV] n_estimators=3, max_features=4 ..................................\n",
            "[CV] ................... n_estimators=3, max_features=4, total=   0.1s\n",
            "[CV] n_estimators=3, max_features=4 ..................................\n",
            "[CV] ................... n_estimators=3, max_features=4, total=   0.2s\n",
            "[CV] n_estimators=3, max_features=4 ..................................\n",
            "[CV] ................... n_estimators=3, max_features=4, total=   0.1s\n",
            "[CV] n_estimators=3, max_features=4 ..................................\n",
            "[CV] ................... n_estimators=3, max_features=4, total=   0.2s\n",
            "[CV] n_estimators=3, max_features=4 ..................................\n",
            "[CV] ................... n_estimators=3, max_features=4, total=   0.1s\n",
            "[CV] n_estimators=10, max_features=4 .................................\n",
            "[CV] .................. n_estimators=10, max_features=4, total=   0.5s\n",
            "[CV] n_estimators=10, max_features=4 .................................\n",
            "[CV] .................. n_estimators=10, max_features=4, total=   0.5s\n",
            "[CV] n_estimators=10, max_features=4 .................................\n",
            "[CV] .................. n_estimators=10, max_features=4, total=   0.5s\n",
            "[CV] n_estimators=10, max_features=4 .................................\n",
            "[CV] .................. n_estimators=10, max_features=4, total=   0.5s\n",
            "[CV] n_estimators=10, max_features=4 .................................\n",
            "[CV] .................. n_estimators=10, max_features=4, total=   0.5s\n",
            "[CV] n_estimators=30, max_features=4 .................................\n",
            "[CV] .................. n_estimators=30, max_features=4, total=   1.5s\n",
            "[CV] n_estimators=30, max_features=4 .................................\n",
            "[CV] .................. n_estimators=30, max_features=4, total=   1.5s\n",
            "[CV] n_estimators=30, max_features=4 .................................\n",
            "[CV] .................. n_estimators=30, max_features=4, total=   1.4s\n",
            "[CV] n_estimators=30, max_features=4 .................................\n",
            "[CV] .................. n_estimators=30, max_features=4, total=   1.5s\n",
            "[CV] n_estimators=30, max_features=4 .................................\n",
            "[CV] .................. n_estimators=30, max_features=4, total=   1.4s\n",
            "[CV] n_estimators=3, max_features=6 ..................................\n",
            "[CV] ................... n_estimators=3, max_features=6, total=   0.2s\n",
            "[CV] n_estimators=3, max_features=6 ..................................\n",
            "[CV] ................... n_estimators=3, max_features=6, total=   0.2s\n",
            "[CV] n_estimators=3, max_features=6 ..................................\n",
            "[CV] ................... n_estimators=3, max_features=6, total=   0.2s\n",
            "[CV] n_estimators=3, max_features=6 ..................................\n",
            "[CV] ................... n_estimators=3, max_features=6, total=   0.2s\n",
            "[CV] n_estimators=3, max_features=6 ..................................\n",
            "[CV] ................... n_estimators=3, max_features=6, total=   0.2s\n",
            "[CV] n_estimators=10, max_features=6 .................................\n",
            "[CV] .................. n_estimators=10, max_features=6, total=   0.7s\n",
            "[CV] n_estimators=10, max_features=6 .................................\n",
            "[CV] .................. n_estimators=10, max_features=6, total=   0.7s\n",
            "[CV] n_estimators=10, max_features=6 .................................\n",
            "[CV] .................. n_estimators=10, max_features=6, total=   0.7s\n",
            "[CV] n_estimators=10, max_features=6 .................................\n",
            "[CV] .................. n_estimators=10, max_features=6, total=   0.7s\n",
            "[CV] n_estimators=10, max_features=6 .................................\n",
            "[CV] .................. n_estimators=10, max_features=6, total=   0.7s\n",
            "[CV] n_estimators=30, max_features=6 .................................\n",
            "[CV] .................. n_estimators=30, max_features=6, total=   2.0s\n",
            "[CV] n_estimators=30, max_features=6 .................................\n",
            "[CV] .................. n_estimators=30, max_features=6, total=   2.0s\n",
            "[CV] n_estimators=30, max_features=6 .................................\n",
            "[CV] .................. n_estimators=30, max_features=6, total=   2.0s\n",
            "[CV] n_estimators=30, max_features=6 .................................\n",
            "[CV] .................. n_estimators=30, max_features=6, total=   2.0s\n",
            "[CV] n_estimators=30, max_features=6 .................................\n",
            "[CV] .................. n_estimators=30, max_features=6, total=   2.0s\n",
            "[CV] n_estimators=3, max_features=8 ..................................\n",
            "[CV] ................... n_estimators=3, max_features=8, total=   0.3s\n",
            "[CV] n_estimators=3, max_features=8 ..................................\n",
            "[CV] ................... n_estimators=3, max_features=8, total=   0.3s\n",
            "[CV] n_estimators=3, max_features=8 ..................................\n",
            "[CV] ................... n_estimators=3, max_features=8, total=   0.3s\n",
            "[CV] n_estimators=3, max_features=8 ..................................\n",
            "[CV] ................... n_estimators=3, max_features=8, total=   0.3s\n",
            "[CV] n_estimators=3, max_features=8 ..................................\n",
            "[CV] ................... n_estimators=3, max_features=8, total=   0.3s\n",
            "[CV] n_estimators=10, max_features=8 .................................\n",
            "[CV] .................. n_estimators=10, max_features=8, total=   0.8s\n",
            "[CV] n_estimators=10, max_features=8 .................................\n",
            "[CV] .................. n_estimators=10, max_features=8, total=   0.9s\n",
            "[CV] n_estimators=10, max_features=8 .................................\n",
            "[CV] .................. n_estimators=10, max_features=8, total=   0.8s\n",
            "[CV] n_estimators=10, max_features=8 .................................\n",
            "[CV] .................. n_estimators=10, max_features=8, total=   0.9s\n",
            "[CV] n_estimators=10, max_features=8 .................................\n",
            "[CV] .................. n_estimators=10, max_features=8, total=   0.9s\n",
            "[CV] n_estimators=30, max_features=8 .................................\n",
            "[CV] .................. n_estimators=30, max_features=8, total=   2.5s\n",
            "[CV] n_estimators=30, max_features=8 .................................\n",
            "[CV] .................. n_estimators=30, max_features=8, total=   2.6s\n",
            "[CV] n_estimators=30, max_features=8 .................................\n",
            "[CV] .................. n_estimators=30, max_features=8, total=   2.5s\n",
            "[CV] n_estimators=30, max_features=8 .................................\n",
            "[CV] .................. n_estimators=30, max_features=8, total=   2.5s\n",
            "[CV] n_estimators=30, max_features=8 .................................\n",
            "[CV] .................. n_estimators=30, max_features=8, total=   2.5s\n",
            "[CV] n_estimators=3, max_features=2, bootstrap=False .................\n",
            "[CV] .. n_estimators=3, max_features=2, bootstrap=False, total=   0.1s\n",
            "[CV] n_estimators=3, max_features=2, bootstrap=False .................\n",
            "[CV] .. n_estimators=3, max_features=2, bootstrap=False, total=   0.1s\n",
            "[CV] n_estimators=3, max_features=2, bootstrap=False .................\n",
            "[CV] .. n_estimators=3, max_features=2, bootstrap=False, total=   0.1s\n",
            "[CV] n_estimators=3, max_features=2, bootstrap=False .................\n",
            "[CV] .. n_estimators=3, max_features=2, bootstrap=False, total=   0.1s\n",
            "[CV] n_estimators=3, max_features=2, bootstrap=False .................\n",
            "[CV] .. n_estimators=3, max_features=2, bootstrap=False, total=   0.1s\n",
            "[CV] n_estimators=10, max_features=2, bootstrap=False ................\n",
            "[CV] . n_estimators=10, max_features=2, bootstrap=False, total=   0.5s\n",
            "[CV] n_estimators=10, max_features=2, bootstrap=False ................\n",
            "[CV] . n_estimators=10, max_features=2, bootstrap=False, total=   0.5s\n",
            "[CV] n_estimators=10, max_features=2, bootstrap=False ................\n",
            "[CV] . n_estimators=10, max_features=2, bootstrap=False, total=   0.5s\n",
            "[CV] n_estimators=10, max_features=2, bootstrap=False ................\n",
            "[CV] . n_estimators=10, max_features=2, bootstrap=False, total=   0.5s\n",
            "[CV] n_estimators=10, max_features=2, bootstrap=False ................\n",
            "[CV] . n_estimators=10, max_features=2, bootstrap=False, total=   0.5s\n",
            "[CV] n_estimators=3, max_features=3, bootstrap=False .................\n",
            "[CV] .. n_estimators=3, max_features=3, bootstrap=False, total=   0.2s\n",
            "[CV] n_estimators=3, max_features=3, bootstrap=False .................\n",
            "[CV] .. n_estimators=3, max_features=3, bootstrap=False, total=   0.2s\n",
            "[CV] n_estimators=3, max_features=3, bootstrap=False .................\n",
            "[CV] .. n_estimators=3, max_features=3, bootstrap=False, total=   0.2s\n",
            "[CV] n_estimators=3, max_features=3, bootstrap=False .................\n",
            "[CV] .. n_estimators=3, max_features=3, bootstrap=False, total=   0.2s\n",
            "[CV] n_estimators=3, max_features=3, bootstrap=False .................\n",
            "[CV] .. n_estimators=3, max_features=3, bootstrap=False, total=   0.2s\n",
            "[CV] n_estimators=10, max_features=3, bootstrap=False ................\n",
            "[CV] . n_estimators=10, max_features=3, bootstrap=False, total=   0.6s\n",
            "[CV] n_estimators=10, max_features=3, bootstrap=False ................\n",
            "[CV] . n_estimators=10, max_features=3, bootstrap=False, total=   0.6s\n",
            "[CV] n_estimators=10, max_features=3, bootstrap=False ................\n",
            "[CV] . n_estimators=10, max_features=3, bootstrap=False, total=   0.6s\n",
            "[CV] n_estimators=10, max_features=3, bootstrap=False ................\n",
            "[CV] . n_estimators=10, max_features=3, bootstrap=False, total=   0.6s\n",
            "[CV] n_estimators=10, max_features=3, bootstrap=False ................\n",
            "[CV] . n_estimators=10, max_features=3, bootstrap=False, total=   0.6s\n",
            "[CV] n_estimators=3, max_features=4, bootstrap=False .................\n",
            "[CV] .. n_estimators=3, max_features=4, bootstrap=False, total=   0.2s\n",
            "[CV] n_estimators=3, max_features=4, bootstrap=False .................\n",
            "[CV] .. n_estimators=3, max_features=4, bootstrap=False, total=   0.2s\n",
            "[CV] n_estimators=3, max_features=4, bootstrap=False .................\n",
            "[CV] .. n_estimators=3, max_features=4, bootstrap=False, total=   0.2s\n",
            "[CV] n_estimators=3, max_features=4, bootstrap=False .................\n",
            "[CV] .. n_estimators=3, max_features=4, bootstrap=False, total=   0.2s\n",
            "[CV] n_estimators=3, max_features=4, bootstrap=False .................\n",
            "[CV] .. n_estimators=3, max_features=4, bootstrap=False, total=   0.2s\n",
            "[CV] n_estimators=10, max_features=4, bootstrap=False ................\n",
            "[CV] . n_estimators=10, max_features=4, bootstrap=False, total=   0.8s\n",
            "[CV] n_estimators=10, max_features=4, bootstrap=False ................\n",
            "[CV] . n_estimators=10, max_features=4, bootstrap=False, total=   0.8s\n",
            "[CV] n_estimators=10, max_features=4, bootstrap=False ................\n",
            "[CV] . n_estimators=10, max_features=4, bootstrap=False, total=   0.8s\n",
            "[CV] n_estimators=10, max_features=4, bootstrap=False ................\n",
            "[CV] . n_estimators=10, max_features=4, bootstrap=False, total=   0.8s\n",
            "[CV] n_estimators=10, max_features=4, bootstrap=False ................\n",
            "[CV] . n_estimators=10, max_features=4, bootstrap=False, total=   0.7s\n"
          ],
          "name": "stdout"
        },
        {
          "output_type": "stream",
          "text": [
            "[Parallel(n_jobs=1)]: Done  90 out of  90 | elapsed:  1.0min finished\n"
          ],
          "name": "stderr"
        },
        {
          "output_type": "stream",
          "text": [
            "CPU times: user 1min 2s, sys: 249 ms, total: 1min 2s\n",
            "Wall time: 1min 2s\n"
          ],
          "name": "stdout"
        },
        {
          "output_type": "execute_result",
          "data": {
            "text/plain": [
              "RandomizedSearchCV(cv=5, error_score=nan,\n",
              "                   estimator=RandomForestRegressor(bootstrap=True,\n",
              "                                                   ccp_alpha=0.0,\n",
              "                                                   criterion='mse',\n",
              "                                                   max_depth=None,\n",
              "                                                   max_features='auto',\n",
              "                                                   max_leaf_nodes=None,\n",
              "                                                   max_samples=None,\n",
              "                                                   min_impurity_decrease=0.0,\n",
              "                                                   min_impurity_split=None,\n",
              "                                                   min_samples_leaf=1,\n",
              "                                                   min_samples_split=2,\n",
              "                                                   min_weight_fraction_leaf=0.0,\n",
              "                                                   n_estimators=100,\n",
              "                                                   n_jobs=None, oob_score=False,\n",
              "                                                   random_state=None, verbose=0,\n",
              "                                                   warm_start=False),\n",
              "                   iid='deprecated', n_iter=18, n_jobs=None,\n",
              "                   param_distributions=[{'max_features': [2, 4, 6, 8],\n",
              "                                         'n_estimators': [3, 10, 30]},\n",
              "                                        {'bootstrap': [False],\n",
              "                                         'max_features': [2, 3, 4],\n",
              "                                         'n_estimators': [3, 10]}],\n",
              "                   pre_dispatch='2*n_jobs', random_state=None, refit=True,\n",
              "                   return_train_score=False, scoring='neg_mean_squared_error',\n",
              "                   verbose=2)"
            ]
          },
          "metadata": {
            "tags": []
          },
          "execution_count": 34
        }
      ]
    },
    {
      "cell_type": "code",
      "metadata": {
        "id": "crebtgnXHLNs",
        "colab_type": "code",
        "colab": {
          "base_uri": "https://localhost:8080/",
          "height": 35
        },
        "outputId": "19210af6-aca8-4a64-b435-30c2d5b7986f"
      },
      "source": [
        "random_search.best_params_"
      ],
      "execution_count": null,
      "outputs": [
        {
          "output_type": "execute_result",
          "data": {
            "text/plain": [
              "{'max_features': 2, 'n_estimators': 30}"
            ]
          },
          "metadata": {
            "tags": []
          },
          "execution_count": 35
        }
      ]
    },
    {
      "cell_type": "code",
      "metadata": {
        "id": "mJQhCxMHHNbg",
        "colab_type": "code",
        "colab": {
          "base_uri": "https://localhost:8080/",
          "height": 35
        },
        "outputId": "f4804002-7884-496f-d229-2681e2221673"
      },
      "source": [
        "import numpy as np\n",
        "rmse = np.sqrt(-random_search.best_score_)\n",
        "rmse"
      ],
      "execution_count": null,
      "outputs": [
        {
          "output_type": "execute_result",
          "data": {
            "text/plain": [
              "71881.3543860473"
            ]
          },
          "metadata": {
            "tags": []
          },
          "execution_count": 36
        }
      ]
    },
    {
      "cell_type": "markdown",
      "metadata": {
        "id": "cJuVwtxRjlkh",
        "colab_type": "text"
      },
      "source": [
        "# Case Study: Wine Quality dataset\n",
        "\n",
        "Let us see another case study of applying hyperparameter optimization using the Wine Quality dataset."
      ]
    },
    {
      "cell_type": "code",
      "metadata": {
        "id": "-BNaX00jXwUt",
        "colab_type": "code",
        "colab": {}
      },
      "source": [
        "import pandas as pd\n",
        "from sklearn.model_selection import train_test_split\n",
        "\n",
        "# Read in and create target\n",
        "wine_data = pd.read_csv('winequality-red.csv')\n",
        "wine_data['high_quality'] = [1 if x >=7 else 0 for x in wine_data['quality']]\n",
        "\n",
        "# Split data\n",
        "X = wine_data.drop(['quality'], axis=1)\n",
        "y = wine_data['high_quality']\n",
        "\n",
        "X_train, X_test, y_train, y_test = train_test_split(X, y, test_size=0.25, random_state=42)"
      ],
      "execution_count": null,
      "outputs": []
    },
    {
      "cell_type": "code",
      "metadata": {
        "id": "79d2My1npcRP",
        "colab_type": "code",
        "colab": {
          "base_uri": "https://localhost:8080/",
          "height": 221
        },
        "outputId": "0a2ca968-c4e8-4d45-f624-121d9772dd11"
      },
      "source": [
        "import pandas as pd\n",
        "from sklearn.model_selection import train_test_split\n",
        "\n",
        "# Read in and create target\n",
        "wine_df = pd.read_csv('winequality-red.csv')\n",
        "\n",
        "wine_df.head()"
      ],
      "execution_count": null,
      "outputs": [
        {
          "output_type": "execute_result",
          "data": {
            "text/html": [
              "<div>\n",
              "<style scoped>\n",
              "    .dataframe tbody tr th:only-of-type {\n",
              "        vertical-align: middle;\n",
              "    }\n",
              "\n",
              "    .dataframe tbody tr th {\n",
              "        vertical-align: top;\n",
              "    }\n",
              "\n",
              "    .dataframe thead th {\n",
              "        text-align: right;\n",
              "    }\n",
              "</style>\n",
              "<table border=\"1\" class=\"dataframe\">\n",
              "  <thead>\n",
              "    <tr style=\"text-align: right;\">\n",
              "      <th></th>\n",
              "      <th>fixed acidity</th>\n",
              "      <th>volatile acidity</th>\n",
              "      <th>citric acid</th>\n",
              "      <th>residual sugar</th>\n",
              "      <th>chlorides</th>\n",
              "      <th>free sulfur dioxide</th>\n",
              "      <th>total sulfur dioxide</th>\n",
              "      <th>density</th>\n",
              "      <th>pH</th>\n",
              "      <th>sulphates</th>\n",
              "      <th>alcohol</th>\n",
              "      <th>quality</th>\n",
              "    </tr>\n",
              "  </thead>\n",
              "  <tbody>\n",
              "    <tr>\n",
              "      <th>0</th>\n",
              "      <td>7.4</td>\n",
              "      <td>0.70</td>\n",
              "      <td>0.00</td>\n",
              "      <td>1.9</td>\n",
              "      <td>0.076</td>\n",
              "      <td>11.0</td>\n",
              "      <td>34.0</td>\n",
              "      <td>0.9978</td>\n",
              "      <td>3.51</td>\n",
              "      <td>0.56</td>\n",
              "      <td>9.4</td>\n",
              "      <td>5</td>\n",
              "    </tr>\n",
              "    <tr>\n",
              "      <th>1</th>\n",
              "      <td>7.8</td>\n",
              "      <td>0.88</td>\n",
              "      <td>0.00</td>\n",
              "      <td>2.6</td>\n",
              "      <td>0.098</td>\n",
              "      <td>25.0</td>\n",
              "      <td>67.0</td>\n",
              "      <td>0.9968</td>\n",
              "      <td>3.20</td>\n",
              "      <td>0.68</td>\n",
              "      <td>9.8</td>\n",
              "      <td>5</td>\n",
              "    </tr>\n",
              "    <tr>\n",
              "      <th>2</th>\n",
              "      <td>7.8</td>\n",
              "      <td>0.76</td>\n",
              "      <td>0.04</td>\n",
              "      <td>2.3</td>\n",
              "      <td>0.092</td>\n",
              "      <td>15.0</td>\n",
              "      <td>54.0</td>\n",
              "      <td>0.9970</td>\n",
              "      <td>3.26</td>\n",
              "      <td>0.65</td>\n",
              "      <td>9.8</td>\n",
              "      <td>5</td>\n",
              "    </tr>\n",
              "    <tr>\n",
              "      <th>3</th>\n",
              "      <td>11.2</td>\n",
              "      <td>0.28</td>\n",
              "      <td>0.56</td>\n",
              "      <td>1.9</td>\n",
              "      <td>0.075</td>\n",
              "      <td>17.0</td>\n",
              "      <td>60.0</td>\n",
              "      <td>0.9980</td>\n",
              "      <td>3.16</td>\n",
              "      <td>0.58</td>\n",
              "      <td>9.8</td>\n",
              "      <td>6</td>\n",
              "    </tr>\n",
              "    <tr>\n",
              "      <th>4</th>\n",
              "      <td>7.4</td>\n",
              "      <td>0.70</td>\n",
              "      <td>0.00</td>\n",
              "      <td>1.9</td>\n",
              "      <td>0.076</td>\n",
              "      <td>11.0</td>\n",
              "      <td>34.0</td>\n",
              "      <td>0.9978</td>\n",
              "      <td>3.51</td>\n",
              "      <td>0.56</td>\n",
              "      <td>9.4</td>\n",
              "      <td>5</td>\n",
              "    </tr>\n",
              "  </tbody>\n",
              "</table>\n",
              "</div>"
            ],
            "text/plain": [
              "   fixed acidity  volatile acidity  citric acid  ...  sulphates  alcohol  quality\n",
              "0            7.4              0.70         0.00  ...       0.56      9.4        5\n",
              "1            7.8              0.88         0.00  ...       0.68      9.8        5\n",
              "2            7.8              0.76         0.04  ...       0.65      9.8        5\n",
              "3           11.2              0.28         0.56  ...       0.58      9.8        6\n",
              "4            7.4              0.70         0.00  ...       0.56      9.4        5\n",
              "\n",
              "[5 rows x 12 columns]"
            ]
          },
          "metadata": {
            "tags": []
          },
          "execution_count": 47
        }
      ]
    },
    {
      "cell_type": "markdown",
      "metadata": {
        "id": "eFCCA0-B8zGK",
        "colab_type": "text"
      },
      "source": [
        ""
      ]
    },
    {
      "cell_type": "code",
      "metadata": {
        "id": "08hFy2Ow80AU",
        "colab_type": "code",
        "colab": {
          "base_uri": "https://localhost:8080/",
          "height": 340
        },
        "outputId": "0c1ca340-36ab-48d4-83c6-f2e999ce514e"
      },
      "source": [
        "wine_df.info()"
      ],
      "execution_count": null,
      "outputs": [
        {
          "output_type": "stream",
          "text": [
            "<class 'pandas.core.frame.DataFrame'>\n",
            "RangeIndex: 1599 entries, 0 to 1598\n",
            "Data columns (total 12 columns):\n",
            " #   Column                Non-Null Count  Dtype  \n",
            "---  ------                --------------  -----  \n",
            " 0   fixed acidity         1599 non-null   float64\n",
            " 1   volatile acidity      1599 non-null   float64\n",
            " 2   citric acid           1599 non-null   float64\n",
            " 3   residual sugar        1599 non-null   float64\n",
            " 4   chlorides             1599 non-null   float64\n",
            " 5   free sulfur dioxide   1599 non-null   float64\n",
            " 6   total sulfur dioxide  1599 non-null   float64\n",
            " 7   density               1599 non-null   float64\n",
            " 8   pH                    1599 non-null   float64\n",
            " 9   sulphates             1599 non-null   float64\n",
            " 10  alcohol               1599 non-null   float64\n",
            " 11  quality               1599 non-null   int64  \n",
            "dtypes: float64(11), int64(1)\n",
            "memory usage: 150.0 KB\n"
          ],
          "name": "stdout"
        }
      ]
    },
    {
      "cell_type": "code",
      "metadata": {
        "id": "gOUJtffE_4oW",
        "colab_type": "code",
        "colab": {
          "base_uri": "https://localhost:8080/",
          "height": 331
        },
        "outputId": "d35f5c13-a733-4df5-f0f2-33a0d72961d7"
      },
      "source": [
        "wine_df.describe()"
      ],
      "execution_count": null,
      "outputs": [
        {
          "output_type": "execute_result",
          "data": {
            "text/html": [
              "<div>\n",
              "<style scoped>\n",
              "    .dataframe tbody tr th:only-of-type {\n",
              "        vertical-align: middle;\n",
              "    }\n",
              "\n",
              "    .dataframe tbody tr th {\n",
              "        vertical-align: top;\n",
              "    }\n",
              "\n",
              "    .dataframe thead th {\n",
              "        text-align: right;\n",
              "    }\n",
              "</style>\n",
              "<table border=\"1\" class=\"dataframe\">\n",
              "  <thead>\n",
              "    <tr style=\"text-align: right;\">\n",
              "      <th></th>\n",
              "      <th>fixed acidity</th>\n",
              "      <th>volatile acidity</th>\n",
              "      <th>citric acid</th>\n",
              "      <th>residual sugar</th>\n",
              "      <th>chlorides</th>\n",
              "      <th>free sulfur dioxide</th>\n",
              "      <th>total sulfur dioxide</th>\n",
              "      <th>density</th>\n",
              "      <th>pH</th>\n",
              "      <th>sulphates</th>\n",
              "      <th>alcohol</th>\n",
              "      <th>quality</th>\n",
              "    </tr>\n",
              "  </thead>\n",
              "  <tbody>\n",
              "    <tr>\n",
              "      <th>count</th>\n",
              "      <td>1599.000000</td>\n",
              "      <td>1599.000000</td>\n",
              "      <td>1599.000000</td>\n",
              "      <td>1599.000000</td>\n",
              "      <td>1599.000000</td>\n",
              "      <td>1599.000000</td>\n",
              "      <td>1599.000000</td>\n",
              "      <td>1599.000000</td>\n",
              "      <td>1599.000000</td>\n",
              "      <td>1599.000000</td>\n",
              "      <td>1599.000000</td>\n",
              "      <td>1599.000000</td>\n",
              "    </tr>\n",
              "    <tr>\n",
              "      <th>mean</th>\n",
              "      <td>8.319637</td>\n",
              "      <td>0.527821</td>\n",
              "      <td>0.270976</td>\n",
              "      <td>2.538806</td>\n",
              "      <td>0.087467</td>\n",
              "      <td>15.874922</td>\n",
              "      <td>46.467792</td>\n",
              "      <td>0.996747</td>\n",
              "      <td>3.311113</td>\n",
              "      <td>0.658149</td>\n",
              "      <td>10.422983</td>\n",
              "      <td>5.636023</td>\n",
              "    </tr>\n",
              "    <tr>\n",
              "      <th>std</th>\n",
              "      <td>1.741096</td>\n",
              "      <td>0.179060</td>\n",
              "      <td>0.194801</td>\n",
              "      <td>1.409928</td>\n",
              "      <td>0.047065</td>\n",
              "      <td>10.460157</td>\n",
              "      <td>32.895324</td>\n",
              "      <td>0.001887</td>\n",
              "      <td>0.154386</td>\n",
              "      <td>0.169507</td>\n",
              "      <td>1.065668</td>\n",
              "      <td>0.807569</td>\n",
              "    </tr>\n",
              "    <tr>\n",
              "      <th>min</th>\n",
              "      <td>4.600000</td>\n",
              "      <td>0.120000</td>\n",
              "      <td>0.000000</td>\n",
              "      <td>0.900000</td>\n",
              "      <td>0.012000</td>\n",
              "      <td>1.000000</td>\n",
              "      <td>6.000000</td>\n",
              "      <td>0.990070</td>\n",
              "      <td>2.740000</td>\n",
              "      <td>0.330000</td>\n",
              "      <td>8.400000</td>\n",
              "      <td>3.000000</td>\n",
              "    </tr>\n",
              "    <tr>\n",
              "      <th>25%</th>\n",
              "      <td>7.100000</td>\n",
              "      <td>0.390000</td>\n",
              "      <td>0.090000</td>\n",
              "      <td>1.900000</td>\n",
              "      <td>0.070000</td>\n",
              "      <td>7.000000</td>\n",
              "      <td>22.000000</td>\n",
              "      <td>0.995600</td>\n",
              "      <td>3.210000</td>\n",
              "      <td>0.550000</td>\n",
              "      <td>9.500000</td>\n",
              "      <td>5.000000</td>\n",
              "    </tr>\n",
              "    <tr>\n",
              "      <th>50%</th>\n",
              "      <td>7.900000</td>\n",
              "      <td>0.520000</td>\n",
              "      <td>0.260000</td>\n",
              "      <td>2.200000</td>\n",
              "      <td>0.079000</td>\n",
              "      <td>14.000000</td>\n",
              "      <td>38.000000</td>\n",
              "      <td>0.996750</td>\n",
              "      <td>3.310000</td>\n",
              "      <td>0.620000</td>\n",
              "      <td>10.200000</td>\n",
              "      <td>6.000000</td>\n",
              "    </tr>\n",
              "    <tr>\n",
              "      <th>75%</th>\n",
              "      <td>9.200000</td>\n",
              "      <td>0.640000</td>\n",
              "      <td>0.420000</td>\n",
              "      <td>2.600000</td>\n",
              "      <td>0.090000</td>\n",
              "      <td>21.000000</td>\n",
              "      <td>62.000000</td>\n",
              "      <td>0.997835</td>\n",
              "      <td>3.400000</td>\n",
              "      <td>0.730000</td>\n",
              "      <td>11.100000</td>\n",
              "      <td>6.000000</td>\n",
              "    </tr>\n",
              "    <tr>\n",
              "      <th>max</th>\n",
              "      <td>15.900000</td>\n",
              "      <td>1.580000</td>\n",
              "      <td>1.000000</td>\n",
              "      <td>15.500000</td>\n",
              "      <td>0.611000</td>\n",
              "      <td>72.000000</td>\n",
              "      <td>289.000000</td>\n",
              "      <td>1.003690</td>\n",
              "      <td>4.010000</td>\n",
              "      <td>2.000000</td>\n",
              "      <td>14.900000</td>\n",
              "      <td>8.000000</td>\n",
              "    </tr>\n",
              "  </tbody>\n",
              "</table>\n",
              "</div>"
            ],
            "text/plain": [
              "       fixed acidity  volatile acidity  ...      alcohol      quality\n",
              "count    1599.000000       1599.000000  ...  1599.000000  1599.000000\n",
              "mean        8.319637          0.527821  ...    10.422983     5.636023\n",
              "std         1.741096          0.179060  ...     1.065668     0.807569\n",
              "min         4.600000          0.120000  ...     8.400000     3.000000\n",
              "25%         7.100000          0.390000  ...     9.500000     5.000000\n",
              "50%         7.900000          0.520000  ...    10.200000     6.000000\n",
              "75%         9.200000          0.640000  ...    11.100000     6.000000\n",
              "max        15.900000          1.580000  ...    14.900000     8.000000\n",
              "\n",
              "[8 rows x 12 columns]"
            ]
          },
          "metadata": {
            "tags": []
          },
          "execution_count": 49
        }
      ]
    },
    {
      "cell_type": "code",
      "metadata": {
        "id": "5qaydnuG8oSi",
        "colab_type": "code",
        "colab": {}
      },
      "source": [
        "# Split data\n",
        "X = wine_df.drop(['quality'], axis=1)\n",
        "y = wine_df['quality']\n",
        "\n",
        "X_train, X_test, y_train, y_test = train_test_split(X, y, test_size=0.25, random_state=42)"
      ],
      "execution_count": null,
      "outputs": []
    },
    {
      "cell_type": "code",
      "metadata": {
        "id": "BKkyePbF_9Qm",
        "colab_type": "code",
        "colab": {}
      },
      "source": [
        "from sklearn.preprocessing import StandardScaler\n",
        "\n",
        "scaler = StandardScaler()\n",
        "\n",
        "scaler.fit(X_train)\n",
        "\n",
        "X_train = scaler.transform(X_train)\n",
        "X_test = scaler.transform(X_test)"
      ],
      "execution_count": null,
      "outputs": []
    },
    {
      "cell_type": "code",
      "metadata": {
        "id": "AMIHfSgDldTX",
        "colab_type": "code",
        "colab": {
          "base_uri": "https://localhost:8080/",
          "height": 255
        },
        "outputId": "558f7f1b-dff7-45f4-fbc0-047aebb4222c"
      },
      "source": [
        "from sklearn.model_selection import GridSearchCV\n",
        "from sklearn.svm import SVC\n",
        "\n",
        "# Create parameter grid\n",
        "param_grid = {'C': [.01, .1, 1, 10, 100, 1000, 10000],\n",
        "                  'gamma': [0.0001, 0.001, 0.01, .1, 1, 10, 100, 1000]}\n",
        "\n",
        "# Create grid search \n",
        "grid_search = GridSearchCV(SVC(),\n",
        "                           param_grid, \n",
        "                           cv=5)\n",
        "# Fit grid search\n",
        "%time grid_search.fit(X_train, y_train)"
      ],
      "execution_count": null,
      "outputs": [
        {
          "output_type": "stream",
          "text": [
            "CPU times: user 40.5 s, sys: 6.95 ms, total: 40.5 s\n",
            "Wall time: 40.5 s\n"
          ],
          "name": "stdout"
        },
        {
          "output_type": "execute_result",
          "data": {
            "text/plain": [
              "GridSearchCV(cv=5, error_score=nan,\n",
              "             estimator=SVC(C=1.0, break_ties=False, cache_size=200,\n",
              "                           class_weight=None, coef0=0.0,\n",
              "                           decision_function_shape='ovr', degree=3,\n",
              "                           gamma='scale', kernel='rbf', max_iter=-1,\n",
              "                           probability=False, random_state=None, shrinking=True,\n",
              "                           tol=0.001, verbose=False),\n",
              "             iid='deprecated', n_jobs=None,\n",
              "             param_grid={'C': [0.01, 0.1, 1, 10, 100, 1000, 10000],\n",
              "                         'gamma': [0.0001, 0.001, 0.01, 0.1, 1, 10, 100, 1000]},\n",
              "             pre_dispatch='2*n_jobs', refit=True, return_train_score=False,\n",
              "             scoring=None, verbose=0)"
            ]
          },
          "metadata": {
            "tags": []
          },
          "execution_count": 53
        }
      ]
    },
    {
      "cell_type": "code",
      "metadata": {
        "id": "IF8SpsThm6fu",
        "colab_type": "code",
        "colab": {
          "base_uri": "https://localhost:8080/",
          "height": 409
        },
        "outputId": "d097bf01-b240-4f5e-939f-a1f4e235c74b"
      },
      "source": [
        "import matplotlib.pyplot as plt\n",
        "import seaborn as sns\n",
        "\n",
        "# Pull results from grid search\n",
        "results = pd.DataFrame(grid_search.cv_results_)\n",
        "hm_data = results.pivot(index='param_C', \n",
        "                   columns='param_gamma',\n",
        "                   values='mean_test_score')\n",
        "\n",
        "# Plot heatmap\n",
        "fix, ax = plt.subplots(figsize=(9, 6))\n",
        "\n",
        "ax = sns.heatmap(hm_data,\n",
        "                 annot=True,\n",
        "                 cmap='RdBu',\n",
        "                 linecolor='white')\n",
        "\n",
        "ax.set_title('Hyperparameter Gridsearch', fontsize=16)\n",
        "ax.set_ylabel('C Parameter', fontsize=12)\n",
        "ax.set_xlabel('Gamma Parameter', fontsize=12)\n",
        "\n",
        "plt.show()"
      ],
      "execution_count": null,
      "outputs": [
        {
          "output_type": "display_data",
          "data": {
            "image/png": "[encoded data removed]",
            "text/plain": [
              "<Figure size 648x432 with 2 Axes>"
            ]
          },
          "metadata": {
            "tags": [],
            "needs_background": "light"
          }
        }
      ]
    },
    {
      "cell_type": "code",
      "metadata": {
        "id": "zVoAy7LjnTy-",
        "colab_type": "code",
        "colab": {
          "base_uri": "https://localhost:8080/",
          "height": 68
        },
        "outputId": "c9ce8c34-e445-401a-af99-4175e01d01c3"
      },
      "source": [
        "# Print best parameters and best score\n",
        "print(\"Best parameters: {}\".format(grid_search.best_params_))\n",
        "print(\"Best cross-validation score: {:.2f}\".format(grid_search.best_score_))\n",
        "\n",
        "### Best parameters: {'C': 100, 'gamma': 0.0001}\n",
        "### Best cross-validation score: 1.00\n",
        "\n",
        "# Plug best parameters into the model, train it, and test on held out data\n",
        "best_svc = SVC(**grid_search.best_params_).fit(X_train, y_train)\n",
        "best_svc.score(X_test, y_test)"
      ],
      "execution_count": null,
      "outputs": [
        {
          "output_type": "stream",
          "text": [
            "Best parameters: {'C': 1, 'gamma': 1}\n",
            "Best cross-validation score: 0.65\n"
          ],
          "name": "stdout"
        },
        {
          "output_type": "execute_result",
          "data": {
            "text/plain": [
              "0.655"
            ]
          },
          "metadata": {
            "tags": []
          },
          "execution_count": 55
        }
      ]
    },
    {
      "cell_type": "markdown",
      "metadata": {
        "id": "H2FtRgBNnjKA",
        "colab_type": "text"
      },
      "source": [
        "\n"
      ]
    },
    {
      "cell_type": "code",
      "metadata": {
        "id": "AjS1R5SLn-cn",
        "colab_type": "code",
        "colab": {
          "base_uri": "https://localhost:8080/",
          "height": 119
        },
        "outputId": "28affd8a-69b0-4fc0-b0e8-58d9e3280e6d"
      },
      "source": [
        "from sklearn.metrics import confusion_matrix\n",
        "\n",
        "y_pred = best_svc.predict(X_test)\n",
        "\n",
        "print(confusion_matrix(y_test, y_pred))"
      ],
      "execution_count": null,
      "outputs": [
        {
          "output_type": "stream",
          "text": [
            "[[  0   0   0   1   0   0]\n",
            " [  0   0   6   7   0   0]\n",
            " [  0   0 121  43   0   0]\n",
            " [  0   0  43 122   4   0]\n",
            " [  0   0   5  24  19   0]\n",
            " [  0   0   0   4   1   0]]\n"
          ],
          "name": "stdout"
        }
      ]
    },
    {
      "cell_type": "code",
      "metadata": {
        "id": "Mmm8WrH6nnzW",
        "colab_type": "code",
        "colab": {
          "base_uri": "https://localhost:8080/",
          "height": 292
        },
        "outputId": "c16dbffe-2981-4eaa-a507-142c37edc228"
      },
      "source": [
        "from sklearn.metrics import classification_report\n",
        "\n",
        "print(classification_report(y_test, y_pred))"
      ],
      "execution_count": null,
      "outputs": [
        {
          "output_type": "stream",
          "text": [
            "              precision    recall  f1-score   support\n",
            "\n",
            "           3       0.00      0.00      0.00         1\n",
            "           4       0.00      0.00      0.00        13\n",
            "           5       0.69      0.74      0.71       164\n",
            "           6       0.61      0.72      0.66       169\n",
            "           7       0.79      0.40      0.53        48\n",
            "           8       0.00      0.00      0.00         5\n",
            "\n",
            "    accuracy                           0.66       400\n",
            "   macro avg       0.35      0.31      0.32       400\n",
            "weighted avg       0.63      0.66      0.63       400\n",
            "\n"
          ],
          "name": "stdout"
        },
        {
          "output_type": "stream",
          "text": [
            "/usr/local/lib/python3.6/dist-packages/sklearn/metrics/_classification.py:1272: UndefinedMetricWarning: Precision and F-score are ill-defined and being set to 0.0 in labels with no predicted samples. Use `zero_division` parameter to control this behavior.\n",
            "  _warn_prf(average, modifier, msg_start, len(result))\n"
          ],
          "name": "stderr"
        }
      ]
    },
    {
      "cell_type": "code",
      "metadata": {
        "id": "cDXK5Ti9rQWr",
        "colab_type": "code",
        "colab": {
          "base_uri": "https://localhost:8080/",
          "height": 272
        },
        "outputId": "3d45ea0c-0fbf-43d6-cd0c-e516bc574dee"
      },
      "source": [
        "from sklearn.model_selection import GridSearchCV\n",
        "from sklearn.svm import SVC\n",
        "\n",
        "# Create parameter grid\n",
        "param_grid = {'C': [100, 500, 1000, 5000, 10000],\n",
        "                  'gamma': [0.001/3, 0.001/2, 0.001, 0.001*2, 0.001*3]}\n",
        "\n",
        "# Create grid search \n",
        "grid_search = GridSearchCV(SVC(),\n",
        "                           param_grid, \n",
        "                           cv=5)\n",
        "# Fit grid search\n",
        "%time grid_search.fit(X_train, y_train)"
      ],
      "execution_count": null,
      "outputs": [
        {
          "output_type": "stream",
          "text": [
            "CPU times: user 30.6 s, sys: 2.94 ms, total: 30.6 s\n",
            "Wall time: 30.6 s\n"
          ],
          "name": "stdout"
        },
        {
          "output_type": "execute_result",
          "data": {
            "text/plain": [
              "GridSearchCV(cv=5, error_score=nan,\n",
              "             estimator=SVC(C=1.0, break_ties=False, cache_size=200,\n",
              "                           class_weight=None, coef0=0.0,\n",
              "                           decision_function_shape='ovr', degree=3,\n",
              "                           gamma='scale', kernel='rbf', max_iter=-1,\n",
              "                           probability=False, random_state=None, shrinking=True,\n",
              "                           tol=0.001, verbose=False),\n",
              "             iid='deprecated', n_jobs=None,\n",
              "             param_grid={'C': [100, 500, 1000, 5000, 10000],\n",
              "                         'gamma': [0.0003333333333333333, 0.0005, 0.001, 0.002,\n",
              "                                   0.003]},\n",
              "             pre_dispatch='2*n_jobs', refit=True, return_train_score=False,\n",
              "             scoring=None, verbose=0)"
            ]
          },
          "metadata": {
            "tags": []
          },
          "execution_count": 58
        }
      ]
    },
    {
      "cell_type": "code",
      "metadata": {
        "id": "jHWLvg-Ir5s8",
        "colab_type": "code",
        "colab": {
          "base_uri": "https://localhost:8080/",
          "height": 527
        },
        "outputId": "8b4ec278-5bf5-4d61-9543-b9455fe7af6b"
      },
      "source": [
        "import matplotlib.pyplot as plt\n",
        "import seaborn as sns\n",
        "\n",
        "# Pull results from grid search\n",
        "results = pd.DataFrame(grid_search.cv_results_)\n",
        "hm_data = results.pivot(index='param_C', \n",
        "                   columns='param_gamma',\n",
        "                   values='mean_test_score')\n",
        "\n",
        "# Plot heatmap\n",
        "fix, ax = plt.subplots(figsize=(9, 6))\n",
        "\n",
        "ax = sns.heatmap(hm_data,\n",
        "                 annot=True,\n",
        "                 cmap='RdBu',\n",
        "                 linecolor='white')\n",
        "\n",
        "ax.set_title('Hyperparameter Gridsearch', fontsize=16)\n",
        "ax.set_ylabel('C Parameter', fontsize=12)\n",
        "ax.set_xlabel('Gamma Parameter', fontsize=12)\n",
        "\n",
        "plt.show()"
      ],
      "execution_count": null,
      "outputs": [
        {
          "output_type": "display_data",
          "data": {
            "image/png": "[encoded data removed]",
            "text/plain": [
              "<Figure size 648x432 with 2 Axes>"
            ]
          },
          "metadata": {
            "tags": [],
            "needs_background": "light"
          }
        }
      ]
    },
    {
      "cell_type": "code",
      "metadata": {
        "id": "Beta1kA0saS9",
        "colab_type": "code",
        "colab": {
          "base_uri": "https://localhost:8080/",
          "height": 68
        },
        "outputId": "5227046b-1fcb-4a96-faa8-459c9ffe0e4c"
      },
      "source": [
        "# Print best parameters and best score\n",
        "print(\"Best parameters: {}\".format(grid_search.best_params_))\n",
        "print(\"Best cross-validation score: {:.2f}\".format(grid_search.best_score_))\n",
        "\n",
        "### Best parameters: {'C': 100, 'gamma': 0.0001}\n",
        "### Best cross-validation score: 1.00\n",
        "\n",
        "# Plug best parameters into the model, train it, and test on held out data\n",
        "best_svc = SVC(**grid_search.best_params_).fit(X_train, y_train)\n",
        "best_svc.score(X_test, y_test)"
      ],
      "execution_count": null,
      "outputs": [
        {
          "output_type": "stream",
          "text": [
            "Best parameters: {'C': 10000, 'gamma': 0.003}\n",
            "Best cross-validation score: 0.61\n"
          ],
          "name": "stdout"
        },
        {
          "output_type": "execute_result",
          "data": {
            "text/plain": [
              "0.605"
            ]
          },
          "metadata": {
            "tags": []
          },
          "execution_count": 60
        }
      ]
    },
    {
      "cell_type": "code",
      "metadata": {
        "id": "moYVH8CDsz6Z",
        "colab_type": "code",
        "colab": {
          "base_uri": "https://localhost:8080/",
          "height": 119
        },
        "outputId": "1c1d6738-ae0e-4dae-cc2c-b583847df088"
      },
      "source": [
        "from sklearn.metrics import confusion_matrix\n",
        "\n",
        "y_pred = best_svc.predict(X_test)\n",
        "\n",
        "print(confusion_matrix(y_test, y_pred))"
      ],
      "execution_count": null,
      "outputs": [
        {
          "output_type": "stream",
          "text": [
            "[[  0   0   1   0   0   0]\n",
            " [  1   0  11   1   0   0]\n",
            " [  3   1 125  32   3   0]\n",
            " [  1   4  51  99  12   2]\n",
            " [  0   0   2  27  18   1]\n",
            " [  0   0   0   2   3   0]]\n"
          ],
          "name": "stdout"
        }
      ]
    },
    {
      "cell_type": "code",
      "metadata": {
        "id": "iuhCPa3BvF4i",
        "colab_type": "code",
        "colab": {
          "base_uri": "https://localhost:8080/",
          "height": 238
        },
        "outputId": "a388c826-52f5-42a5-b120-b997707cee6f"
      },
      "source": [
        "from sklearn.metrics import classification_report\n",
        "\n",
        "print(classification_report(y_test, y_pred))"
      ],
      "execution_count": null,
      "outputs": [
        {
          "output_type": "stream",
          "text": [
            "              precision    recall  f1-score   support\n",
            "\n",
            "           3       0.00      0.00      0.00         1\n",
            "           4       0.00      0.00      0.00        13\n",
            "           5       0.66      0.76      0.71       164\n",
            "           6       0.61      0.59      0.60       169\n",
            "           7       0.50      0.38      0.43        48\n",
            "           8       0.00      0.00      0.00         5\n",
            "\n",
            "    accuracy                           0.60       400\n",
            "   macro avg       0.30      0.29      0.29       400\n",
            "weighted avg       0.59      0.60      0.59       400\n",
            "\n"
          ],
          "name": "stdout"
        }
      ]
    }
  ]
}
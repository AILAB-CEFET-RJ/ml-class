{
  "nbformat": 4,
  "nbformat_minor": 0,
  "metadata": {
    "colab": {
      "name": "ppcic_ml_dtree.ipynb",
      "provenance": [],
      "collapsed_sections": [],
      "toc_visible": true,
      "authorship_tag": "ABX9TyP5PM2Acn3a5j9ErK+yO51y",
      "include_colab_link": true
    },
    "kernelspec": {
      "name": "python3",
      "display_name": "Python 3"
    }
  },
  "cells": [
    {
      "cell_type": "markdown",
      "metadata": {
        "id": "view-in-github",
        "colab_type": "text"
      },
      "source": [
        "<a href=\"https://colab.research.google.com/github/MLRG-CEFET-RJ/ml-class/blob/master/ppcic_ml_dtree.ipynb\" target=\"_parent\"><img src=\"https://colab.research.google.com/assets/colab-badge.svg\" alt=\"Open In Colab\"/></a>"
      ]
    },
    {
      "cell_type": "markdown",
      "metadata": {
        "id": "P7wxsdSSCDKg",
        "colab_type": "text"
      },
      "source": [
        "# Introduction\n",
        "\n",
        "A decision tree is a predictive model that takes an example $\\mathbf{x}$ as described by a set of predictive features and their respective values, and returns a predicted value for the target feature.\n",
        "\n",
        "A decision tree can be built in the context of classification and regression tasks, as we shall see bellow."
      ]
    },
    {
      "cell_type": "markdown",
      "metadata": {
        "id": "1Gd5SmUxiLdU",
        "colab_type": "text"
      },
      "source": [
        "# Decision trees for classification\n",
        "\n",
        "The following example ([source](https://en.wikipedia.org/wiki/Decision_tree_learning)) presents a decision tree that models the possibility of passengers surviving on the [Titanic disaster](https://www.kaggle.com/c/titanic). The feature \"sipsb\" corresponds to the number of spouses or brothers on board. The other predictive features are self-explanatory. The numbers under the leafs show the probability of survival and the percentage of examples on the corresponding leaf.\n",
        "\n",
        "![alt text](https://upload.wikimedia.org/wikipedia/commons/f/f3/CART_tree_titanic_survivors.png)\n",
        "\n",
        "A decision tree has several *nodes*, both internal and external. The latter type is also called a leaf. Each internal node is associated to a predicate involving one of the predictive features. Each leaf is associated to a single value of the target feature. In the tree given as example above, there are three internal nodes (for features `sex`, `age` and `sibsp`) and four external nodes. \n",
        "\n",
        "A decision tree is a classification model that determines the class for an new example by executing a test sequence.\n",
        "\n",
        "* Each internal node in the tree corresponds to a test on the value of one of the attributes.\n",
        "\n",
        "* Branches from each internal node are identified (labeled) with the possible values ​​of the test.\n",
        "\n",
        "* Each leaf node specifies the value to be returned if that leaf is reached.\n",
        "\n",
        "Decision trees are known for their ease of interpretation. In the example above, we can interpret that the chances of survival were greater for (i) a woman or (ii) a man under 9.5 years old and less than 2.5 siblings (or spouses)."
      ]
    },
    {
      "cell_type": "code",
      "metadata": {
        "id": "eHHOoObuIShv",
        "colab_type": "code",
        "colab": {
          "base_uri": "https://localhost:8080/",
          "height": 475
        },
        "outputId": "7fa5cd3e-727b-4cec-957a-7c1cbc36e186"
      },
      "source": [
        "import pandas as pd\n",
        "df_titanic = pd.read_csv('https://raw.githubusercontent.com/MLRG-CEFET-RJ/ml-class/master/datasets/titanic_train.csv')\n",
        "df_titanic.head()"
      ],
      "execution_count": 3,
      "outputs": [
        {
          "output_type": "execute_result",
          "data": {
            "text/html": [
              "<div>\n",
              "<style scoped>\n",
              "    .dataframe tbody tr th:only-of-type {\n",
              "        vertical-align: middle;\n",
              "    }\n",
              "\n",
              "    .dataframe tbody tr th {\n",
              "        vertical-align: top;\n",
              "    }\n",
              "\n",
              "    .dataframe thead th {\n",
              "        text-align: right;\n",
              "    }\n",
              "</style>\n",
              "<table border=\"1\" class=\"dataframe\">\n",
              "  <thead>\n",
              "    <tr style=\"text-align: right;\">\n",
              "      <th></th>\n",
              "      <th>PassengerId</th>\n",
              "      <th>Survived</th>\n",
              "      <th>Pclass</th>\n",
              "      <th>Name</th>\n",
              "      <th>Sex</th>\n",
              "      <th>Age</th>\n",
              "      <th>SibSp</th>\n",
              "      <th>Parch</th>\n",
              "      <th>Ticket</th>\n",
              "      <th>Fare</th>\n",
              "      <th>Cabin</th>\n",
              "      <th>Embarked</th>\n",
              "    </tr>\n",
              "  </thead>\n",
              "  <tbody>\n",
              "    <tr>\n",
              "      <th>0</th>\n",
              "      <td>1</td>\n",
              "      <td>0</td>\n",
              "      <td>3</td>\n",
              "      <td>Braund, Mr. Owen Harris</td>\n",
              "      <td>male</td>\n",
              "      <td>22.0</td>\n",
              "      <td>1</td>\n",
              "      <td>0</td>\n",
              "      <td>A/5 21171</td>\n",
              "      <td>7.2500</td>\n",
              "      <td>NaN</td>\n",
              "      <td>S</td>\n",
              "    </tr>\n",
              "    <tr>\n",
              "      <th>1</th>\n",
              "      <td>2</td>\n",
              "      <td>1</td>\n",
              "      <td>1</td>\n",
              "      <td>Cumings, Mrs. John Bradley (Florence Briggs Th...</td>\n",
              "      <td>female</td>\n",
              "      <td>38.0</td>\n",
              "      <td>1</td>\n",
              "      <td>0</td>\n",
              "      <td>PC 17599</td>\n",
              "      <td>71.2833</td>\n",
              "      <td>C85</td>\n",
              "      <td>C</td>\n",
              "    </tr>\n",
              "    <tr>\n",
              "      <th>2</th>\n",
              "      <td>3</td>\n",
              "      <td>1</td>\n",
              "      <td>3</td>\n",
              "      <td>Heikkinen, Miss. Laina</td>\n",
              "      <td>female</td>\n",
              "      <td>26.0</td>\n",
              "      <td>0</td>\n",
              "      <td>0</td>\n",
              "      <td>STON/O2. 3101282</td>\n",
              "      <td>7.9250</td>\n",
              "      <td>NaN</td>\n",
              "      <td>S</td>\n",
              "    </tr>\n",
              "    <tr>\n",
              "      <th>3</th>\n",
              "      <td>4</td>\n",
              "      <td>1</td>\n",
              "      <td>1</td>\n",
              "      <td>Futrelle, Mrs. Jacques Heath (Lily May Peel)</td>\n",
              "      <td>female</td>\n",
              "      <td>35.0</td>\n",
              "      <td>1</td>\n",
              "      <td>0</td>\n",
              "      <td>113803</td>\n",
              "      <td>53.1000</td>\n",
              "      <td>C123</td>\n",
              "      <td>S</td>\n",
              "    </tr>\n",
              "    <tr>\n",
              "      <th>4</th>\n",
              "      <td>5</td>\n",
              "      <td>0</td>\n",
              "      <td>3</td>\n",
              "      <td>Allen, Mr. William Henry</td>\n",
              "      <td>male</td>\n",
              "      <td>35.0</td>\n",
              "      <td>0</td>\n",
              "      <td>0</td>\n",
              "      <td>373450</td>\n",
              "      <td>8.0500</td>\n",
              "      <td>NaN</td>\n",
              "      <td>S</td>\n",
              "    </tr>\n",
              "  </tbody>\n",
              "</table>\n",
              "</div>"
            ],
            "text/plain": [
              "   PassengerId  Survived  Pclass  ...     Fare Cabin  Embarked\n",
              "0            1         0       3  ...   7.2500   NaN         S\n",
              "1            2         1       1  ...  71.2833   C85         C\n",
              "2            3         1       3  ...   7.9250   NaN         S\n",
              "3            4         1       1  ...  53.1000  C123         S\n",
              "4            5         0       3  ...   8.0500   NaN         S\n",
              "\n",
              "[5 rows x 12 columns]"
            ]
          },
          "metadata": {
            "tags": []
          },
          "execution_count": 3
        }
      ]
    },
    {
      "cell_type": "code",
      "metadata": {
        "id": "lU5RfcusO83V",
        "colab_type": "code",
        "colab": {}
      },
      "source": [
        "df_titanic = df_titanic[['Sex', 'Age', 'SibSp', 'Survived', 'Pclass']]"
      ],
      "execution_count": 4,
      "outputs": []
    },
    {
      "cell_type": "code",
      "metadata": {
        "id": "D7S6s8iHPVVd",
        "colab_type": "code",
        "colab": {
          "base_uri": "https://localhost:8080/",
          "height": 225
        },
        "outputId": "82f3080e-12db-435e-be32-ba676a5bca31"
      },
      "source": [
        "df_titanic.info()"
      ],
      "execution_count": 5,
      "outputs": [
        {
          "output_type": "stream",
          "text": [
            "<class 'pandas.core.frame.DataFrame'>\n",
            "RangeIndex: 891 entries, 0 to 890\n",
            "Data columns (total 5 columns):\n",
            " #   Column    Non-Null Count  Dtype  \n",
            "---  ------    --------------  -----  \n",
            " 0   Sex       891 non-null    object \n",
            " 1   Age       714 non-null    float64\n",
            " 2   SibSp     891 non-null    int64  \n",
            " 3   Survived  891 non-null    int64  \n",
            " 4   Pclass    891 non-null    int64  \n",
            "dtypes: float64(1), int64(3), object(1)\n",
            "memory usage: 34.9+ KB\n"
          ],
          "name": "stdout"
        }
      ]
    },
    {
      "cell_type": "code",
      "metadata": {
        "id": "BBgFASI2PrfD",
        "colab_type": "code",
        "colab": {
          "base_uri": "https://localhost:8080/",
          "height": 225
        },
        "outputId": "b6d15100-305b-477c-edc9-26059edb30a8"
      },
      "source": [
        "df_titanic.replace({'Sex': {'male': 0, 'female': 1}}, inplace=True)\n",
        "df_titanic.fillna(df_titanic.mean(), inplace=True)\n",
        "df_titanic.info()"
      ],
      "execution_count": 7,
      "outputs": [
        {
          "output_type": "stream",
          "text": [
            "<class 'pandas.core.frame.DataFrame'>\n",
            "RangeIndex: 891 entries, 0 to 890\n",
            "Data columns (total 5 columns):\n",
            " #   Column    Non-Null Count  Dtype  \n",
            "---  ------    --------------  -----  \n",
            " 0   Sex       891 non-null    int64  \n",
            " 1   Age       891 non-null    float64\n",
            " 2   SibSp     891 non-null    int64  \n",
            " 3   Survived  891 non-null    int64  \n",
            " 4   Pclass    891 non-null    int64  \n",
            "dtypes: float64(1), int64(4)\n",
            "memory usage: 34.9 KB\n"
          ],
          "name": "stdout"
        }
      ]
    },
    {
      "cell_type": "code",
      "metadata": {
        "id": "CKOveNxjXrwY",
        "colab_type": "code",
        "colab": {
          "base_uri": "https://localhost:8080/",
          "height": 198
        },
        "outputId": "7f1ca201-93e5-4184-c4e4-912d46087ca6"
      },
      "source": [
        "df_titanic.head()"
      ],
      "execution_count": 8,
      "outputs": [
        {
          "output_type": "execute_result",
          "data": {
            "text/html": [
              "<div>\n",
              "<style scoped>\n",
              "    .dataframe tbody tr th:only-of-type {\n",
              "        vertical-align: middle;\n",
              "    }\n",
              "\n",
              "    .dataframe tbody tr th {\n",
              "        vertical-align: top;\n",
              "    }\n",
              "\n",
              "    .dataframe thead th {\n",
              "        text-align: right;\n",
              "    }\n",
              "</style>\n",
              "<table border=\"1\" class=\"dataframe\">\n",
              "  <thead>\n",
              "    <tr style=\"text-align: right;\">\n",
              "      <th></th>\n",
              "      <th>Sex</th>\n",
              "      <th>Age</th>\n",
              "      <th>SibSp</th>\n",
              "      <th>Survived</th>\n",
              "      <th>Pclass</th>\n",
              "    </tr>\n",
              "  </thead>\n",
              "  <tbody>\n",
              "    <tr>\n",
              "      <th>0</th>\n",
              "      <td>0</td>\n",
              "      <td>22.0</td>\n",
              "      <td>1</td>\n",
              "      <td>0</td>\n",
              "      <td>3</td>\n",
              "    </tr>\n",
              "    <tr>\n",
              "      <th>1</th>\n",
              "      <td>1</td>\n",
              "      <td>38.0</td>\n",
              "      <td>1</td>\n",
              "      <td>1</td>\n",
              "      <td>1</td>\n",
              "    </tr>\n",
              "    <tr>\n",
              "      <th>2</th>\n",
              "      <td>1</td>\n",
              "      <td>26.0</td>\n",
              "      <td>0</td>\n",
              "      <td>1</td>\n",
              "      <td>3</td>\n",
              "    </tr>\n",
              "    <tr>\n",
              "      <th>3</th>\n",
              "      <td>1</td>\n",
              "      <td>35.0</td>\n",
              "      <td>1</td>\n",
              "      <td>1</td>\n",
              "      <td>1</td>\n",
              "    </tr>\n",
              "    <tr>\n",
              "      <th>4</th>\n",
              "      <td>0</td>\n",
              "      <td>35.0</td>\n",
              "      <td>0</td>\n",
              "      <td>0</td>\n",
              "      <td>3</td>\n",
              "    </tr>\n",
              "  </tbody>\n",
              "</table>\n",
              "</div>"
            ],
            "text/plain": [
              "   Sex   Age  SibSp  Survived  Pclass\n",
              "0    0  22.0      1         0       3\n",
              "1    1  38.0      1         1       1\n",
              "2    1  26.0      0         1       3\n",
              "3    1  35.0      1         1       1\n",
              "4    0  35.0      0         0       3"
            ]
          },
          "metadata": {
            "tags": []
          },
          "execution_count": 8
        }
      ]
    },
    {
      "cell_type": "code",
      "metadata": {
        "id": "SjuNrHZpXy4k",
        "colab_type": "code",
        "colab": {}
      },
      "source": [
        "X = df_titanic.drop(columns=['Survived'])\n",
        "y = df_titanic['Survived']"
      ],
      "execution_count": 11,
      "outputs": []
    },
    {
      "cell_type": "markdown",
      "metadata": {
        "id": "S2R5bnhLir91",
        "colab_type": "text"
      },
      "source": [
        "## Steps of the algorithm\n",
        "\n",
        "The goal of a *decision tree learning algorithm* is to build a decision tree. The basic decision tree learning algorithm consists of the following steps:\n",
        "\n",
        "1. Start at the root node as the parent node;\n",
        "2. Split the parent node using the attribute that minimizes the sum of impurities in the child nodes (or maximizes the *information gain*);\n",
        "3. Assign training samples to new child nodes;\n",
        "4. Stop if the resulting nodes are pure or if any stopping criteria are met; repeat steps 1 and 2 for each new child node.\n",
        "\n",
        "The following animation ([source](https://annalyzin.wordpress.com/2016/07/27/decision-trees-tutorial/)) illustrates the recursive procedure performed by the decision tree learning algorithm. Here, consider a dataset with fourteen examples, 6 positive and nine negative. Also consider that each example has two features (represented in the animation as X and Y) with range of values betweent 0 and 1. The animation shows that the building process starts with a tree with just one node (its root node) which is associated to the feature X. Notice that the predicate $X>0.5$ splits the original examples in two disjoint sets. Also notice that the examples associated to the the value Yes for the predicate are all negative. These examples are associated to a leaf node. On the other hand, the second set has 6 positive and 3 negative examples. As exists impurity in this set, the corresponding node has to be split. This process of node spliting continues until some *stopping criteria* is met. At the end of this process, a decision tree is built.\n",
        "\n",
        "![alt text](https://annalyzin.files.wordpress.com/2016/07/decision-tree-tutorial-animated3.gif?w=620)\n",
        "\n",
        "\n",
        "There are several possible stopping criteria:\n",
        "* Leaf nodes are pure\n",
        "* Maximum node depth is reached\n",
        "* Dividing a node does not lead to an *information gain*.\n",
        "\n",
        "From the above example, it should be clear that there should exist a way for the decision tree algorithm to select the best attribute to use when a node split is necessary. We call this the *attribute selection criteria*."
      ]
    },
    {
      "cell_type": "markdown",
      "metadata": {
        "id": "4ztHPmsoi_B5",
        "colab_type": "text"
      },
      "source": [
        "## Attribute selection criteria\n",
        "\n",
        "The decision tree learning algorithm is recursive. During the construction of the model (i.e., the decision tree), the choice of features should be made in such a way as to minimize the depth of the decision tree. At each step, the algorithm chooses the feature that goes as far as possible in the exact classification of the examples.\n",
        "\n",
        "A perfect feature would divide the examples into subsets of the same class (i.e., all positive or all negative). To choose a suitable feature for a new internal node in the tree, the solution is to measure each feature according to the expected amount of information provided by it.\n",
        "\n",
        "There are two most commonly used criteria for feature selection when learning a decision tree:\n",
        "\n",
        "* information gain\n",
        "* gini index"
      ]
    },
    {
      "cell_type": "markdown",
      "metadata": {
        "id": "6AloWTjQjV4E",
        "colab_type": "text"
      },
      "source": [
        "### Information Gain\n",
        "\n",
        "The information gain is based on a measure from [Information Theory](en.wikipedia.org/wiki/Information_theory) called *entropy*.\n",
        "\n",
        "Given a probability distribution for a discrete random variable $V$ with $n$ values, if each possible value $v_i$ of $V$ has probability $p_i$, then the entropy $H$ of that random variable is given by:\n",
        "\n",
        "$$\n",
        "H(V) = -\\sum_{v_i \\in V} p_i \\log_2 p_i\n",
        "$$\n",
        "\n",
        "The following code cell plot the graph of the entropy function for a random variable that can assume only two values, with corresponding probabilities equal to $p_1 = p$ and $p_2 = 1-p$. "
      ]
    },
    {
      "cell_type": "code",
      "metadata": {
        "id": "CsKIXI7Ctrjk",
        "colab_type": "code",
        "colab": {
          "base_uri": "https://localhost:8080/",
          "height": 309
        },
        "outputId": "03edf6e8-5299-40b2-cfdf-d6f94e5cb844"
      },
      "source": [
        "import matplotlib.pyplot as plt\n",
        "import numpy as np\n",
        "\n",
        "def entropy(p):\n",
        "    return - p * np.log2(p) - (1 - p) * np.log2((1 - p))\n",
        "\n",
        "x = np.arange(0.0, 1.0, 0.01)\n",
        "\n",
        "ent = [entropy(p) if p != 0 else None for p in x]\n",
        "\n",
        "fig = plt.figure()\n",
        "ax = plt.subplot(111)\n",
        "for i, lab, ls, c, in zip([ent], \n",
        "                          ['Entropy'],\n",
        "                          ['-', '-', '--', '-.'],\n",
        "                          ['red', 'blue', 'black', 'green', 'cyan']):\n",
        "    line = ax.plot(x, i, label=lab, linestyle=ls, lw=2, color=c)\n",
        "\n",
        "ax.legend(loc='upper center', bbox_to_anchor=(0.5, 1.15),\n",
        "          ncol=5, fancybox=True, shadow=False)\n",
        "\n",
        "ax.axhline(y=0.5, linewidth=1, color='k', linestyle='--')\n",
        "ax.axhline(y=1.0, linewidth=1, color='k', linestyle='--')\n",
        "plt.ylim([0, 1.1])\n",
        "plt.xlabel('$p_1$')\n",
        "plt.ylabel('$H$')\n",
        "plt.show()"
      ],
      "execution_count": 13,
      "outputs": [
        {
          "output_type": "display_data",
          "data": {
            "image/png": "[encoded data removed]",
            "text/plain": [
              "<Figure size 432x288 with 1 Axes>"
            ]
          },
          "metadata": {
            "tags": [],
            "needs_background": "light"
          }
        }
      ]
    },
    {
      "cell_type": "markdown",
      "metadata": {
        "id": "f2QYpbCi13pa",
        "colab_type": "text"
      },
      "source": [
        "In the plot shown above, note that $H$ is maximum when the two values ​​are equally likely to occur (i.e., $p_1 = p_2 = 0.5$).\n",
        "\n",
        "To get some intuition about the concept of entropy, consider the following code cell, that shows other values generated by the $H$ in the case of a binary random variable. You are also encouraged to watch this nice and instructive [video](https://youtu.be/9r7FIXEAGvs) about the concept of entropy.\n",
        "\n"
      ]
    },
    {
      "cell_type": "code",
      "metadata": {
        "id": "P2Gs61j2B8Zp",
        "colab_type": "code",
        "colab": {
          "base_uri": "https://localhost:8080/",
          "height": 86
        },
        "outputId": "1de75bfb-800b-48a1-ff2c-5661fc86eca5"
      },
      "source": [
        "print('H(0.5, 0.5): %.2f' % entropy(1/2))\n",
        "print('H(0.1, 0.9): %.2f' % entropy(0.1))\n",
        "print('H(0.01, 0.99): %.2f' % entropy(0.01))\n",
        "print('H(0.001, 0.999): %.2f' % entropy(0.001))"
      ],
      "execution_count": 10,
      "outputs": [
        {
          "output_type": "stream",
          "text": [
            "H(0.5, 0.5): 1.00\n",
            "H(0.1, 0.9): 0.47\n",
            "H(0.01, 0.99): 0.08\n",
            "H(0.001, 0.999): 0.01\n"
          ],
          "name": "stdout"
        }
      ]
    },
    {
      "cell_type": "markdown",
      "metadata": {
        "id": "f5s8bfZis4Tt",
        "colab_type": "text"
      },
      "source": [
        "Entropy can be used to measure the homogeneity of a dataset with respect to the values of the target attribute $T$ in a set of examples. If $T$ has the same value for all examples in the dataset, then its entropy is minimal. On the other hand, if the values ​​of $T$ occur uniformly, then its entropy is maximal.\n",
        "\n",
        "Consider a predictive attribute $A$ with $n$ values. Also, consider all the $n$ subsets $S_i$ generated by splitting an original set of examples $S$ according to the values of $A$. The entropy only computes the homogeneity of a single (sub-)set of examples. This raises the question of how we could compute the homogeneity of the entire split (i.e., considering all the values of $A$). The solution is to compute a weighted average of the entropies for each value. This way, if $T$ is the target attribute and $A$ is some predictive attribute, the weighted average entropy of $T$ considering the split generated by $A$ is computed using the expression bellow.\n",
        "\n",
        "$$\n",
        "H(T \\mid A) = \\sum_{v_i \\in A} \\frac{|S_i|}{|S|} H(T \\mid S_i) \n",
        "$$\n",
        "\n",
        "In the above expression:\n",
        "\n",
        "* $S_i$ is the set of examples with value $v_i$ for $A$;\n",
        "\n",
        "* $S = \\cup_i S_i$\n",
        "\n",
        "* $H(T \\mid S_i)$ is the entropy of $T$ in $S_i$.\n",
        "\n",
        "The Information Gain (IG) of some predictive attribute $A$ is the difference between the entropies for the target attribute $T$ as measured before and after spliting a dataset by the values ​​of $A$. \n",
        "\n",
        "$$\n",
        "IG(A) = H(T) - H(T \\mid A)\n",
        "$$\n",
        "\n",
        "The selection criterion based on information gain chooses the predictive attribute that produces the highest information gain among the available attributes. Notice that maximizing information gain $IG(A)$ is equivalent to minimizing average\n",
        "entropy $H(T \\mid A)$, because $H(T)$ is constant for all attributes $A$.\n",
        "\n",
        "As an example, consider the following toy dataset, which contains four predictive attributes: `Outlook`, `Temp`, `Humidity` and `Windy`. `PlayGolf` is the target.\n",
        "\n",
        "![alt text](https://miro.medium.com/max/661/0*DX1px-z340TgpXTN.png)\n",
        "\n",
        "If we split the above dataset by the values ​​of the attribute `Outlook`, the result is three other datasets, as shown in the following figure.\n",
        "\n",
        "![alt text](https://miro.medium.com/max/446/0*N01l6jqQtVXvsEyk.png)\n",
        "\n",
        "We can compute the entropy $H(\\text{PlayGolf})$ of the attribute `PlayGolf` in the original dataset. We can also compute $H(\\text{Playgolf} \\mid \\text{Outlook})$, the weighted average entropy for `PlayGolf` considering the three sets resulting from the split by the `Outlook` attribute. We can finally compute the informatio gain for `Outlook` attribute:\n",
        "\n",
        "$$\n",
        "IG(\\text{Outlook}) = H(\\text{Playgolf}) - H(\\text{Playgolf} \\mid \\text{Outlook})\n",
        "$$"
      ]
    },
    {
      "cell_type": "markdown",
      "metadata": {
        "id": "uAqVjDz_e9R4",
        "colab_type": "text"
      },
      "source": [
        "Let us compute the value $IG(\\text{Outlook})$. For this, consider the following probability values.\n",
        "\n",
        "$$\n",
        "\\begin{aligned}\n",
        "\\Pr(\\text{Outlook} = Sunny) &= 5/14 \\\\\n",
        "\\Pr(\\text{Outlook} = Overcast) &= 4/14 \\\\\n",
        "\\Pr(\\text{Outlook} = Rainy) &= 5/14\n",
        "\\end{aligned}\n",
        "$$\n"
      ]
    },
    {
      "cell_type": "code",
      "metadata": {
        "id": "a7U81R28e8vR",
        "colab_type": "code",
        "colab": {
          "base_uri": "https://localhost:8080/",
          "height": 69
        },
        "outputId": "50d43be4-caa4-4742-c043-bdc73443706a"
      },
      "source": [
        "import numpy as np\n",
        "\n",
        "entropy_playgolf = -(((9/14) * np.log2(9/14) + (5/14) * np.log2(5/14)))\n",
        "print('H(PlayGolf): %.3f' %  entropy_playgolf)\n",
        "\n",
        "entropy_playgolf_sunny = -(((3/5) * np.log2(3/5) + (2/5) * np.log2(2/5)))\n",
        "entropy_playgolf_overcast = 0 # all values of PlayGolf are 'yes'\n",
        "entropy_playgolf_rainy = -(((2/5) * np.log2(2/5)) + ((3/5) * np.log2(3/5)))\n",
        "\n",
        "entropy_playgolf_outlook = (5/14)*entropy_playgolf_sunny + (4/14)*entropy_playgolf_overcast + (5/14)*entropy_playgolf_rainy \n",
        "print('H(PlayGolf | Outlook): %.3f' % entropy_playgolf_outlookk)\n",
        "\n",
        "print('IG(Outlook): %.3f' % (entropy_playgolf - entropy_playgolf_outlook))"
      ],
      "execution_count": 40,
      "outputs": [
        {
          "output_type": "stream",
          "text": [
            "H(PlayGolf): 0.940\n",
            "H(PlayGolf | Outlook): 0.694\n",
            "IG(Outlook): 0.247\n"
          ],
          "name": "stdout"
        }
      ]
    },
    {
      "cell_type": "markdown",
      "metadata": {
        "id": "rY0-_Q39488P",
        "colab_type": "text"
      },
      "source": [
        "The information gain for the other predictive attibutes can be computed in a similar way. Hence, we have:\n",
        "\n",
        "* $IG(\\text{Outlook}) = H(\\text{PlayGolf}) - H(\\text{PlayGolf} \\mid \\text{Outlook}) = 0.247$\n",
        "\n",
        "* $IG(\\text{Temp}) = H(\\text{PlayGolf}) - H(\\text{PlayGolf} \\mid \\text{Temp}) = 0.029$\n",
        "\n",
        "* $IG(\\text{Humidity}) = H(\\text{PlayGolf}) - H(\\text{PlayGolf} \\mid \\text{Humidity}) = 0.152$\n",
        "\n",
        "* $IG(\\text{Windy}) = H(\\text{PlayGolf}) - H(\\text{PlayGolf} \\mid \\text{Windy}) = 0.048$\n",
        "\n",
        "Since the greater value for $IG$ is related to `Outlook`, according to the information gain criterion, this should be the selected attribute to further grow the tree. \n"
      ]
    },
    {
      "cell_type": "markdown",
      "metadata": {
        "id": "Flo8JFPskHek",
        "colab_type": "text"
      },
      "source": [
        "In Scikit-Learn, the function [mutual_info_classif](https://scikit-learn.org/stable/modules/generated/sklearn.feature_selection.mutual_info_classif.html) can be used to compute the information gain for a set of predictive attributes with relation to a target attribute, as shown in the following example."
      ]
    },
    {
      "cell_type": "code",
      "metadata": {
        "id": "C21GAGd_ZDDO",
        "colab_type": "code",
        "colab": {
          "base_uri": "https://localhost:8080/",
          "height": 35
        },
        "outputId": "8302a2c4-cce2-4fb6-ae5d-938eb77c4802"
      },
      "source": [
        "from sklearn.feature_selection import mutual_info_classif\n",
        "mi = mutual_info_classif(X, y)\n",
        "print(mi)"
      ],
      "execution_count": 14,
      "outputs": [
        {
          "output_type": "stream",
          "text": [
            "[0.14335279 0.02131564 0.04796711 0.06307143]\n"
          ],
          "name": "stdout"
        }
      ]
    },
    {
      "cell_type": "markdown",
      "metadata": {
        "id": "FNDH00Zr9Izt",
        "colab_type": "text"
      },
      "source": [
        "From the values above, we can conclude that the attribute `Sex` is to be selected as the root of the tree."
      ]
    },
    {
      "cell_type": "code",
      "metadata": {
        "id": "Ml5Ksc5nZfTp",
        "colab_type": "code",
        "colab": {
          "base_uri": "https://localhost:8080/",
          "height": 207
        },
        "outputId": "ee90190e-afb2-4cec-aeb1-b73fb5339810"
      },
      "source": [
        "X.info()"
      ],
      "execution_count": 15,
      "outputs": [
        {
          "output_type": "stream",
          "text": [
            "<class 'pandas.core.frame.DataFrame'>\n",
            "RangeIndex: 891 entries, 0 to 890\n",
            "Data columns (total 4 columns):\n",
            " #   Column  Non-Null Count  Dtype  \n",
            "---  ------  --------------  -----  \n",
            " 0   Sex     891 non-null    int64  \n",
            " 1   Age     891 non-null    float64\n",
            " 2   SibSp   891 non-null    int64  \n",
            " 3   Pclass  891 non-null    int64  \n",
            "dtypes: float64(1), int64(3)\n",
            "memory usage: 28.0 KB\n"
          ],
          "name": "stdout"
        }
      ]
    },
    {
      "cell_type": "markdown",
      "metadata": {
        "id": "DpPS1xYY-JgT",
        "colab_type": "text"
      },
      "source": [
        "### Gini Impurity (aka Gini Index)\n",
        "\n",
        "Consider a set of examples $S$, and a target attribute $T$ attribute with $n$ possible values. Also, consider that $p_j$ is the probability of the $j$-th value of $T$ ($1 \\leq j \\leq n$). The Gini Impurity for $T$ considering the examples in $S$ is defined as the following.\n",
        "\n",
        "$$\n",
        "I_G(T \\mid S) = 1 - \\sum_{j}^n p_j^2\n",
        "$$\n",
        "\n",
        "Then, we can compute the Gini index considering all the splits generated by the values of $A$:\n",
        "\n",
        "$$\n",
        "G(T \\mid A) = \\sum_{v_i \\in A} \\frac{|S_i|}{|S|} I_G(T \\mid S_i)\n",
        "$$\n",
        "\n",
        "During the process of learning a decision tree, according to the Gini criterion, we should select the predictive attribute with the least value for $G(T \\mid A)$ among the available attributes."
      ]
    },
    {
      "cell_type": "markdown",
      "metadata": {
        "id": "zpHr3cd_zDR8",
        "colab_type": "text"
      },
      "source": [
        "As an example, consider again the dataset PlayGolf.\n",
        "\n",
        "![alt text](https://miro.medium.com/max/446/0*N01l6jqQtVXvsEyk.png)\n",
        "\n",
        "Let us compute $I_G$ for each split generated by the values of the attribute Outlook:\n",
        "\n",
        "$$\n",
        "\\begin{aligned}\n",
        "I_G(\\text{PlayGolf} \\mid \\text{Outlook} = \\text{'Sunny'}) &= 1 - \\left[ (3/5)^2 + (2/5)^2 \\right] = 0.48 \\\\\n",
        "I_G(\\text{PlayGolf} \\mid \\text{Outlook} = \\text{'Overcast'}) &= 1 - \\left[ (4/4)^2 + (0/4)^2 \\right] = 0 \\\\\n",
        "I_G(\\text{PlayGolf} \\mid \\text{Outlook} = \\text{'Rainy'}) &= 1 - \\left[ (2/5)^2 + (3/5)^2 \\right] = 0.48\n",
        "\\end{aligned}\n",
        "$$\n",
        "\n",
        "Now, we can compute $G(\\text{PlayGolf} \\mid \\text{Outlook})$:\n",
        "\n",
        "$$\n",
        "G(\\text{PlayGolf} \\mid \\text{Outlook}) = (5/14) \\times 0.48 + (4/14) \\times 0 + (5/14) \\times 0.48 \\approx 0.342\n",
        "$$"
      ]
    },
    {
      "cell_type": "markdown",
      "metadata": {
        "id": "ygYgTp5u469-",
        "colab_type": "text"
      },
      "source": [
        "The following example graphically illustrates the difference between entropy and the gini index. It can be noted that there are no major differences between these two measures.\n",
        "\n",
        "Credits: the following example is adapted from https://github.com/rasbt/python-machine-learning-book-2nd-edition/blob/master/code/ch03/ch03.ipynb "
      ]
    },
    {
      "cell_type": "code",
      "metadata": {
        "colab_type": "code",
        "id": "slmBjSoFzW1I",
        "colab": {
          "base_uri": "https://localhost:8080/",
          "height": 307
        },
        "outputId": "103c460e-ea44-4a70-fdee-62d555ba90b0"
      },
      "source": [
        "import matplotlib.pyplot as plt\n",
        "import numpy as np\n",
        "\n",
        "def gini(p):\n",
        "    return p * (1 - p) + (1 - p) * (1 - (1 - p))\n",
        "\n",
        "\n",
        "def entropy(p):\n",
        "    return - p * np.log2(p) - (1 - p) * np.log2((1 - p))\n",
        "\n",
        "\n",
        "x = np.arange(0.0, 1.0, 0.01)\n",
        "\n",
        "ent = [entropy(p) if p != 0 else None for p in x]\n",
        "\n",
        "fig = plt.figure()\n",
        "ax = plt.subplot(111)\n",
        "for i, lab, ls, c, in zip([ent, gini(x)], \n",
        "                          ['Entropy', 'Gini Impurity'],\n",
        "                          ['-', '-', '--', '-.'],\n",
        "                          ['red', 'blue', 'black', 'green', 'cyan']):\n",
        "    line = ax.plot(x, i, label=lab, linestyle=ls, lw=2, color=c)\n",
        "\n",
        "ax.legend(loc='upper center', bbox_to_anchor=(0.5, 1.15),\n",
        "          ncol=5, fancybox=True, shadow=False)\n",
        "\n",
        "ax.axhline(y=0.5, linewidth=1, color='k', linestyle='--')\n",
        "ax.axhline(y=1.0, linewidth=1, color='k', linestyle='--')\n",
        "plt.ylim([0, 1.1])\n",
        "plt.xlabel('p(i=1)')\n",
        "plt.ylabel('Impurity Index')\n",
        "plt.show()"
      ],
      "execution_count": 2,
      "outputs": [
        {
          "output_type": "display_data",
          "data": {
            "image/png": "[encoded data removed]",
            "text/plain": [
              "<Figure size 432x288 with 1 Axes>"
            ]
          },
          "metadata": {
            "tags": [],
            "needs_background": "light"
          }
        }
      ]
    },
    {
      "cell_type": "markdown",
      "metadata": {
        "id": "yyoIWLTqkgQn",
        "colab_type": "text"
      },
      "source": [
        "## Decision Tree Classifier in Scikit-Learn \n",
        "\n",
        "In Scikit-Learn, the class [`DecisionTreeClassifier`](https://scikit-learn.org/stable/modules/generated/sklearn.tree.DecisionTreeClassifier.html) implements a customizable algorithm for learning decision trees. The following code example illustrates the use of this class. The example is given in the context of the Iris data set. Here, the third and fourth attributes represent the petal length and petal width of each flower. The classes have already been converted to integer labels, where 0 = Iris-Setosa, 1 = Iris-Versicolor, 2 = Iris-Virginica."
      ]
    },
    {
      "cell_type": "code",
      "metadata": {
        "id": "iIiqgKQVlR1Z",
        "colab_type": "code",
        "colab": {
          "base_uri": "https://localhost:8080/",
          "height": 104
        },
        "outputId": "765af4fb-4597-4b5f-dc25-7ddce7945370"
      },
      "source": [
        "from sklearn.metrics import accuracy_score\n",
        "from sklearn import datasets\n",
        "import numpy as np\n",
        "\n",
        "iris = datasets.load_iris()\n",
        "\n",
        "# petal length and petal width\n",
        "X = iris.data[:, [2, 3]]\n",
        "\n",
        "# response vector\n",
        "y = iris.target\n",
        "\n",
        "print('Class labels:', np.unique(y))\n",
        "\n",
        "from sklearn.model_selection import train_test_split\n",
        "\n",
        "X_train, X_test, y_train, y_test = train_test_split(\n",
        "    X, y, test_size=0.3, random_state=1, stratify=y)\n",
        "\n",
        "print('Labels counts in y:', np.bincount(y))\n",
        "print('Labels counts in y_train:', np.bincount(y_train))\n",
        "print('Labels counts in y_test:', np.bincount(y_test))\n",
        "\n",
        "from sklearn.tree import DecisionTreeClassifier\n",
        "\n",
        "tree = DecisionTreeClassifier(criterion='gini', \n",
        "                              max_depth=4, \n",
        "                              random_state=1)\n",
        "tree.fit(X_train, y_train)\n",
        "\n",
        "y_pred = tree.predict(X_test)\n",
        "\n",
        "print('Accuracy on test set: %.2f' % accuracy_score(y_test, y_pred))"
      ],
      "execution_count": null,
      "outputs": [
        {
          "output_type": "stream",
          "text": [
            "Class labels: [0 1 2]\n",
            "Labels counts in y: [50 50 50]\n",
            "Labels counts in y_train: [35 35 35]\n",
            "Labels counts in y_test: [15 15 15]\n",
            "Accuracy on test set: 0.98\n"
          ],
          "name": "stdout"
        }
      ]
    },
    {
      "cell_type": "markdown",
      "metadata": {
        "id": "Ph23zFQS7nXi",
        "colab_type": "text"
      },
      "source": [
        "We can also visualize the decisions boundary of this model. See below."
      ]
    },
    {
      "cell_type": "code",
      "metadata": {
        "id": "JrC6KIU86dhX",
        "colab_type": "code",
        "colab": {
          "base_uri": "https://localhost:8080/",
          "height": 335
        },
        "outputId": "b13ee63a-7e0a-47f7-b8f3-8b787fe13f8d"
      },
      "source": [
        "from matplotlib.colors import ListedColormap\n",
        "import matplotlib.pyplot as plt\n",
        "\n",
        "def plot_decision_regions(X, y, classifier, test_idx=None, resolution=0.02):\n",
        "\n",
        "    # setup marker generator and color map\n",
        "    markers = ('s', 'x', 'o', '^', 'v')\n",
        "    colors = ('red', 'blue', 'lightgreen', 'gray', 'cyan')\n",
        "    cmap = ListedColormap(colors[:len(np.unique(y))])\n",
        "\n",
        "    # plot the decision surface\n",
        "    x1_min, x1_max = X[:, 0].min() - 1, X[:, 0].max() + 1\n",
        "    x2_min, x2_max = X[:, 1].min() - 1, X[:, 1].max() + 1\n",
        "    xx1, xx2 = np.meshgrid(np.arange(x1_min, x1_max, resolution),\n",
        "                           np.arange(x2_min, x2_max, resolution))\n",
        "    Z = classifier.predict(np.array([xx1.ravel(), xx2.ravel()]).T)\n",
        "    Z = Z.reshape(xx1.shape)\n",
        "    plt.contourf(xx1, xx2, Z, alpha=0.3, cmap=cmap)\n",
        "    plt.xlim(xx1.min(), xx1.max())\n",
        "    plt.ylim(xx2.min(), xx2.max())\n",
        "\n",
        "    for idx, cl in enumerate(np.unique(y)):\n",
        "        plt.scatter(x=X[y == cl, 0], \n",
        "                    y=X[y == cl, 1],\n",
        "                    alpha=0.8, \n",
        "                    c=colors[idx],\n",
        "                    marker=markers[idx], \n",
        "                    label=cl, \n",
        "                    edgecolor='black')\n",
        "\n",
        "    # highlight test samples\n",
        "    if test_idx:\n",
        "        # plot all samples\n",
        "        X_test, y_test = X[test_idx, :], y[test_idx]\n",
        "\n",
        "        plt.scatter(X_test[:, 0],\n",
        "                    X_test[:, 1],\n",
        "                    c='',\n",
        "                    edgecolor='black',\n",
        "                    alpha=1.0,\n",
        "                    linewidth=1,\n",
        "                    marker='o',\n",
        "                    s=100, \n",
        "                    label='test set')\n",
        "\n",
        "X_combined = np.vstack((X_train, X_test))\n",
        "y_combined = np.hstack((y_train, y_test))\n",
        "plot_decision_regions(X_combined, y_combined, \n",
        "                      classifier=tree, test_idx=range(105, 150))\n",
        "\n",
        "plt.xlabel('petal length [cm]')\n",
        "plt.ylabel('petal width [cm]')\n",
        "plt.legend(loc='upper left')\n",
        "plt.tight_layout()\n",
        "plt.show()"
      ],
      "execution_count": null,
      "outputs": [
        {
          "output_type": "stream",
          "text": [
            "/usr/local/lib/python3.6/dist-packages/ipykernel_launcher.py:44: MatplotlibDeprecationWarning: Using a string of single character colors as a color sequence is deprecated. Use an explicit list instead.\n"
          ],
          "name": "stderr"
        },
        {
          "output_type": "display_data",
          "data": {
            "image/png": "[encoded data removed]",
            "text/plain": [
              "<Figure size 432x288 with 1 Axes>"
            ]
          },
          "metadata": {
            "tags": [],
            "needs_background": "light"
          }
        }
      ]
    },
    {
      "cell_type": "markdown",
      "metadata": {
        "id": "nSUSO2nwl4lD",
        "colab_type": "text"
      },
      "source": [
        "For curiosity's sake, notice that it is possible to export the image above to a file. See below."
      ]
    },
    {
      "cell_type": "code",
      "metadata": {
        "id": "J2sZpYsglzdG",
        "colab_type": "code",
        "colab": {}
      },
      "source": [
        "from pydotplus import graph_from_dot_data\n",
        "from sklearn.tree import export_graphviz\n",
        "\n",
        "dot_data = export_graphviz(tree,\n",
        "                           filled=True, \n",
        "                           rounded=True,\n",
        "                           class_names=['Setosa', \n",
        "                                        'Versicolor',\n",
        "                                        'Virginica'],\n",
        "                           feature_names=['petal length', \n",
        "                                          'petal width'],\n",
        "                           out_file=None) \n",
        "graph = graph_from_dot_data(dot_data) \n",
        "graph.write_png('tree.png')"
      ],
      "execution_count": null,
      "outputs": []
    },
    {
      "cell_type": "markdown",
      "metadata": {
        "id": "eg4ZJvfLGqYt",
        "colab_type": "text"
      },
      "source": [
        "# Decision trees for regression\n",
        "\n",
        "Decision trees can also be used in a regression task. However, in this case, an impurity metric suitable for continuous variables (instead of Gini index and information gain) should be used. Also, the value predicted by a leaf node in a regression tree is the average of the target values for the examples inside that leaf.\n",
        "\n",
        "One possible metric is the mean squared error (MSE). In particular, to quantify the level of impurity $I(t)$ in a node $t$ of the decision tree being built, we can apply the following expression:\n",
        "\n",
        "$$\n",
        "I(t) = \\operatorname{MSE}(t) = \\frac{1}{m_t}  \\sum_{i \\in D_t} (y^{(i)} - \\overline{y}_t)^2\n",
        "$$\n",
        "\n",
        "$$\n",
        "\\overline{y}_t = \\frac{1}{m_t} \\sum_{i \\in D_t} y^{(i)}\n",
        "$$\n",
        "\n",
        "In the expressions above:\n",
        "\n",
        "* $D_t$ is the training subset at node $t$.\n",
        "\n",
        "* $m_t$ is the size of $D_t$ (i.e., the number of training examples at node $t$).\n",
        "\n",
        "* $y^{(i)}$ is the true value of the target feature for the $i$-th training example in $D_t$.\n",
        "\n",
        "* $\\overline{y}_t$ is the average of the predicted values for examples  in $D_t$.\n",
        "\n",
        "Source: Python Machine Learning, 2nd ed., pp 341"
      ]
    },
    {
      "cell_type": "markdown",
      "metadata": {
        "id": "v-a6GGMunZmT",
        "colab_type": "text"
      },
      "source": [
        ""
      ]
    },
    {
      "cell_type": "code",
      "metadata": {
        "id": "ELCAB3Egnr1H",
        "colab_type": "code",
        "colab": {
          "base_uri": "https://localhost:8080/",
          "height": 35
        },
        "outputId": "662aea32-2684-443d-d01e-a7f24977ecb0"
      },
      "source": [
        "import numpy as np\n",
        "expl = np.array([2.5, 2.5, 2.5, 2.5])\n",
        "print(expl.mean())"
      ],
      "execution_count": null,
      "outputs": [
        {
          "output_type": "stream",
          "text": [
            "4.25\n"
          ],
          "name": "stdout"
        }
      ]
    },
    {
      "cell_type": "markdown",
      "metadata": {
        "id": "bI5-8JcB4jkF",
        "colab_type": "text"
      },
      "source": [
        "The following example illustrates the use of the class [DecisionTreeRegressor](https://scikit-learn.org/stable/modules/generated/sklearn.tree.DecisionTreeRegressor.html), present in Scikit-Learn to induce decision tree models for regression."
      ]
    },
    {
      "cell_type": "code",
      "metadata": {
        "id": "vQ9q4uCO4WQS",
        "colab_type": "code",
        "colab": {
          "base_uri": "https://localhost:8080/",
          "height": 35
        },
        "outputId": "d241b016-0a2d-40f6-db08-cc1ed9eec4fc"
      },
      "source": [
        "from sklearn.tree import DecisionTreeRegressor\n",
        "from sklearn import datasets\n",
        "\n",
        "# Load data with only two features\n",
        "boston = datasets.load_boston()\n",
        "X = boston.data[:,0:2]\n",
        "y = boston.target\n",
        "\n",
        "# Create decision tree classifer object\n",
        "regr = DecisionTreeRegressor(random_state=0)\n",
        "\n",
        "# Train model\n",
        "model = regr.fit(X, y)\n",
        "\n",
        "# Make new observation\n",
        "observation = [[0.02, 16]]\n",
        "              \n",
        "# Predict observation's value  \n",
        "print(model.predict(observation))"
      ],
      "execution_count": null,
      "outputs": [
        {
          "output_type": "stream",
          "text": [
            "[33.]\n"
          ],
          "name": "stdout"
        }
      ]
    },
    {
      "cell_type": "markdown",
      "metadata": {
        "id": "BJVhHUTL5NHG",
        "colab_type": "text"
      },
      "source": [
        "The following code ([source](https://scikit-learn.org/stable/auto_examples/tree/plot_tree_regression.html#sphx-glr-auto-examples-tree-plot-tree-regression-py)) provides another example of using the class `DecisionTreeRegressor`. Notice that, if the maximum depth of the tree (controlled by the parameter `max_depth`) is set too high, the decision trees learns very fine details from the training data and learns from the noise, that is, they overfit."
      ]
    },
    {
      "cell_type": "code",
      "metadata": {
        "id": "5UO1wNgx5QEp",
        "colab_type": "code",
        "colab": {
          "base_uri": "https://localhost:8080/",
          "height": 295
        },
        "outputId": "6ff3a12f-6116-48a7-fa1b-af58411fef82"
      },
      "source": [
        "# Import the necessary modules and libraries\n",
        "import numpy as np\n",
        "from sklearn.tree import DecisionTreeRegressor\n",
        "import matplotlib.pyplot as plt\n",
        "\n",
        "# Create a random dataset\n",
        "rng = np.random.RandomState(1)\n",
        "X = np.sort(5 * rng.rand(80, 1), axis=0)\n",
        "y = np.sin(X).ravel()\n",
        "y[::5] += 3 * (0.5 - rng.rand(16))\n",
        "\n",
        "# Fit two regression models\n",
        "regr_1 = DecisionTreeRegressor(max_depth=2)\n",
        "regr_2 = DecisionTreeRegressor(max_depth=5)\n",
        "regr_1.fit(X, y)\n",
        "regr_2.fit(X, y)\n",
        "\n",
        "# Predict\n",
        "X_test = np.arange(0.0, 5.0, 0.01)[:, np.newaxis]\n",
        "y_1 = regr_1.predict(X_test)\n",
        "y_2 = regr_2.predict(X_test)\n",
        "\n",
        "# Plot the results\n",
        "plt.figure()\n",
        "plt.scatter(X, y, s=20, edgecolor=\"black\",\n",
        "            c=\"darkorange\", label=\"data\")\n",
        "plt.plot(X_test, y_1, color=\"cornflowerblue\",\n",
        "         label=\"max_depth=2\", linewidth=2)\n",
        "plt.plot(X_test, y_2, color=\"yellowgreen\", label=\"max_depth=5\", linewidth=2)\n",
        "plt.xlabel(\"data\")\n",
        "plt.ylabel(\"target\")\n",
        "plt.title(\"Decision Tree Regression\")\n",
        "plt.legend()\n",
        "plt.show()"
      ],
      "execution_count": null,
      "outputs": [
        {
          "output_type": "display_data",
          "data": {
            "image/png": "[encoded data removed]",
            "text/plain": [
              "<Figure size 432x288 with 1 Axes>"
            ]
          },
          "metadata": {
            "tags": [],
            "needs_background": "light"
          }
        }
      ]
    },
    {
      "cell_type": "markdown",
      "metadata": {
        "id": "-TfecgGzmBqu",
        "colab_type": "text"
      },
      "source": [
        "# Final Remarks\n",
        "\n",
        "Some advantages of decision tree models are:\n",
        "\n",
        "* They are simple to understand and interpret. Trees can be viewed.\n",
        "\n",
        "* They require little data preparation. Other techniques usually require data normalization, dummy variables need to be created.\n",
        "\n",
        "* The cost of using the tree (ie, predicting data) is logarithmic in the number of data points used to train the tree.\n",
        "\n",
        "* They are able to handle numerical and categorical data. Other learning techniques are generally specialized in the analysis of data sets that have only one type of variable. \n"
      ]
    }
  ]
}
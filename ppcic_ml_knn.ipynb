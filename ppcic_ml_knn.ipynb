{
  "nbformat": 4,
  "nbformat_minor": 0,
  "metadata": {
    "colab": {
      "name": "ppcic-ml-knn.ipynb",
      "provenance": [],
      "collapsed_sections": [],
      "toc_visible": true,
      "authorship_tag": "ABX9TyPlOAydO3SoMDN4WtweoXMi",
      "include_colab_link": true
    },
    "kernelspec": {
      "name": "python3",
      "display_name": "Python 3"
    }
  },
  "cells": [
    {
      "cell_type": "markdown",
      "metadata": {
        "id": "view-in-github",
        "colab_type": "text"
      },
      "source": [
        "<a href=\"https://colab.research.google.com/github/MLRG-CEFET-RJ/ml-class/blob/master/ppcic_ml_knn.ipynb\" target=\"_parent\"><img src=\"https://colab.research.google.com/assets/colab-badge.svg\" alt=\"Open In Colab\"/></a>"
      ]
    },
    {
      "cell_type": "markdown",
      "metadata": {
        "id": "w96g8_ZaVNn3",
        "colab_type": "text"
      },
      "source": [
        "# Introduction\n",
        "\n",
        "The $k$ nearest neighbors ($k$-NN) algorithm is one of the simplest supervised learning methods. Despite being simple, it often produces satisfactory results. It can be used for both classification and regression problems.\n",
        "\n",
        "$k$-NN is said to be a *lazy learning* algorithm. This means the training phase consists only of storing the representations of the examples. That is, the algorithm does not explicitly produce a classification model. Another way to interpret this is that, in $k$-NN, the training set is the model.\n",
        "\n",
        "$k$-NN is a distance-based method, that is, it considers some metric to compute the distance between a given pair of examples. For this, $k$-NN interpret each example in the data matrix $X$ as a point in the $n$-dimensional space. Bellow, we give more details about this geometric interpretation of examples as points. "
      ]
    },
    {
      "cell_type": "markdown",
      "metadata": {
        "id": "eheXoU_tR5tJ",
        "colab_type": "text"
      },
      "source": [
        "# Geometric interpretation of a dataset\n",
        "\n",
        "A common characteristic of many learning algorithms (for classification and for other tasks) is that they interpret each example in a dataset as a *geometric point*. See the following figure (taken from [here](https://www.mathplanet.com/education/geometry/points,-lines,-planes-and-angles/an-introduction-to-geometry)). \n",
        "\n",
        "![three points in 2D](https://www.mathplanet.com/Oldsite/media/43053/picture04.png)\n",
        "\n",
        "To get a sense of this interpretation, consider a ficticious dataset for binary classification with 17 examples. Furthermore, for simplicity´s sake, consider that each example has only two features, which means that each example is of the form $\\mathbf{x} = [x_1, x_2]$. The code cell below presents this dataset as two separated numpy arrays, $X$ and $y$."
      ]
    },
    {
      "cell_type": "code",
      "metadata": {
        "id": "mFksDhm3UBAS",
        "colab_type": "code",
        "colab": {}
      },
      "source": [
        "import numpy as np\n",
        "\n",
        "X = np.array([[-0.1, 1.4],\n",
        "              [-0.5,-0.1],\n",
        "              [ 1.3, 0.9],\n",
        "              [-0.6, 0.4],\n",
        "              [-1.5, 0.4],\n",
        "              [ 0.2, 0.2],\n",
        "              [-0.3,-0.4],\n",
        "              [ 0.7,-0.8],\n",
        "              [ 1.1,-1.5],\n",
        "              [-1.0, 0.9],\n",
        "              [-0.5,-1.5],\n",
        "              [-1.3,-0.4],\n",
        "              [-1.4,-1.2],\n",
        "              [-0.9,-1.1],\n",
        "              [ 0.4,-1.3],\n",
        "              [-0.4, 0.6],\n",
        "              [ 0.3,-0.5]])\n",
        "\n",
        "y = np.array([0, 0, 1, 0, 0, 1, 1, 1, 1, 0, 1, 0, 0, 1, 1, 0, 1])"
      ],
      "execution_count": null,
      "outputs": []
    },
    {
      "cell_type": "markdown",
      "metadata": {
        "id": "RRXIv5AiUV-x",
        "colab_type": "text"
      },
      "source": [
        "Since each example is represented by a pair of numbers, we can plot these examples for visualization purposes."
      ]
    },
    {
      "cell_type": "code",
      "metadata": {
        "id": "i4ljwlU7TNWg",
        "colab_type": "code",
        "colab": {
          "base_uri": "https://localhost:8080/",
          "height": 480
        },
        "outputId": "9a76b7a3-a260-4871-98bc-a3166ed26f66"
      },
      "source": [
        "import matplotlib.pyplot as plt\n",
        "plt.style.use('classic')\n",
        "np.set_printoptions(precision=3, suppress=True)\n",
        "\n",
        "colormap = np.array(['r', 'b'])\n",
        "\n",
        "def plot_scatter(X, y, colormap):\n",
        "  plt.grid()\n",
        "  plt.xlim([-2.0, 2.0])\n",
        "  plt.ylim([-2.0, 2.0])\n",
        "  plt.xlabel('$x_1$', size=20)\n",
        "  plt.ylabel('$x_2$', size=20)\n",
        "  plt.title('Input 2D points', size=18)\n",
        "  plt.scatter(X[:,0], X[:, 1], s=50, c=colormap[y])\n",
        "\n",
        "plot_scatter(X, y, colormap)"
      ],
      "execution_count": null,
      "outputs": [
        {
          "output_type": "display_data",
          "data": {
            "image/png": "[encoded data removed]",
            "text/plain": [
              "<Figure size 640x480 with 1 Axes>"
            ]
          },
          "metadata": {
            "tags": []
          }
        }
      ]
    },
    {
      "cell_type": "markdown",
      "metadata": {
        "id": "JvpNQqRXWNkS",
        "colab_type": "text"
      },
      "source": [
        "In this plot, each point represents a example in our toy dataset. Also, we use colors blue and red to represent the class of each example.\n",
        "\n",
        "The above example is for a 2-dimensional dataset so that we can visualize them. Nevertheless, this geometric interpretation can also be used for high dimensional datasets."
      ]
    },
    {
      "cell_type": "markdown",
      "metadata": {
        "id": "IPOf31zBjY7l",
        "colab_type": "text"
      },
      "source": [
        "The geometric interpretation is useful because we can view the distance between two points as a kind of similarity measure between the corresponding examples: the closer the two points are, the more similar they are. \n",
        "\n",
        "The image below (source) illustrates this concept in the simple case of 2-dimensional points. But you should convince yourself that this interpretation of *distances as similarities* can be extended to $n$-dimensional examples $\\mathbf{x} = [x_0, x_1, x_2, \\cdots, x_n]$, $n > 2$. \n",
        "\n",
        "![Source: Wikipedia](http://chrisjmccormick.files.wordpress.com/2013/08/2d_euclidean_distance_illustration.png)\n",
        "\n",
        "In the particular case of a binary classification task, consider that points $A$ and $B$ belong to the positive and negative classes, respectively. Then, if an unclassified point $C$ is closer to point $B$ than to point $A$, we would expect $C$ to belong to the negative class.\n"
      ]
    },
    {
      "cell_type": "markdown",
      "metadata": {
        "id": "BT5ph5TBkETh",
        "colab_type": "text"
      },
      "source": [
        "# Distance measures\n",
        "\n",
        "$k$-NN uses some distance measure to compute the similarity between pairs of points $\\mathbf{u}$ and $\\mathbf{v}$ in a $n$-dimensional space. Some popular measures are listed below.\n",
        "\n",
        "## $L_p$ norms\n",
        "\n",
        "$L_p$ norm (aka Minkowski distance) is actually a family of distance measures adequate for continuous features.\n",
        "\n",
        "$$\n",
        "{\\begin{aligned}\n",
        "L_p(\\mathbf {u} ,\\mathbf{v} ) &= \\|\\mathbf{u} -\\mathbf {v} \\|_{p} = \\\\\n",
        "\t& = {\\sqrt[p]{(u_{1}-v_{1})^{p}+(u_{2}-v_{2})^{p}+\\cdots +(u_{n}-v_{n})^{p}}} = \\\\\n",
        "\t&\t=\t{\\sqrt[p]{\\sum _{i=1}^{n}(u_{i}-v_{i})^{p}}}\n",
        "\\end{aligned}}\n",
        "$$\n",
        "\n",
        "We can get a particular distance by fixing the value o $p$ in the equation above. In particular, both $L_1$ and $L_2$ norms, defined bellow, are special cases of the $L_p$ norm:\n",
        "\n",
        "* Manhattan Distance ($L_1$ norm)\n",
        "$$\n",
        "{\\begin{aligned}\n",
        "L_1(\\mathbf {u} ,\\mathbf {v} ) &= \\|\\mathbf {u} -\\mathbf {v} \\|_{1}= \\\\\n",
        "& = \\sum _{i=1}^{n}|u_{i}-v_{i}|\n",
        "\\end{aligned}}\n",
        "$$\n",
        "\n",
        "* Euclidean Distance ($L_2$ norm)\n",
        "$$\n",
        "{\\begin{aligned}\n",
        "L_2(\\mathbf {u} ,\\mathbf {v} ) &= \\|\\mathbf {u} -\\mathbf{v} \\|_{2} = \\\\\n",
        "\t& = {\\sqrt {(u_{1}-v_{1})^{2}+(u_{2}-v_{2})^{2}+\\cdots +(u_{n}-v_{n})^{2}}} = \\\\\n",
        "\t&\t=\t{\\sqrt {\\sum_{i=1}^{n}(u_{i}-v_{i})^{2}}}\n",
        "\\end{aligned}}\n",
        "$$\n",
        "\n",
        "## Cosine distance\n",
        "\n",
        "The cosine distance (aka cosine similarity) is also adequate for both continuous and binary features. Its value ranges between 0 and +1, since it corresponds to the cosine of the angle between $u$ and $v$. Both $u$ and $v$ are considered to be vector in the first quadrant.\n",
        "\n",
        "$$\n",
        "1 - \\cos(\\theta) = 1 - \\frac{\\sum_{i=1}^{n}{u_{i}v_{i}}}{{\\sqrt{\\sum_{i=1}^{n}{u_{i}^{2}}}}{\\sqrt{\\sum_{i=1}^{n}{v_{i}^{2}}}}}\n",
        "$$\n",
        "\n",
        "$$\n",
        "1 - {\\mathbf{u} \\cdot \\mathbf{v} \\over \\|\\mathbf {u}\\| \\|\\mathbf{v}\\|}\n",
        "$$\n",
        "\n",
        "## Hamming Distance\n",
        "\n",
        "The Hamming distance is adequate for binary features only. This distance considers that each feature is binary. In the equation bellow, $h(u_{i}, v_{i}) = 0$ if $u_{i} = v_{i}$, and $h(u_{i}, v_{i}) = 1$ if $u_{i} \\neq v_{i}$.\n",
        "\n",
        "\n",
        "$$\n",
        "H(\\mathbf {u} ,\\mathbf {v} ) = \\sum _{i=1}^{n} h(u_{i}, v_{i})\n",
        "$$"
      ]
    },
    {
      "cell_type": "markdown",
      "metadata": {
        "id": "bzlmRPUUDaws",
        "colab_type": "text"
      },
      "source": [
        "As an example, the following code cell uses the Scipy function called [distance_matrix](https://docs.scipy.org/doc/scipy/reference/generated/scipy.spatial.distance_matrix.html) to compute the pairwise distances between points in a data matrix $X$. This function presents a parameter `p` that defines which Minkowski distance is to be used. In the example below, the Euclidean distance is used. In general, a distance matrix shows all the pairwise distances between points in a dataset. By definition, such matrix is symetric.\n",
        "\n",
        "The code also presents a heatmap, which is a graphical way to inspect a distance matrix. In such heatmap, an entry with a colder color correspond to a closer (i.e., more similar) pair of points. "
      ]
    },
    {
      "cell_type": "code",
      "metadata": {
        "id": "m_GjdgiE2_4P",
        "colab_type": "code",
        "colab": {
          "base_uri": "https://localhost:8080/",
          "height": 319
        },
        "outputId": "a952ca4a-bc0e-4949-d3c6-bd93c492c0f6"
      },
      "source": [
        "from scipy.spatial import distance_matrix\n",
        "import seaborn as sns\n",
        "import matplotlib.pylab as plt\n",
        "\n",
        "dists = distance_matrix(X, X, p = 2)\n",
        "\n",
        "ax = sns.heatmap(dists, linewidth=0.5)\n",
        "plt.show()"
      ],
      "execution_count": null,
      "outputs": [
        {
          "output_type": "stream",
          "text": [
            "/usr/local/lib/python3.6/dist-packages/statsmodels/tools/_testing.py:19: FutureWarning: pandas.util.testing is deprecated. Use the functions in the public API at pandas.testing instead.\n",
            "  import pandas.util.testing as tm\n"
          ],
          "name": "stderr"
        },
        {
          "output_type": "display_data",
          "data": {
            "image/png": "[encoded data removed]",
            "text/plain": [
              "<Figure size 432x288 with 2 Axes>"
            ]
          },
          "metadata": {
            "tags": [],
            "needs_background": "light"
          }
        }
      ]
    },
    {
      "cell_type": "code",
      "metadata": {
        "id": "WUKl4DdEAy5V",
        "colab_type": "code",
        "colab": {
          "base_uri": "https://localhost:8080/",
          "height": 595
        },
        "outputId": "9bb1e09d-959a-4e8d-ff9f-13e292a44498"
      },
      "source": [
        "print(dists)"
      ],
      "execution_count": null,
      "outputs": [
        {
          "output_type": "stream",
          "text": [
            "[[0.    1.552 1.487 1.118 1.72  1.237 1.811 2.341 3.138 1.03  2.927 2.163\n",
            "  2.907 2.625 2.746 0.854 1.942]\n",
            " [1.552 0.    2.059 0.51  1.118 0.762 0.361 1.389 2.126 1.118 1.4   0.854\n",
            "  1.421 1.077 1.5   0.707 0.894]\n",
            " [1.487 2.059 0.    1.965 2.844 1.304 2.062 1.803 2.408 2.3   3.    2.907\n",
            "  3.421 2.973 2.377 1.726 1.72 ]\n",
            " [1.118 0.51  1.965 0.    0.9   0.825 0.854 1.769 2.55  0.64  1.903 1.063\n",
            "  1.789 1.53  1.972 0.283 1.273]\n",
            " [1.72  1.118 2.844 0.9   0.    1.712 1.442 2.506 3.22  0.707 2.147 0.825\n",
            "  1.603 1.616 2.55  1.118 2.012]\n",
            " [1.237 0.762 1.304 0.825 1.712 0.    0.781 1.118 1.924 1.389 1.838 1.616\n",
            "  2.126 1.703 1.513 0.721 0.707]\n",
            " [1.811 0.361 2.062 0.854 1.442 0.781 0.    1.077 1.78  1.476 1.118 1.\n",
            "  1.36  0.922 1.14  1.005 0.608]\n",
            " [2.341 1.389 1.803 1.769 2.506 1.118 1.077 0.    0.806 2.404 1.389 2.04\n",
            "  2.138 1.628 0.583 1.78  0.5  ]\n",
            " [3.138 2.126 2.408 2.55  3.22  1.924 1.78  0.806 0.    3.189 1.6   2.64\n",
            "  2.518 2.04  0.728 2.581 1.281]\n",
            " [1.03  1.118 2.3   0.64  0.707 1.389 1.476 2.404 3.189 0.    2.452 1.334\n",
            "  2.138 2.002 2.608 0.671 1.91 ]\n",
            " [2.927 1.4   3.    1.903 2.147 1.838 1.118 1.389 1.6   2.452 0.    1.36\n",
            "  0.949 0.566 0.922 2.102 1.281]\n",
            " [2.163 0.854 2.907 1.063 0.825 1.616 1.    2.04  2.64  1.334 1.36  0.\n",
            "  0.806 0.806 1.924 1.345 1.603]\n",
            " [2.907 1.421 3.421 1.789 1.603 2.126 1.36  2.138 2.518 2.138 0.949 0.806\n",
            "  0.    0.51  1.803 2.059 1.838]\n",
            " [2.625 1.077 2.973 1.53  1.616 1.703 0.922 1.628 2.04  2.002 0.566 0.806\n",
            "  0.51  0.    1.315 1.772 1.342]\n",
            " [2.746 1.5   2.377 1.972 2.55  1.513 1.14  0.583 0.728 2.608 0.922 1.924\n",
            "  1.803 1.315 0.    2.062 0.806]\n",
            " [0.854 0.707 1.726 0.283 1.118 0.721 1.005 1.78  2.581 0.671 2.102 1.345\n",
            "  2.059 1.772 2.062 0.    1.304]\n",
            " [1.942 0.894 1.72  1.273 2.012 0.707 0.608 0.5   1.281 1.91  1.281 1.603\n",
            "  1.838 1.342 0.806 1.304 0.   ]]\n"
          ],
          "name": "stdout"
        }
      ]
    },
    {
      "cell_type": "code",
      "metadata": {
        "id": "sj5AiUauBJYs",
        "colab_type": "code",
        "colab": {
          "base_uri": "https://localhost:8080/",
          "height": 68
        },
        "outputId": "a79000ce-111c-43ad-c51c-c3fa9996bc6c"
      },
      "source": [
        "print(X[3,:])\n",
        "print(X[15,:])\n",
        "print(np.sqrt(np.square(X[3,0]-X[15,0]) + np.square(X[3,1]-X[15,1])))"
      ],
      "execution_count": null,
      "outputs": [
        {
          "output_type": "stream",
          "text": [
            "[-0.6  0.4]\n",
            "[-0.4  0.6]\n",
            "0.28284271247461895\n"
          ],
          "name": "stdout"
        }
      ]
    },
    {
      "cell_type": "markdown",
      "metadata": {
        "id": "3Ft1zQ-UHYqz",
        "colab_type": "text"
      },
      "source": [
        "# $k$-NN for classification"
      ]
    },
    {
      "cell_type": "markdown",
      "metadata": {
        "id": "kvg1kn9YHkdH",
        "colab_type": "text"
      },
      "source": [
        "## Definition of neighbors\n",
        "\n",
        "To classify an example $\\mathbf{x}$, $k$-NN produces a total order on the $\\mathbf{x}$ “neighbors”, taken from the training set $X$.\n",
        "\n",
        "The meaning of neighbor here is in the context of *similarity*. The classes of the $k$ most similar neighbors are used to predict the class of $\\mathbf{x}$.\n",
        "\n",
        "The following figure ([source](https://www.datacamp.com/community/tutorials/k-nearest-neighbor-classification-scikit-learn)) illustrates the behavior of $k$-NN for $k = 1$ in the context of binary classification. Notice that there is only one example inside the ball of neighbors for $\\mathbf{x}$. Hence $1$-NN would predict that $\\mathbf{x}$ belongs to the *red* class.\n",
        "\n",
        "![alt text](http://res.cloudinary.com/dyd911kmh/image/upload/f_auto,q_auto:best/v1531424125/Knn_k1_z96jba.png)\n",
        "\n",
        "In the case where $k$ is chosen to greater than 1, then the [majority rule](https://en.wikipedia.org/wiki/Majority_rule) is applied to predict the class of $\\mathbf{x}$. See the image below for the case $k=3$.\n",
        "\n",
        "![alt text](http://res.cloudinary.com/dyd911kmh/image/upload/f_auto,q_auto:best/v1531424125/KNN_final1_ibdm8a.png)\n"
      ]
    },
    {
      "cell_type": "markdown",
      "metadata": {
        "id": "5Q-BIZzNRFn8",
        "colab_type": "text"
      },
      "source": [
        "Pr(pos) = 2/3\n",
        "Pr(neg) = 1/3\n",
        "\n",
        "![alt text](http://res.cloudinary.com/dyd911kmh/image/upload/f_auto,q_auto:best/v1531424125/KNN_final1_ibdm8a.png)\n"
      ]
    },
    {
      "cell_type": "markdown",
      "metadata": {
        "id": "CgtFVJfD_THZ",
        "colab_type": "text"
      },
      "source": [
        "The animation below illustrates the behavior of $k$-NN in a toy dataset with two predictive features and two classes."
      ]
    },
    {
      "cell_type": "code",
      "metadata": {
        "id": "_JuEazbKJGl1",
        "colab_type": "code",
        "colab": {
          "base_uri": "https://localhost:8080/",
          "height": 502
        },
        "outputId": "9ace34b0-79ab-48b8-9108-91ee80447d37"
      },
      "source": [
        "from IPython.display import HTML\n",
        "\n",
        "HTML(\"\"\"\n",
        "<video width=\"640\" height=\"480\" controls>\n",
        "  <source src=\"https://assets.yihui.name/figures/animation/example/knn-ani/demo-a.mp4?dl=1\" type=\"video/mp4\">\n",
        "</video>\n",
        "\"\"\")"
      ],
      "execution_count": null,
      "outputs": [
        {
          "output_type": "execute_result",
          "data": {
            "text/html": [
              "\n",
              "<video width=\"640\" height=\"480\" controls>\n",
              "  <source src=\"https://assets.yihui.name/figures/animation/example/knn-ani/demo-a.mp4?dl=1\" type=\"video/mp4\">\n",
              "</video>\n"
            ],
            "text/plain": [
              "<IPython.core.display.HTML object>"
            ]
          },
          "metadata": {
            "tags": []
          },
          "execution_count": 8
        }
      ]
    },
    {
      "cell_type": "markdown",
      "metadata": {
        "id": "h4XIbL5FIClk",
        "colab_type": "text"
      },
      "source": [
        "## Steps of the Algorithm\n",
        "\n",
        "* Compute the $k$ neighborhood for an example $\\mathbf{x}$. i.e., determine the $k$ “nearest” neighboring examples of $\\mathbf{x}$.\n",
        "\n",
        "* Count the amount $q(c_i)$ of examples in the $k$-neighborhood that belong to the class $c_i$.\n",
        "\n",
        "* Produce an estimate of $\\Pr(c_i \\mid \\mathbf{x})$:\n",
        "\n",
        "* Classify $\\mathbf{x}$ as belonging to the most likely class (called the *majority class*)."
      ]
    },
    {
      "cell_type": "markdown",
      "metadata": {
        "id": "o892vfTYL2gg",
        "colab_type": "text"
      },
      "source": [
        "## $k$-NN in Scikit-Learn\n",
        "\n",
        "Scikit-Learn's [KNeighborsClassifier](https://scikit-learn.org/stable/modules/generated/sklearn.neighbors.KNeighborsClassifier.html) class implements the $k$-NN algorithm. In its simplest form of instantiation, it is only necessary to configure the hyperparameter $k$, which corresponds to the number of neighbors."
      ]
    },
    {
      "cell_type": "code",
      "metadata": {
        "id": "gKZpaBFwMFPy",
        "colab_type": "code",
        "colab": {
          "base_uri": "https://localhost:8080/",
          "height": 69
        },
        "outputId": "76b91973-a6c5-430c-a7cb-d9bdc28917b1"
      },
      "source": [
        "from sklearn.neighbors import KNeighborsClassifier\n",
        "from sklearn.model_selection import train_test_split\n",
        "\n",
        "from sklearn import datasets\n",
        "iris = datasets.load_iris()\n",
        "\n",
        "X = iris.data    # data matrix\n",
        "y = iris.target  # response vector\n",
        "\n",
        "train_X, test_X, train_y, test_y = train_test_split(\n",
        "    X, y, test_size=0.2, random_state=1, stratify=y)\n",
        "\n",
        "modelKNN = KNeighborsClassifier(n_neighbors=3) # k = 3\n",
        "\n",
        "modelKNN.fit(train_X, train_y)"
      ],
      "execution_count": null,
      "outputs": [
        {
          "output_type": "execute_result",
          "data": {
            "text/plain": [
              "KNeighborsClassifier(algorithm='auto', leaf_size=30, metric='minkowski',\n",
              "                     metric_params=None, n_jobs=None, n_neighbors=3, p=2,\n",
              "                     weights='uniform')"
            ]
          },
          "metadata": {
            "tags": []
          },
          "execution_count": 16
        }
      ]
    },
    {
      "cell_type": "code",
      "metadata": {
        "id": "DGGbhbSLAi3B",
        "colab_type": "code",
        "colab": {
          "base_uri": "https://localhost:8080/",
          "height": 35
        },
        "outputId": "5051e99c-5ace-4825-a770-feeba5358ad1"
      },
      "source": [
        "# predict the class for example x = [1.1, 1.2, 3, 2] \n",
        "x = [1.1, 1.2, 3, 2]\n",
        "print(modelKNN.predict([x]))"
      ],
      "execution_count": null,
      "outputs": [
        {
          "output_type": "stream",
          "text": [
            "[1]\n"
          ],
          "name": "stdout"
        }
      ]
    },
    {
      "cell_type": "markdown",
      "metadata": {
        "id": "eGpxNUQ8Cg91",
        "colab_type": "text"
      },
      "source": [
        "Notice that we can predict the classes for a bunch of examples."
      ]
    },
    {
      "cell_type": "code",
      "metadata": {
        "id": "3MWWCd_BBanl",
        "colab_type": "code",
        "colab": {
          "base_uri": "https://localhost:8080/",
          "height": 35
        },
        "outputId": "e3f08441-a982-41c3-c848-20a407a1cb54"
      },
      "source": [
        "y_pred_prob_KNN = modelKNN.predict(test_X)\n",
        "\n",
        "# Imprime as estimativas de probabilidades para cada classe\n",
        "print(y_pred_prob_KNN)"
      ],
      "execution_count": null,
      "outputs": [
        {
          "output_type": "stream",
          "text": [
            "[2 0 1 0 0 0 2 2 2 1 0 1 2 1 2 0 2 1 1 2 1 1 0 0 2 1 0 0 1 1]\n"
          ],
          "name": "stdout"
        }
      ]
    },
    {
      "cell_type": "markdown",
      "metadata": {
        "id": "mJP3S__gWPzj",
        "colab_type": "text"
      },
      "source": [
        "# $k$-NN for regression"
      ]
    },
    {
      "cell_type": "markdown",
      "metadata": {
        "id": "738WUxu8S3CN",
        "colab_type": "text"
      },
      "source": [
        "When $k$-NN is used for regression, the target values of the neighbors are averaged to computed the predicted value for the query point. The image below ([source](https://www.jeremyjordan.me/k-nearest-neighbors/)) illustrates this. On the right, we have $k$-NN in a classification context. In this case, the majority rule is applied. On the left, we have $k$-NN for regression. Is this case, the simple average of the three neighbors is used as the predicted value.\n",
        "\n",
        "![alt text](https://www.jeremyjordan.me/content/images/2017/06/Screen-Shot-2017-06-17-at-9.30.39-AM-1.png)\n",
        "\n",
        "A more general version of $k$-NN algorithm, called *distance weighted k-NN* can be used for producing a regression model. This algorithm computes weights $w_i$ ($1 \\leq i \\leq k$) associated with neighbors of a query example $x_q$ using the equation below, in which $d(x_q, x_i)$ is the distance between the query point $x_q$ and other point $x_i$ in the training set.\n",
        "\n",
        "$$\n",
        "w_i = \\frac{1}{d(x_q, x_i)^2}\n",
        "$$\n",
        "\n",
        "After the weights are computed, the predicted value $\\hat{y}_q$ for the query point $x_q$ is computed as follows:\n",
        "\n",
        "$$\n",
        "\\hat{y}_q \\leftarrow \\frac{\\sum_{i=1}^{k} w_i \\times y_i}{\\sum_{i=1}^{k} w_i}\n",
        "$$\n",
        "\n",
        "In the above expression, $y_i$ is the target value for the $i$-th neighbor. This way, the predicted value $\\hat{y}_q$ is a weighted sum of the target values for the neighbors. Notice that this gives the most weight to the data points nearest to $x_q$, and the least weight to the data points that are furthest away. \n",
        "\n",
        "In this variant of $k$-NN for regression, it makes sense to use all training examples as neighbors (that is $k$ equals the size of the training set)."
      ]
    },
    {
      "cell_type": "markdown",
      "metadata": {
        "id": "lETcJRdg6Cl0",
        "colab_type": "text"
      },
      "source": [
        "In Scikit-Learn, the class [KNeighborsRegressor](https://scikit-learn.org/stable/modules/generated/sklearn.neighbors.KNeighborsRegressor.html) implements the version of $k$-NN for regression. See the example below, which shows how to apply this class to the [Boston house price](https://scikit-learn.org/stable/modules/generated/sklearn.datasets.load_boston.html) dataset."
      ]
    },
    {
      "cell_type": "code",
      "metadata": {
        "id": "EFNOYXNe9Lak",
        "colab_type": "code",
        "colab": {
          "base_uri": "https://localhost:8080/",
          "height": 259
        },
        "outputId": "6e5388a8-64d6-432b-dd0f-b7c75230584b"
      },
      "source": [
        "from sklearn.neighbors import KNeighborsRegressor\n",
        "from sklearn.metrics import mean_squared_error \n",
        "from sklearn.datasets import load_boston\n",
        "from sklearn.model_selection import train_test_split\n",
        "from math import sqrt\n",
        "from sklearn.preprocessing import StandardScaler\n",
        "import matplotlib.pyplot as plt\n",
        "import pandas as pd\n",
        "\n",
        "dataset = load_boston()\n",
        "print(dataset.keys())\n",
        "\n",
        "boston_df = pd.DataFrame(dataset.data, columns = dataset.feature_names)\n",
        "print(boston_df.head(3))\n",
        "\n",
        "X = dataset.data\n",
        "y = dataset.target\n",
        "\n",
        "X_train, X_test, y_train, y_test = train_test_split(X, y, \n",
        "                                                    test_size=0.3, \n",
        "                                                    random_state=31)\n",
        "\n",
        "scaler = StandardScaler()\n",
        "scaler.fit(X_train)\n",
        "\n",
        "X_train_scaled = scaler.transform(X_train)\n",
        "X_test_scaled = scaler.transform(X_test)\n",
        "\n",
        "\n",
        "boston_df = pd.DataFrame(X_train_scaled, columns = dataset.feature_names)\n",
        "print(boston_df.head(3))\n",
        "\n",
        "# In a practical setting, n_neighbors has to be defined using model selection.\n",
        "model = KNeighborsRegressor(n_neighbors = 15, weights = 'distance')\n",
        "\n",
        "model.fit(X_train_scaled, y_train)  #fit the model\n",
        "y_pred = model.predict(X_test_scaled) #make prediction on test set\n",
        "    \n",
        "error = sqrt(mean_squared_error(y_test, y_pred)) #calculate rmse\n",
        "rmse_val.append(error) #store rmse values\n",
        "print('RMSE value for k=%d is %.2f' % (K, error))"
      ],
      "execution_count": null,
      "outputs": [
        {
          "output_type": "stream",
          "text": [
            "dict_keys(['data', 'target', 'feature_names', 'DESCR', 'filename'])\n",
            "      CRIM    ZN  INDUS  CHAS    NOX  ...  RAD    TAX  PTRATIO       B  LSTAT\n",
            "0  0.00632  18.0   2.31   0.0  0.538  ...  1.0  296.0     15.3  396.90   4.98\n",
            "1  0.02731   0.0   7.07   0.0  0.469  ...  2.0  242.0     17.8  396.90   9.14\n",
            "2  0.02729   0.0   7.07   0.0  0.469  ...  2.0  242.0     17.8  392.83   4.03\n",
            "\n",
            "[3 rows x 13 columns]\n",
            "       CRIM        ZN     INDUS  ...   PTRATIO         B     LSTAT\n",
            "0 -0.389279  3.411723 -1.329831  ... -0.561453  0.294711 -1.125821\n",
            "1 -0.386258  0.716968  0.573843  ... -0.028004  0.436368 -0.262037\n",
            "2 -0.380684  0.369258 -0.607546  ...  0.149813  0.373055  0.171983\n",
            "\n",
            "[3 rows x 13 columns]\n",
            "RMSE value for k=50 is 4.37\n"
          ],
          "name": "stdout"
        }
      ]
    },
    {
      "cell_type": "code",
      "metadata": {
        "id": "zrlxr2EF95LV",
        "colab_type": "code",
        "colab": {
          "base_uri": "https://localhost:8080/",
          "height": 466
        },
        "outputId": "6182cdac-c9da-4c3c-c4cb-3ddd98be94dc"
      },
      "source": [
        "#predicting on the test set\n",
        "predict = model.predict(X_test_scaled)\n",
        "print(predict)"
      ],
      "execution_count": null,
      "outputs": [
        {
          "output_type": "stream",
          "text": [
            "[28.26747942 14.71900206 22.22464171 20.25913378 22.55997755 23.76476085\n",
            " 13.9564192  25.13218819 23.91897183 22.26196039 15.23535039 18.17024123\n",
            " 18.23860928 18.57418054 14.90285359 22.62031379 22.22298975 24.28472557\n",
            " 23.38714521 27.68573961 19.34440264 16.57569257 26.36501906 29.39533489\n",
            " 19.99769016 20.48449326 19.97995391 22.01996112 18.98628072 24.35633002\n",
            " 27.9751017  16.70884491 16.59987662 18.64992673 23.45839919 20.85547024\n",
            " 27.96744737 15.80057434 15.66912717 33.35098665 12.91528709 14.40524538\n",
            " 17.15206845 28.77957093 18.93500128 21.10546579 27.13052839 19.59420048\n",
            " 23.29496988 25.89620951 20.07652377 18.66381045 14.15834116 28.78633783\n",
            " 19.04068122 19.72884966 14.56846461 17.68683052 15.6610228  26.3116879\n",
            " 17.88044938 15.57814121 22.0406903  26.082238   14.16450925 13.20187139\n",
            " 23.44336993 17.73956265 26.55035112 22.81010453 19.61153444 17.04552692\n",
            " 30.00557596 21.44512993 17.65988084 29.84009712 22.35672644 21.72681936\n",
            " 18.15555704 21.66996167 31.63046401 24.83412266 26.25814663 13.17899985\n",
            " 22.53179711 22.06306895 19.65125939 37.76869519 21.6612686  18.52083588\n",
            " 15.57636034 21.23103801 21.80428996 29.0961994  14.46620206 14.60813198\n",
            " 21.96359173 26.10219341 15.54636632 28.65093035 22.31749286 16.14161299\n",
            " 29.81487249 32.58991665 12.5055791  25.85242634 20.52668065 18.69655992\n",
            " 17.22194226 34.41195196 26.24618228 22.37478992 19.26100075 19.37549995\n",
            " 14.60766797 17.46004506 26.05718674 17.15361581 24.55739178 13.78162712\n",
            " 16.96284386 23.84593445 27.46843918 24.5355564  18.8539324  19.83962517\n",
            " 17.6838209  25.06907881 14.58361295 13.60541422 27.29069758 18.64355943\n",
            " 23.71962294 23.81071961 23.49083157 28.64514715 31.03180459 13.6639332\n",
            " 19.78076659 21.62142912 31.34067653 21.80421783 21.09238797 24.10087515\n",
            " 17.91947519 29.6833078  21.58895456 18.89449648 18.33732716 14.18745326\n",
            " 16.50484777 24.31786376]\n"
          ],
          "name": "stdout"
        }
      ]
    },
    {
      "cell_type": "markdown",
      "metadata": {
        "id": "Bk_XcZ3CtOIh",
        "colab_type": "text"
      },
      "source": [
        "# Final Remarks\n",
        "\n",
        "No optimal number of neighbors suits all kind of datasets. The value of $k$ for a particular dataset can be determined using *model selection*, which is a concept we will cover later on in this course.\n",
        "\n"
      ]
    },
    {
      "cell_type": "markdown",
      "metadata": {
        "id": "_sThq1NvNDE9",
        "colab_type": "text"
      },
      "source": [
        "Contrary to what one might think, \n",
        "$k$-NN can produce very complex decision boundaries. The following image ([source](https://pt.wikipedia.org/wiki/Diagrama_de_Voronoy)) is a Voronoi diagrama that illustrate this behavior of the algorithm. A Voronoi diagram is a partition of a plane in several non-overlaping regions by a set of points. Each region is called a Voronoi cell and contains just one point. The Voronoi cell for a point $p$ contains all the points closer to $p$ than to any other point in the plane.\n",
        "\n",
        "![alt text](https://upload.wikimedia.org/wikipedia/commons/thumb/2/20/Coloured_Voronoi_2D.svg/220px-Coloured_Voronoi_2D.svg.png)\n",
        "\n",
        "The following animation ([source](https://en.wikipedia.org/wiki/Voronoi_diagram)) shows the formation of a Voronoi diagram for a set of nine points.\n",
        "\n",
        "![alt text](https://upload.wikimedia.org/wikipedia/commons/thumb/d/d9/Voronoi_growth_euclidean.gif/220px-Voronoi_growth_euclidean.gif)"
      ]
    },
    {
      "cell_type": "markdown",
      "metadata": {
        "id": "_N7VpZr3xlXo",
        "colab_type": "text"
      },
      "source": [
        "Alternatives do avoid overfitting:\n",
        "\n",
        "* Model selection (measure performance on validation data for increasing values of k);\n",
        "* Replace a bunch of points by their prototypes; \n",
        "* Remove outliers, i.e., remove data points for which all (or at least the majority) of the neighbor voronoi cells are from a different class."
      ]
    }
  ]
}
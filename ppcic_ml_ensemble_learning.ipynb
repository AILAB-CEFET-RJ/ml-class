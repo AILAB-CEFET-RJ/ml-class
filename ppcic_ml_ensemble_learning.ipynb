{
  "nbformat": 4,
  "nbformat_minor": 0,
  "metadata": {
    "colab": {
      "name": "ppcic_ml_ensemble_learning.ipynb",
      "provenance": [],
      "authorship_tag": "ABX9TyNzV1vGXyJ6pK+1quUQQ2mr",
      "include_colab_link": true
    },
    "kernelspec": {
      "name": "python3",
      "display_name": "Python 3"
    }
  },
  "cells": [
    {
      "cell_type": "markdown",
      "metadata": {
        "id": "view-in-github",
        "colab_type": "text"
      },
      "source": [
        "<a href=\"https://colab.research.google.com/github/MLRG-CEFET-RJ/ml-class/blob/master/ppcic_ml_ensemble_learning.ipynb\" target=\"_parent\"><img src=\"https://colab.research.google.com/assets/colab-badge.svg\" alt=\"Open In Colab\"/></a>"
      ]
    },
    {
      "cell_type": "markdown",
      "metadata": {
        "id": "wqO9URDlUCIZ",
        "colab_type": "text"
      },
      "source": [
        "# Aprendizado de Comitês (*Emsemble Learning*)\n",
        "\n",
        "Comitês são abordagens para combinar várias técnicas de aprendizado supervisionado para construir um único modelo preditivo. Comitês são aplicáveis às tarefas de classificação e de regressão.\n",
        "\n",
        "Durante o treinamento de um comitê, o objetivo é construir uma coleção de preditores que, juntos, produzem uma predição melhor do que cada um separadamente.\n",
        "\n",
        "\n",
        "Para ilustrar o funcionamento de modelos comitês, considere a figura abaixo ([fonte](https://)). Nessa figura, temos duas árvores de decisão induzidas. Considere que o problema de classificação (binária) a ser resolvido é predizer ser determinado indivíduo irá gostar (ou não) de um determinado jogo de vídeogames. Para cada um dos indíviduos testados, cada árvore produz um escore (pontuação) juntamente com a classe prevista. O que um modelo comitê faz é combinar os resultados de cada modelo componente para produzir a predição final.\n",
        "\n",
        "![alt text](https://raw.githubusercontent.com/dmlc/web-data/master/xgboost/model/twocart.png)\n",
        "\n",
        "\n",
        "Normalmente, o modelo de comitê resultante tem qualidade preditiva melhor porque diminui a variância ou o viés quando comparado aos modelos componentes (do comitê).\n",
        "\n",
        "Conforme ilustra a figura a seguir ([fonte](https://ieeexplore.ieee.org/document/1688199)), a fronteira de decisão correspondente a um modelo de comitê pode ser aproximada por meio de uma combinação apropriada dos diferentes preditores (classificadores ou regressores) componentes.\n",
        "\n",
        "![alt text](https://www.researchgate.net/profile/Robi_Polikar/publication/3432431/figure/fig1/AS:670045000695819@1536762585849/Combining-classifiers-that-are-trained-on-different-subsets-of-the-training-data_W640.jpg)\n",
        "\n",
        "Um objetivo importante a ser alcançado durante o treinamento de modelo de comitê é atingir a diversidade, no sentido de que cada modelo componente possa complementar um eventual mal desempenho (em termos de qualidade preditiva) dos demais componentes em alguma região do espaço de atributos. Algumas abordagens para se obter diversidade são as seguintes:\n",
        "\n",
        "* Usar diferentes parâmetros de treinamento para a mesma família de classificadores;\n",
        "\n",
        "* Usar diferentes tipos de algoritmos de ML para treinar cada modelo componente;\n",
        "\n",
        "* Usar diferentes conjuntos de atributos para treinar cada modelo componente;\n",
        "\n",
        "* Manipular o conjunto de treinamento para treinar cada modelo componente com um conjunto de treinamento distinto dos usados nos demais componentes (essa é a abordagem mais comum).\n",
        "\n",
        "Há duas famílias de algoritmos para aprendizado de modelos de comitês, **Bagging** e **Boosting**, em cada uma das quais podemos encontrar vários algoritmos. A figura a seguir ilustra representantes e características principais de cada um dessas duas famílias.\n",
        "\n",
        "![alt text](https://miro.medium.com/max/1276/1*8T4HEjzHto_V8PrEFLkd9A.png)\n",
        "\n",
        "([fonte da figura](https://medium.com/mlreview/gradient-boosting-from-scratch-1e317ae4587d))"
      ]
    },
    {
      "cell_type": "markdown",
      "metadata": {
        "id": "7V7xGgtjdP_W",
        "colab_type": "text"
      },
      "source": [
        "### Bagging\n",
        "\n",
        "Bagging (termo proveniente de *bootstrap aggregation*) é uma abordagem baseada em comitê que produz $T$ modelos preditivos e combina os resultados desses $T$ modelos para realizar predição para um dado exemplo.\n",
        "\n",
        "Dado um conjunto de treinamento $X$ com $m$ exemplos, a técnica de bagging funciona de modo iterativo para construir o modelo comitê. Para iteração $t$ ($1 \\leq t \\leq T$), um conjunto de treinamento de treinamento $X_t$ de tamanho $m$ é gerado a partir de $X$, por meio de um processo conhecido como *amostragem com reposição* (*sampling with replacement*). Cada conjunto de treinamento $X_t$ é denominado uma *amostra de inicialização* (*bootstrap sample*). Dessa forma, a diversidade é obtida no bagging com o uso de diferentes subconjuntos de dados aleatoriamente criados com reposição a partir do único conjunto de dados original.\n",
        "\n",
        "Repare que, porque a amostragem com reposição é utilizada para produzir cada $X_t$, alguns exemplos em cada conjunto de treinamento gerado podem ocorrer mais de uma vez, enquanto que outras intâncias podem não ser selecionadas para compor $X_t$. \n",
        "\n",
        "Para cada $X_t$, um modelo de predição é ajustado. Cada conjunto $X_t$ (*bootstrap sample*) é usado para treinar um modelo preditor $M_t$. Além disso, todos os modelos preditores gerados são do mesmo tipo (i.e., usam a mesma representação). \n",
        "\n",
        "No contexto da tarefa de classificação, para predizer a classe de uma instância $\\mathbf{x}$, cada modelo $M_t$ é usado para produzir uma resposta. O modelo comitê (composto de todos os $M_t$ classificadores) produz como resposta a classe majoritariamente produzida pelos seus componentes. \n",
        "  \n",
        "O bagging também pode ser aplicado à tarefa de regressão (i.e., para realizar previsão de valores contínuos). Nesse caso, em vez da classe majoritária, o modelo comitê computa o valor médio das previsões produzidas pelos $T$ modelos base.\n",
        "\n",
        "Vantagens do Bagging:\n",
        "* Possibilidade de treinamento em paralelo: cada modelo componente pode ser construído de forma independente.\n",
        "\n",
        "* Adequado quando o algoritmo de ML utilizado gera modelos componentes de baixo viés e de alta variância (i.e., modelos complexos)."
      ]
    },
    {
      "cell_type": "markdown",
      "metadata": {
        "id": "JvnBUYfd6UeT",
        "colab_type": "text"
      },
      "source": [
        "#### Passos\n",
        "\n",
        "Os passos a seguir resumem a técnica de geração de um modelo de comitê por meio da técnica *bagging*:\n",
        "\n",
        "* Seja $m = |X|$ (quantidade de exemplos de treinamento)\n",
        "\n",
        "* Para cada iteração $t$:\n",
        "\n",
        "  * Gerar uma bootstrap sample $X_t$ de tamanho $m$.\n",
        "  \n",
        "  * Aplicar o algoritmo de aprendizado sobre $X_t$ para gerar o modelo de predição $M_t$\n",
        "\n",
        "  * Armazenar o modelo resultante\n",
        "\n",
        "Predição (classificação) para $\\mathbf{x}$:\n",
        "\n",
        "* Para cada um dos $T$ modelos:\n",
        "\n",
        "  * Predizer a classe do exemplo $\\mathbf{x}$ usando $M_t$\n",
        "\n",
        "  * Retornar a classe que foi prevista mais vezes (*voting*)"
      ]
    },
    {
      "cell_type": "markdown",
      "metadata": {
        "id": "F2xcxKQX6LAx",
        "colab_type": "text"
      },
      "source": [
        "#### Classe BaggingClassifier\n",
        "\n",
        "No Scikit-Learn, a classe [BaggingClassifier](https://scikit-learn.org/stable/modules/generated/sklearn.ensemble.BaggingClassifier.html) pode ser usada para gerar modelos comitês para classificação por meio da técnica *bagging*. Um dos parâmetros de iniciação dessa classe é `base_estimator`, que indica qual o algoritmo a ser utilizado para gerar cada componente do comitê. A célula de código a seguir ([fonte](https://www.kaggle.com/dillonkoch18/bagging-classifier-titanic-submission) ) ilustra um exemplo de uso dessa classe."
      ]
    },
    {
      "cell_type": "code",
      "metadata": {
        "id": "unV-DaRO-hyK",
        "colab_type": "code",
        "colab": {
          "base_uri": "https://localhost:8080/",
          "height": 92
        },
        "outputId": "e6e32286-87e5-4923-b748-0de7be5be60f"
      },
      "source": [
        "from sklearn.datasets import load_iris\n",
        "from sklearn.ensemble import BaggingClassifier\n",
        "from sklearn.tree import DecisionTreeClassifier\n",
        "from sklearn.model_selection import GridSearchCV\n",
        "\n",
        "iris = load_iris()\n",
        "\n",
        "rng = 42\n",
        "\n",
        "X_train, X_test, y_train, y_test = train_test_split(iris.data,\n",
        "                                                    iris.target,\n",
        "                                                    random_state=rng)\n",
        "\n",
        "# cria o classificador\n",
        "params = {'n_estimators': [40, 42], 'base_estimator__max_leaf_nodes':[10, 15], 'base_estimator__max_depth':[4, 5, 6]}\n",
        "dt = DecisionTreeClassifier()\n",
        "bc = BaggingClassifier(base_estimator=dt, oob_score=True, random_state=1)\n",
        "\n",
        "# aplica busca em grade para determinar os melhores parâmetros\n",
        "bc_grid = GridSearchCV(estimator=bc, param_grid=params, scoring='accuracy', cv=5, n_jobs=-1)\n",
        "bc_grid.fit(X_train, y_train)\n",
        "best_params = bc_grid.best_params_\n",
        "print(best_params)"
      ],
      "execution_count": null,
      "outputs": [
        {
          "output_type": "stream",
          "text": [
            "{'base_estimator__max_depth': 4, 'base_estimator__max_leaf_nodes': 10, 'n_estimators': 40}\n"
          ],
          "name": "stdout"
        },
        {
          "output_type": "stream",
          "text": [
            "/usr/local/lib/python3.6/dist-packages/sklearn/model_selection/_search.py:814: DeprecationWarning: The default of the `iid` parameter will change from True to False in version 0.22 and will be removed in 0.24. This will change numeric results when test-set sizes are unequal.\n",
            "  DeprecationWarning)\n"
          ],
          "name": "stderr"
        }
      ]
    },
    {
      "cell_type": "markdown",
      "metadata": {
        "id": "SAfsSMUD3YOC",
        "colab_type": "text"
      },
      "source": [
        "#### Florestas Aleatórias (*Random Forests*)\n",
        "\n",
        "Random Forests é um caso particular de bagging. Aqui também selecionamos amostras de bootstrap do conjunto de treinamento. No entanto, também são amostrados subconjuntos aleatórios de atributos (*features*) para treinar as árvores individuais. No bagging genérico, um conjunto de dados com todos os atributos contidos em $X$ seria usado para ajustar cada árvore de decisão.\n",
        "\n",
        "Devido à seleção aleatória de atributos, as árvores são mais independentes (i.e., diferentes) umas das outras do que no bagging, o que contribui para aumentar a diversidade dos modelos componentes.\n",
        "\n",
        "Efeitos (quando comparamos ao bagging): \n",
        "\n",
        "* melhor desempenho preditivo; \n",
        "* mais rápido, porque cada árvore aprende a partir de um subconjunto próprio do conjunto de todos os atributos."
      ]
    },
    {
      "cell_type": "markdown",
      "metadata": {
        "id": "Rjbag-KnFgUa",
        "colab_type": "text"
      },
      "source": [
        "#### Classe RandomForestClassifier\n",
        "\n",
        "No Scikit-Learn, a classe [RandomForestClassifier](https://scikit-learn.org/stable/modules/generated/sklearn.ensemble.RandomForestClassifier.html) implementa o algoritmo de Florestas Aleatórias. Um dos parâmetros de inicialização dessa classe é `n_estimators`, que indica a quantidade de árvores que devem compor o modelo comitê resultante. O exemplo a seguir ilustra o uso dessa classe sobre o conjunto de dados Iris."
      ]
    },
    {
      "cell_type": "code",
      "metadata": {
        "id": "rbPqhVmbEs-4",
        "colab_type": "code",
        "colab": {
          "base_uri": "https://localhost:8080/",
          "height": 54
        },
        "outputId": "23ec56dc-e322-4b23-bf19-fdee7f90a282"
      },
      "source": [
        "from sklearn import datasets\n",
        "\n",
        "iris = datasets.load_iris()\n",
        "\n",
        "print(iris.target_names)\n",
        "\n",
        "print(iris.feature_names)"
      ],
      "execution_count": null,
      "outputs": [
        {
          "output_type": "stream",
          "text": [
            "['setosa' 'versicolor' 'virginica']\n",
            "['sepal length (cm)', 'sepal width (cm)', 'petal length (cm)', 'petal width (cm)']\n"
          ],
          "name": "stdout"
        }
      ]
    },
    {
      "cell_type": "code",
      "metadata": {
        "id": "8QwpZXNmExV2",
        "colab_type": "code",
        "colab": {
          "base_uri": "https://localhost:8080/",
          "height": 198
        },
        "outputId": "88a82585-53a0-4850-8fe6-2c266bb0dfe8"
      },
      "source": [
        "import pandas as pd\n",
        "data = pd.DataFrame({\n",
        "    'sepal length':iris.data[:,0],\n",
        "    'sepal width':iris.data[:,1],\n",
        "    'petal length':iris.data[:,2],\n",
        "    'petal width':iris.data[:,3],\n",
        "    'species':iris.target\n",
        "})\n",
        "data.head()"
      ],
      "execution_count": null,
      "outputs": [
        {
          "output_type": "execute_result",
          "data": {
            "text/html": [
              "<div>\n",
              "<style scoped>\n",
              "    .dataframe tbody tr th:only-of-type {\n",
              "        vertical-align: middle;\n",
              "    }\n",
              "\n",
              "    .dataframe tbody tr th {\n",
              "        vertical-align: top;\n",
              "    }\n",
              "\n",
              "    .dataframe thead th {\n",
              "        text-align: right;\n",
              "    }\n",
              "</style>\n",
              "<table border=\"1\" class=\"dataframe\">\n",
              "  <thead>\n",
              "    <tr style=\"text-align: right;\">\n",
              "      <th></th>\n",
              "      <th>sepal length</th>\n",
              "      <th>sepal width</th>\n",
              "      <th>petal length</th>\n",
              "      <th>petal width</th>\n",
              "      <th>species</th>\n",
              "    </tr>\n",
              "  </thead>\n",
              "  <tbody>\n",
              "    <tr>\n",
              "      <th>0</th>\n",
              "      <td>5.1</td>\n",
              "      <td>3.5</td>\n",
              "      <td>1.4</td>\n",
              "      <td>0.2</td>\n",
              "      <td>0</td>\n",
              "    </tr>\n",
              "    <tr>\n",
              "      <th>1</th>\n",
              "      <td>4.9</td>\n",
              "      <td>3.0</td>\n",
              "      <td>1.4</td>\n",
              "      <td>0.2</td>\n",
              "      <td>0</td>\n",
              "    </tr>\n",
              "    <tr>\n",
              "      <th>2</th>\n",
              "      <td>4.7</td>\n",
              "      <td>3.2</td>\n",
              "      <td>1.3</td>\n",
              "      <td>0.2</td>\n",
              "      <td>0</td>\n",
              "    </tr>\n",
              "    <tr>\n",
              "      <th>3</th>\n",
              "      <td>4.6</td>\n",
              "      <td>3.1</td>\n",
              "      <td>1.5</td>\n",
              "      <td>0.2</td>\n",
              "      <td>0</td>\n",
              "    </tr>\n",
              "    <tr>\n",
              "      <th>4</th>\n",
              "      <td>5.0</td>\n",
              "      <td>3.6</td>\n",
              "      <td>1.4</td>\n",
              "      <td>0.2</td>\n",
              "      <td>0</td>\n",
              "    </tr>\n",
              "  </tbody>\n",
              "</table>\n",
              "</div>"
            ],
            "text/plain": [
              "   sepal length  sepal width  petal length  petal width  species\n",
              "0           5.1          3.5           1.4          0.2        0\n",
              "1           4.9          3.0           1.4          0.2        0\n",
              "2           4.7          3.2           1.3          0.2        0\n",
              "3           4.6          3.1           1.5          0.2        0\n",
              "4           5.0          3.6           1.4          0.2        0"
            ]
          },
          "metadata": {
            "tags": []
          },
          "execution_count": 4
        }
      ]
    },
    {
      "cell_type": "code",
      "metadata": {
        "id": "RS879QJ7E4tR",
        "colab_type": "code",
        "colab": {}
      },
      "source": [
        "from sklearn.model_selection import train_test_split\n",
        "\n",
        "X = data[['sepal length', 'sepal width', 'petal length', 'petal width']]\n",
        "y = data['species']\n",
        "\n",
        "X_train, X_test, y_train, y_test = train_test_split(X, y, test_size=0.3, random_state=5)"
      ],
      "execution_count": null,
      "outputs": []
    },
    {
      "cell_type": "code",
      "metadata": {
        "id": "BiAh4RnYE8jo",
        "colab_type": "code",
        "colab": {}
      },
      "source": [
        "from sklearn.ensemble import RandomForestClassifier\n",
        "\n",
        "clf = RandomForestClassifier(n_estimators=100)\n",
        "\n",
        "clf.fit(X_train, y_train)\n",
        "\n",
        "y_pred = clf.predict(X_test)"
      ],
      "execution_count": null,
      "outputs": []
    },
    {
      "cell_type": "code",
      "metadata": {
        "id": "f-65ZfWKFCZS",
        "colab_type": "code",
        "colab": {
          "base_uri": "https://localhost:8080/",
          "height": 35
        },
        "outputId": "7a812eda-10ec-405e-9d0c-5a45e6c7eb48"
      },
      "source": [
        "from sklearn import metrics\n",
        "print(\"Acurácia:\", metrics.accuracy_score(y_test, y_pred))"
      ],
      "execution_count": null,
      "outputs": [
        {
          "output_type": "stream",
          "text": [
            "Acurácia: 0.9333333333333333\n"
          ],
          "name": "stdout"
        }
      ]
    },
    {
      "cell_type": "code",
      "metadata": {
        "id": "9wFze1ELKEP4",
        "colab_type": "code",
        "colab": {
          "base_uri": "https://localhost:8080/",
          "height": 35
        },
        "outputId": "5dca0bd3-399a-4bd4-a26d-24a7eed0eaa3"
      },
      "source": [
        "clf.predict([[3, 5, 4, 2]])"
      ],
      "execution_count": null,
      "outputs": [
        {
          "output_type": "execute_result",
          "data": {
            "text/plain": [
              "array([2])"
            ]
          },
          "metadata": {
            "tags": []
          },
          "execution_count": 8
        }
      ]
    },
    {
      "cell_type": "code",
      "metadata": {
        "id": "HooVcPZIKE2F",
        "colab_type": "code",
        "colab": {
          "base_uri": "https://localhost:8080/",
          "height": 145
        },
        "outputId": "040eb596-c923-497a-ace1-d90c4876c717"
      },
      "source": [
        "from sklearn.ensemble import RandomForestClassifier\n",
        "\n",
        "clf = RandomForestClassifier(n_estimators=100)\n",
        "\n",
        "clf.fit(X_train,y_train)"
      ],
      "execution_count": null,
      "outputs": [
        {
          "output_type": "execute_result",
          "data": {
            "text/plain": [
              "RandomForestClassifier(bootstrap=True, class_weight=None, criterion='gini',\n",
              "                       max_depth=None, max_features='auto', max_leaf_nodes=None,\n",
              "                       min_impurity_decrease=0.0, min_impurity_split=None,\n",
              "                       min_samples_leaf=1, min_samples_split=2,\n",
              "                       min_weight_fraction_leaf=0.0, n_estimators=100,\n",
              "                       n_jobs=None, oob_score=False, random_state=None,\n",
              "                       verbose=0, warm_start=False)"
            ]
          },
          "metadata": {
            "tags": []
          },
          "execution_count": 9
        }
      ]
    },
    {
      "cell_type": "code",
      "metadata": {
        "id": "eQC-de6TIV5e",
        "colab_type": "code",
        "colab": {}
      },
      "source": [
        "y_pred = clf.predict(X_test)"
      ],
      "execution_count": null,
      "outputs": []
    },
    {
      "cell_type": "markdown",
      "metadata": {
        "id": "uXKqN0nZIdoy",
        "colab_type": "text"
      },
      "source": [
        "Um dos atributos da classe `RandomForestClassifier` é `feature_importances_`, que permite inspecionar qual a contribuição de cada atributo para a força preditiva do modelo gerado (quanto mais importante o atributo, mais alto é o valor correspondente). "
      ]
    },
    {
      "cell_type": "code",
      "metadata": {
        "id": "EfOhRl2UKTeZ",
        "colab_type": "code",
        "colab": {
          "base_uri": "https://localhost:8080/",
          "height": 108
        },
        "outputId": "11fcada9-7e1f-4f43-b55e-fd6ef6f992e6"
      },
      "source": [
        "import pandas as pd\n",
        "feature_imp = pd.Series(clf.feature_importances_, index = iris.feature_names).sort_values(ascending = False)\n",
        "feature_imp"
      ],
      "execution_count": null,
      "outputs": [
        {
          "output_type": "execute_result",
          "data": {
            "text/plain": [
              "petal width (cm)     0.438652\n",
              "petal length (cm)    0.438511\n",
              "sepal length (cm)    0.092768\n",
              "sepal width (cm)     0.030069\n",
              "dtype: float64"
            ]
          },
          "metadata": {
            "tags": []
          },
          "execution_count": 10
        }
      ]
    },
    {
      "cell_type": "markdown",
      "metadata": {
        "id": "a5EN5TfsJXan",
        "colab_type": "text"
      },
      "source": [
        "O código a seguir gera uma representação gráfica das importâncias de cada atributo do conjunto Iris sobre o modelo comitê gerado."
      ]
    },
    {
      "cell_type": "code",
      "metadata": {
        "id": "wsEmUMI1Kahk",
        "colab_type": "code",
        "colab": {
          "base_uri": "https://localhost:8080/",
          "height": 313
        },
        "outputId": "ccdc8ff2-efe3-4121-fbe3-a79c398737a3"
      },
      "source": [
        "import matplotlib.pyplot as plt\n",
        "import seaborn as sns\n",
        "\n",
        "sns.barplot(x=feature_imp, y=feature_imp.index)\n",
        "\n",
        "plt.xlabel('Feature Importance Score')\n",
        "plt.ylabel('Features')\n",
        "plt.title(\"Visualizing Important Features\")\n",
        "plt.legend()\n",
        "plt.show()"
      ],
      "execution_count": null,
      "outputs": [
        {
          "output_type": "stream",
          "text": [
            "No handles with labels found to put in legend.\n"
          ],
          "name": "stderr"
        },
        {
          "output_type": "display_data",
          "data": {
            "image/png": "[encoded data removed]",
            "text/plain": [
              "<Figure size 432x288 with 1 Axes>"
            ]
          },
          "metadata": {
            "tags": []
          }
        }
      ]
    },
    {
      "cell_type": "markdown",
      "metadata": {
        "id": "F7foIbl9m2A4",
        "colab_type": "text"
      },
      "source": [
        "## Boosting\n",
        "\n",
        "Na técnica de *boosting*, o treinamento do modelo comitê é realizado de forma **sequencial**: em cada passo, o algoritmo tenta adicionar um novo modelo componente que é melhor em regiões (do espaço de atributos) nas quais os modelos anteriormente adicionados ao comitê erraram. Para isso, exemplos que foram incorretamente classificados pelos componentes já ajustados possuem maior probabilidade de serem selecionados para ajustar novos componentes, conforme ilustra a figura a seguir ([fonte](https://quantdare.com/what-is-the-difference-between-bagging-and-boosting/)).\n",
        "![alt text](https://quantdare.com/wp-content/uploads/2016/04/bb2-800x307.png)\n",
        "Algoritmos de *boosting* são adequados para compor modelos gerados por algoritmos que produzem modelos de viés alto e de baixa variância.\n",
        "\n",
        "A figura a seguir ([fonte](https://quantdare.com/what-is-the-difference-between-bagging-and-boosting/)) ilustra de forma esquemática a diferença entre as abordagens *bagging* e *boosting*.\n",
        "![alt text](https://quantdare.com/wp-content/uploads/2016/04/bb3-800x307.png)\n",
        "\n"
      ]
    },
    {
      "cell_type": "markdown",
      "metadata": {
        "id": "xE8Yi9DQ5tye",
        "colab_type": "text"
      },
      "source": [
        "### Aprendizes: fracos e fortes\n",
        "\n",
        "Um **aprendiz fraco** (*weak learner*) é definido como um classificador que é apenas ligeiramente correlacionado com a classificação verdadeira. Ou seja, um aprendiz fraco pode rotular exemplos com acurácia igual a $1/2 + \\alpha$, onde $\\alpha$ é um valor pequeno e positivo. Isso significa que em um weak learner, o desempenho em qualquer conjunto de treinamento é ligeiramente melhor que a previsão ao acaso.\n",
        "\n",
        "Em contraste, um **aprendiz forte** (*strong learner*) é um classificador que é arbitrariamente bem correlacionado com a classificação verdadeira.\n"
      ]
    },
    {
      "cell_type": "markdown",
      "metadata": {
        "id": "wsaemkaFn0B8",
        "colab_type": "text"
      },
      "source": [
        "### AdaBoost\n",
        "\n",
        "O AdaBoost é uma das primeiros métodos de boosting. Este método mantém uma lista de pesos, um para cada um dos $m$ exemplos do conjunto de treinamento.\n",
        "\n",
        "1. Iniciar pesos com valores uniformes ($1/m$)\n",
        "2. Iterar:\n",
        "  * Aplicar aprendiz $L$ aos exemplos ponderados\n",
        "  * Aumentar pesos dos exemplos classificados incorretamente por $L$.\n",
        "3. Combinar modelos por votação ponderada\n",
        "\n",
        "Em cada iteração (passo 2 acima), os pesos dos exemplos são alterados de tal forma a fazer com que o próximo aprendiz priorize os exemplos que o aprendiz anterior classificou incorretamente.\n"
      ]
    },
    {
      "cell_type": "markdown",
      "metadata": {
        "id": "gXq83-pMVzs5",
        "colab_type": "text"
      },
      "source": [
        "### Class AdaBoostClassifier\n",
        "\n",
        "No Scikit-Learn, a classe [AdaBoostClassifier](https://scikit-learn.org/stable/modules/generated/sklearn.ensemble.AdaBoostClassifier.html) implementa o algoritmo AdaBoost. As células a seguir ilustram o uso dessa classe."
      ]
    },
    {
      "cell_type": "code",
      "metadata": {
        "id": "FLxVe15KrajC",
        "colab_type": "code",
        "colab": {}
      },
      "source": [
        "from sklearn.ensemble import AdaBoostClassifier"
      ],
      "execution_count": null,
      "outputs": []
    },
    {
      "cell_type": "code",
      "metadata": {
        "colab_type": "code",
        "id": "JgRgJRuura46",
        "colab": {}
      },
      "source": [
        "# Realiza a carga do dados\n",
        "dataset = loadtxt('pima-indians-diabetes.csv', delimiter=\",\")"
      ],
      "execution_count": null,
      "outputs": []
    },
    {
      "cell_type": "code",
      "metadata": {
        "colab_type": "code",
        "id": "jNa2hn22ra5A",
        "colab": {
          "base_uri": "https://localhost:8080/",
          "height": 35
        },
        "outputId": "2b5b62ac-5192-43a5-fe6a-fcd72d59a800"
      },
      "source": [
        "# Define as matrizes de dados e alvo\n",
        "X = dataset[:,0:8]\n",
        "y = dataset[:,8]\n",
        "print(X.shape)"
      ],
      "execution_count": null,
      "outputs": [
        {
          "output_type": "stream",
          "text": [
            "(768, 8)\n"
          ],
          "name": "stdout"
        }
      ]
    },
    {
      "cell_type": "code",
      "metadata": {
        "colab_type": "code",
        "id": "gdD__iRara5E",
        "colab": {}
      },
      "source": [
        "# Divide os dados para treinamento e teste\n",
        "seed = 7\n",
        "test_size = 0.33\n",
        "X_train, X_test, y_train, y_test = train_test_split(X, y, test_size=test_size, random_state=seed)"
      ],
      "execution_count": null,
      "outputs": []
    },
    {
      "cell_type": "code",
      "metadata": {
        "id": "Lwwt6AxcoSJS",
        "colab_type": "code",
        "colab": {
          "base_uri": "https://localhost:8080/",
          "height": 72
        },
        "outputId": "378394ab-14e8-4869-c947-eff268bcf62a"
      },
      "source": [
        "clf = AdaBoostClassifier(n_estimators=100, random_state=0)\n",
        "clf.fit(X, y)  \n",
        "\n",
        "print(clf.feature_importances_ )\n",
        "\n",
        "y_pred = clf.predict(X)\n",
        "\n",
        "print(confusion_matrix(y, y_pred))"
      ],
      "execution_count": null,
      "outputs": [
        {
          "output_type": "stream",
          "text": [
            "[0.06 0.23 0.06 0.04 0.11 0.16 0.26 0.08]\n",
            "[[445  55]\n",
            " [ 69 199]]\n"
          ],
          "name": "stdout"
        }
      ]
    },
    {
      "cell_type": "markdown",
      "metadata": {
        "id": "-xKGXwPu53Sa",
        "colab_type": "text"
      },
      "source": [
        "### Gradient boosting\n",
        "\n",
        "A abordagem mais popular de boosting é o Gradient Boosting. Outros nomes para este mesmo método: *multiple additive regression trees*, *stochastic gradient boosting*, *gradient boosting machines*."
      ]
    },
    {
      "cell_type": "markdown",
      "metadata": {
        "id": "cqJ0h9lYSUor",
        "colab_type": "text"
      },
      "source": [
        "### XGBoost\n",
        "\n",
        "O [XGBoost](https://xgboost.ai/) (*Extreme Gradient Boosting*) é a implementação de gradient boosting mais utilizada atualmente. Essa implementação foi desenvolvida por [Tianqi Chen](https://tqchen.com).\n",
        "\n",
        "O modelo que o XGBoost produz é um comitê em que cada componente é uma árvore de decisão. Sendo assim, a representação usada no modelo resultante no XGBoost é a mesma usada no método *Random Forests*. A diferença está na forma pela qual o comitê de árvores é construído durante o aprendizado. O XGBoost define uma função objetivo a ser otimizada durante o aprendizado, por meio do método de otimização [Newton-Raphson](https://en.wikipedia.org/wiki/Newton%27s_method), que é similar ao método [Gradient Descent](https://en.wikipedia.org/wiki/Gradient_descent). \n",
        "\n",
        "Suponha que $f_t$ ($1 \\leq t \\leq T$) representa uma das $T$ árvores componentes de um modelo comitê produzido pelo XGBoost. Cada árvore é um elemento do conjunto $\\mathcal{F}$, o espaço de árvores compatíveis com o conjunto de treinamento utilizado, $f_t \\in \\mathcal{F}$. O escore produzido pelo comitê de árvores para o exemplo $x^{(i)}$ é dado pela fórmula a seguir:\n",
        "\n",
        "$$\n",
        "\\hat{y}^{(i)} = \\sum_{k=1}^T f_t(x^{(i)})\n",
        "$$\n",
        "\n",
        "Durante o aprendizado, o XGBoost procura minimizar a seguinte função objetivo:\n",
        "\n",
        "$$\n",
        "\\text{obj} = \\sum_{t=1}^m l(y^{(i)}, \\hat{y}^{(i)}) + \\sum_{i=1}^T\\Omega(f_t)\n",
        "$$\n",
        "\n",
        "Otimizar todas as árvores do comitê de uma única vez é intratável computacionalmente. Por conta disso é que o XGBoost usa um procecimento de otmização aditivo, no qual ocorre a otimização de uma árvore por vez.\n",
        "$$\n",
        "\\begin{split}\n",
        "\\hat{y}_0^{(i)} &= 0\\\\\n",
        "\\hat{y}_1^{(i)} &= f_1(x^{(i)}) = \\hat{y}_0^{(i)} + f_1(x^{(i)})\\\\\n",
        "\\hat{y}_2^{(i)} &= f_1(x^{(i)}) + f_2(x^{(i)})= \\hat{y}_1^{(i)} + f_2(x^{(i)})\\\\\n",
        "&\\dots\\\\\n",
        "\\hat{y}_t^{(i)} &= \\sum_{k=1}^t f_k(x^{(i)})= \\hat{y}_{t-1}^{(i)} + f_t(x^{(i)})\n",
        "\\end{split}\n",
        "$$\n",
        "\n",
        "É possível provar (veja detalhes no artigo fonte) que a função objetivo a ser otimizada para selecionar a $t$-ésima árvore é a seguinte:\n",
        "\n",
        "$$\n",
        "\\operatorname{obj}_t = \\sum_{i=1}^m [g_i f_t(x^{(i)}) + \\frac{1}{2} h_i f_t^2(x^{(i)})] + \\Omega(f_t)\n",
        "$$\n",
        "\n",
        "Na expressão acima, $g_i$ e $h_i$ são as derivadas parciais de primeira e de segunda ordem da função $l$ com relação a $\\hat{y}_{i-1}^{(i)}$.\n",
        "\n",
        "$$\n",
        "\\begin{split}\n",
        "g_i &= \\partial_{\\hat{y}^{(t)}_{t-1}} l(y^{(i)}, \\hat{y}^{(i)}_{t-1})\\\\\n",
        "h_i &= \\partial_{\\hat{y}^{(i)}_{t-1}}^2 l(y^{(i)}, \\hat{y}^{(i)}_{t-1})\n",
        "\\end{split}\n",
        "$$"
      ]
    },
    {
      "cell_type": "markdown",
      "metadata": {
        "id": "f9L-Wr_EhW89",
        "colab_type": "text"
      },
      "source": [
        "Há duas classes classes empacotadoras para utilizar a implementação fornecida pelo [XGBoost](https://xgboost.readthedocs.io/en/latest/python/python_api.html#module-xgboost.sklearn) com o Scikit-Learn: `XGBClassifier` e `XGBRegressor`."
      ]
    },
    {
      "cell_type": "code",
      "metadata": {
        "id": "yJIclsgT--8I",
        "colab_type": "code",
        "colab": {}
      },
      "source": [
        "from numpy import loadtxt\n",
        "from xgboost import XGBClassifier\n",
        "from sklearn.model_selection import train_test_split\n",
        "from sklearn.metrics import accuracy_score"
      ],
      "execution_count": null,
      "outputs": []
    },
    {
      "cell_type": "code",
      "metadata": {
        "id": "YJqmHbdF_FL6",
        "colab_type": "code",
        "colab": {}
      },
      "source": [
        "# Realiza a carga do dados\n",
        "dataset = loadtxt('pima-indians-diabetes.csv', delimiter=\",\")"
      ],
      "execution_count": null,
      "outputs": []
    },
    {
      "cell_type": "code",
      "metadata": {
        "id": "11PvQ7zH_Kwt",
        "colab_type": "code",
        "colab": {}
      },
      "source": [
        "# Define as matrizes de dados e alvo\n",
        "X = dataset[:,0:8]\n",
        "y = dataset[:,8]"
      ],
      "execution_count": null,
      "outputs": []
    },
    {
      "cell_type": "code",
      "metadata": {
        "id": "Ttu2ptaU_OyH",
        "colab_type": "code",
        "colab": {}
      },
      "source": [
        "# Divide os dados para treinamento e teste\n",
        "seed = 7\n",
        "test_size = 0.33\n",
        "X_train, X_test, y_train, y_test = train_test_split(X, y, test_size=test_size, random_state=seed)"
      ],
      "execution_count": null,
      "outputs": []
    },
    {
      "cell_type": "code",
      "metadata": {
        "id": "Q33r19ydSYij",
        "colab_type": "code",
        "colab": {
          "base_uri": "https://localhost:8080/",
          "height": 272
        },
        "outputId": "bc721d77-b5bf-424d-8eed-e350457b327b"
      },
      "source": [
        "# Ajusta o modelo\n",
        "model = XGBClassifier()\n",
        "print(model)\n",
        "model.fit(X_train, \n",
        "          y_train, \n",
        "          eval_metric = \"logloss\", \n",
        "          verbose = True)"
      ],
      "execution_count": null,
      "outputs": [
        {
          "output_type": "stream",
          "text": [
            "XGBClassifier(base_score=0.5, booster='gbtree', colsample_bylevel=1,\n",
            "              colsample_bynode=1, colsample_bytree=1, gamma=0,\n",
            "              learning_rate=0.1, max_delta_step=0, max_depth=3,\n",
            "              min_child_weight=1, missing=None, n_estimators=100, n_jobs=1,\n",
            "              nthread=None, objective='binary:logistic', random_state=0,\n",
            "              reg_alpha=0, reg_lambda=1, scale_pos_weight=1, seed=None,\n",
            "              silent=None, subsample=1, verbosity=1)\n"
          ],
          "name": "stdout"
        },
        {
          "output_type": "execute_result",
          "data": {
            "text/plain": [
              "XGBClassifier(base_score=0.5, booster='gbtree', colsample_bylevel=1,\n",
              "              colsample_bynode=1, colsample_bytree=1, gamma=0,\n",
              "              learning_rate=0.1, max_delta_step=0, max_depth=3,\n",
              "              min_child_weight=1, missing=None, n_estimators=100, n_jobs=1,\n",
              "              nthread=None, objective='binary:logistic', random_state=0,\n",
              "              reg_alpha=0, reg_lambda=1, scale_pos_weight=1, seed=None,\n",
              "              silent=None, subsample=1, verbosity=1)"
            ]
          },
          "metadata": {
            "tags": []
          },
          "execution_count": 11
        }
      ]
    },
    {
      "cell_type": "code",
      "metadata": {
        "id": "3I6JXnE__hql",
        "colab_type": "code",
        "colab": {
          "base_uri": "https://localhost:8080/",
          "height": 35
        },
        "outputId": "c13bbee6-cef1-458c-fdee-4dbb00fd9a8e"
      },
      "source": [
        "# make predictions for test data\n",
        "y_pred = model.predict(X_test)\n",
        "predictions = [round(value) for value in y_pred]\n",
        "\n",
        "# Avalia a acurária do modelo preditivo\n",
        "accuracy = accuracy_score(y_test, predictions)\n",
        "print(\"Accuracy: %.2f%%\" % (accuracy * 100.0))"
      ],
      "execution_count": null,
      "outputs": [
        {
          "output_type": "stream",
          "text": [
            "Accuracy: 77.95%\n"
          ],
          "name": "stdout"
        }
      ]
    },
    {
      "cell_type": "markdown",
      "metadata": {
        "id": "Lyad2bddkIB6",
        "colab_type": "text"
      },
      "source": [
        "#### Outros exemplos\n",
        "\n",
        "Os exemplos a seguir ([fonte](https://www.kaggle.com/stuarthallows/using-xgboost-with-scikit-learn)) ilustram diferentes usos das classes `XGBClassifier` e `XGBRegressor`."
      ]
    },
    {
      "cell_type": "markdown",
      "metadata": {
        "id": "hLtOOUP5iACK",
        "colab_type": "text"
      },
      "source": [
        "##### Regressão\n",
        "\n",
        "O exemplo a seguir ilustra o uso do XGBoost para a tarefa de regressão."
      ]
    },
    {
      "cell_type": "code",
      "metadata": {
        "id": "5ZIXnTPViG6v",
        "colab_type": "code",
        "colab": {}
      },
      "source": [
        "import numpy as np\n",
        "\n",
        "from scipy.stats import uniform, randint\n",
        "\n",
        "from sklearn.datasets import load_breast_cancer, load_diabetes, load_wine\n",
        "from sklearn.metrics import auc, accuracy_score, confusion_matrix, mean_squared_error\n",
        "from sklearn.model_selection import cross_val_score, GridSearchCV, KFold, RandomizedSearchCV, train_test_split\n",
        "\n",
        "import xgboost as xgb"
      ],
      "execution_count": null,
      "outputs": []
    },
    {
      "cell_type": "code",
      "metadata": {
        "id": "MZYVo0emiNJc",
        "colab_type": "code",
        "colab": {
          "base_uri": "https://localhost:8080/",
          "height": 35
        },
        "outputId": "bcc9ceb7-a4ca-46bd-a766-56b6da37f372"
      },
      "source": [
        "diabetes = load_diabetes()\n",
        "\n",
        "X = diabetes.data\n",
        "y = diabetes.target\n",
        "\n",
        "xgb_model = xgb.XGBRegressor(objective=\"reg:squarederror\", random_state=42)\n",
        "\n",
        "xgb_model.fit(X, y)\n",
        "\n",
        "y_pred = xgb_model.predict(X)\n",
        "\n",
        "mse=mean_squared_error(y, y_pred)\n",
        "\n",
        "print(np.sqrt(mse))"
      ],
      "execution_count": null,
      "outputs": [
        {
          "output_type": "stream",
          "text": [
            "36.271203581682585\n"
          ],
          "name": "stdout"
        }
      ]
    },
    {
      "cell_type": "code",
      "metadata": {
        "id": "br3LxxJHiUh8",
        "colab_type": "code",
        "colab": {
          "base_uri": "https://localhost:8080/",
          "height": 145
        },
        "outputId": "c6aa53f2-9c84-4b7d-81fe-a4d2c7e423d9"
      },
      "source": [
        "xgb_model"
      ],
      "execution_count": null,
      "outputs": [
        {
          "output_type": "execute_result",
          "data": {
            "text/plain": [
              "XGBRegressor(base_score=0.5, booster='gbtree', colsample_bylevel=1,\n",
              "             colsample_bynode=1, colsample_bytree=1, gamma=0,\n",
              "             importance_type='gain', learning_rate=0.1, max_delta_step=0,\n",
              "             max_depth=3, min_child_weight=1, missing=None, n_estimators=100,\n",
              "             n_jobs=1, nthread=None, objective='reg:squarederror',\n",
              "             random_state=42, reg_alpha=0, reg_lambda=1, scale_pos_weight=1,\n",
              "             seed=None, silent=None, subsample=1, verbosity=1)"
            ]
          },
          "metadata": {
            "tags": []
          },
          "execution_count": 16
        }
      ]
    },
    {
      "cell_type": "markdown",
      "metadata": {
        "id": "1Wh-vd_kiddx",
        "colab_type": "text"
      },
      "source": [
        "##### Classificação binária"
      ]
    },
    {
      "cell_type": "code",
      "metadata": {
        "id": "WOis7Tx8iYCL",
        "colab_type": "code",
        "colab": {
          "base_uri": "https://localhost:8080/",
          "height": 54
        },
        "outputId": "48e3c689-a265-4bf2-b82b-0ade09508e40"
      },
      "source": [
        "cancer = load_breast_cancer()\n",
        "\n",
        "X = cancer.data\n",
        "y = cancer.target\n",
        "\n",
        "xgb_model = xgb.XGBClassifier(objective=\"binary:logistic\", random_state=42)\n",
        "xgb_model.fit(X, y)\n",
        "\n",
        "y_pred = xgb_model.predict(X)\n",
        "\n",
        "print(confusion_matrix(y, y_pred))"
      ],
      "execution_count": null,
      "outputs": [
        {
          "output_type": "stream",
          "text": [
            "[[212   0]\n",
            " [  0 357]]\n"
          ],
          "name": "stdout"
        }
      ]
    },
    {
      "cell_type": "markdown",
      "metadata": {
        "id": "H-UhMuYViy55",
        "colab_type": "text"
      },
      "source": [
        "##### Classificação multiclasses"
      ]
    },
    {
      "cell_type": "code",
      "metadata": {
        "id": "NEX8_y3Ui1iY",
        "colab_type": "code",
        "colab": {
          "base_uri": "https://localhost:8080/",
          "height": 72
        },
        "outputId": "9727fb86-9398-4292-ec44-696d66dbe800"
      },
      "source": [
        "wine = load_wine()\n",
        "\n",
        "X = wine.data\n",
        "y = wine.target\n",
        "\n",
        "xgb_model = xgb.XGBClassifier(objective=\"multi:softprob\", random_state=42)\n",
        "xgb_model.fit(X, y)\n",
        "\n",
        "y_pred = xgb_model.predict(X)\n",
        "\n",
        "print(confusion_matrix(y, y_pred))"
      ],
      "execution_count": null,
      "outputs": [
        {
          "output_type": "stream",
          "text": [
            "[[59  0  0]\n",
            " [ 0 71  0]\n",
            " [ 0  0 48]]\n"
          ],
          "name": "stdout"
        }
      ]
    },
    {
      "cell_type": "markdown",
      "metadata": {
        "id": "var2KbrAjsN2",
        "colab_type": "text"
      },
      "source": [
        "##### Validação cruzada"
      ]
    },
    {
      "cell_type": "code",
      "metadata": {
        "id": "6LeCqWA4juxH",
        "colab_type": "code",
        "colab": {
          "base_uri": "https://localhost:8080/",
          "height": 72
        },
        "outputId": "b1c04e9c-0d9b-477f-8809-d85ce3830bc3"
      },
      "source": [
        "def display_scores(scores):\n",
        "    print(\"Scores: {0}\\nMean: {1:.3f}\\nStd: {2:.3f}\".format(scores, np.mean(scores), np.std(scores)))\n",
        "\n",
        "diabetes = load_diabetes()\n",
        "\n",
        "X = diabetes.data\n",
        "y = diabetes.target\n",
        "\n",
        "kfold = KFold(n_splits=5, shuffle=True, random_state=42)\n",
        "\n",
        "scores = []\n",
        "\n",
        "for train_index, test_index in kfold.split(X):   \n",
        "    X_train, X_test = X[train_index], X[test_index]\n",
        "    y_train, y_test = y[train_index], y[test_index]\n",
        "\n",
        "    xgb_model = xgb.XGBRegressor(objective=\"reg:squarederror\")\n",
        "    xgb_model.fit(X_train, y_train)\n",
        "    \n",
        "    y_pred = xgb_model.predict(X_test)\n",
        "    \n",
        "    scores.append(mean_squared_error(y_test, y_pred))\n",
        "    \n",
        "display_scores(np.sqrt(scores))"
      ],
      "execution_count": null,
      "outputs": [
        {
          "output_type": "stream",
          "text": [
            "Scores: [55.30444573 55.59151472 63.44642064 57.82986083 58.71808276]\n",
            "Mean: 58.178\n",
            "Std: 2.937\n"
          ],
          "name": "stdout"
        }
      ]
    },
    {
      "cell_type": "markdown",
      "metadata": {
        "id": "pgNyVVEm4_4m",
        "colab_type": "text"
      },
      "source": [
        "\n",
        "## Bagging x Boosting\n",
        "* Bagging  e Random Forests são algoritmos que visam reduzir a complexidade de modelos que se sobreajustam aos dados de treinamento. \n",
        "** Bagging pode degradar o desempenho de algoritmos estáveis (por exemplo, k-NN), porque conjuntos de treinamento efetivamente menores são usados para treinar cada classificador.\n",
        "* Em contraste, boosting é uma abordagem para aumentar a complexidade de modelos que sofrem de alto viés, i.e., que se subajustam aos dados de treinamento.\n"
      ]
    }
  ]
}
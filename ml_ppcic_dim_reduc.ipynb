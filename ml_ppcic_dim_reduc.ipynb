{
  "nbformat": 4,
  "nbformat_minor": 0,
  "metadata": {
    "colab": {
      "name": "ml_ppcic_dim_reduc.ipynb",
      "provenance": [],
      "collapsed_sections": [
        "57wHtb9RkLgX",
        "B9bffGsU_bjs",
        "2q-e_0I5SWQ1",
        "qQvR-wHf3fol"
      ],
      "toc_visible": true,
      "authorship_tag": "ABX9TyPUKBVE8hWKI7q+ObnVHotf",
      "include_colab_link": true
    },
    "kernelspec": {
      "name": "python3",
      "display_name": "Python 3"
    }
  },
  "cells": [
    {
      "cell_type": "markdown",
      "metadata": {
        "id": "view-in-github",
        "colab_type": "text"
      },
      "source": [
        "<a href=\"https://colab.research.google.com/github/MLRG-CEFET-RJ/ml-class/blob/master/ml_ppcic_dim_reduc.ipynb\" target=\"_parent\"><img src=\"https://colab.research.google.com/assets/colab-badge.svg\" alt=\"Open In Colab\"/></a>"
      ]
    },
    {
      "cell_type": "markdown",
      "metadata": {
        "id": "D9yeRGYWSEE4"
      },
      "source": [
        "# Introduction\n",
        "\n",
        "## Curse of dimensionality\n",
        "\n",
        "The term *curse of dimensionality* was coined by [Richard Bellman](https://en.wikipedia.org/wiki/Richard_E._Bellman) to denote the difficulty of manipulating data sets that have a very large number of attributes, or that is, they have a high dimensionality.\n",
        "\n",
        "In the context of ML, the curse of dimensionality, also known as the *Hughes phenomenon* states that, in a data set that contains a fixed amount of samples, say 1000, the more dimensions the samples have, the more difficult is to generate an ML model.\n",
        "\n",
        "For example, if the samples are two-dimensional, it is easy to train a decent predictive model with 1000 samples. However, when each sample contains 500 dimensions, then 1000 samples are not enough to train a decent model. This is because, to train a good predictive model, an ML algorithm has to be presented with a reasonable number of possible combinations of attribute values, in order to properly capture the patterns underlying the data. With more dimensions (i.e., more attributes), there are more possible combinations and therefore more samples are needed. The following figure illustrates this: the amount of training data needed to cover 20% of the attribute space grows exponentially with the number of dimensions.\n",
        "\n",
        "![alt text](https://www.visiondummy.com/wp-content/uploads/2014/04/curseofdimensionality.png)\n",
        "\n",
        "As the figure below illustrates, as the dimensionality of a data set increases, the performance of the prediction model increases until the ideal number of attributes is reached. However, further increasing the dimensionality without increasing the number of training samples results in a decrease in the performance of the model generated.\n",
        "\n",
        "![alt text](https://www.visiondummy.com/wp-content/uploads/2014/04/dimensionality_vs_performance.png)\n",
        "\n",
        "## Dimensionality reduction and attribute selection\n",
        "\n",
        "The choice of attributes (features) used to train a machine learning model has a great influence on the performance that can be achieved.\n",
        "\n",
        "Example (2D to 1D):\n",
        "\n",
        "![alt text](https://shapeofdata.files.wordpress.com/2013/04/projection.png)\n",
        "\n",
        "Example (3D to 2D):\n",
        "\n",
        "![alt text](https://i.stack.imgur.com/9ETLr.png)\n",
        "\n",
        "If the original data set contains a very large number of attributes, it is possible that there are dependencies between them. As a result, there will be more dimensions in the attribute space than the minimum required to perform any ML task. In addition, in classification or regression tasks, it is possible that there are attributes that are not relevant to infer the value of the target attribute.\n",
        "\n",
        "In the context described above, we can consider applying techniques of *dimensionality reduction* or *feature selection* on the original data set. The purpose of these families of techniques is to reduce the number of attributes to be used when adjusting some ML model.\n",
        "\n",
        "The difference between dimensionality reduction and attribute selection is that the set of attributes resulting from the application of the latter is a subset of the original set of attributes, while the set of attributes produced by dimensionality reduction does not need to be a subset (for example, example, the PCA reduces dimensionality by producing new attributes by linearly combining the original attributes, and then discarding the less important ones). In this way, we can understand the selection of attributes as a particular case of dimensionality reduction.\n",
        "\n",
        "In any case, both DR and AS can be used during the pre-processing phase for later application of an estimator (i.e., of some ML model)."
      ]
    },
    {
      "cell_type": "markdown",
      "metadata": {
        "id": "61J2fpYANDGm"
      },
      "source": [
        "# Dimensionality reduction\n",
        "\n",
        "DR's main objective is to compact a set of data, preserving most of the significant information. This compression corresponds to reducing the dimensions of the data set with minimal loss of information.\n",
        "\n",
        "Compression facilitates the process of understanding the data, as it is expected that the reduced data representation captures the dominant sources of variation more efficiently.\n",
        "\n",
        "The goal is to discover the \"hidden variables\" that can successfully expose the underlying structure of the data.\n",
        "\n",
        "The desired result is to design an attribute space in a smaller subspace that represents the data properly. A possible application would be in a classification task, in which we want to reduce the computational costs and the classification error, reducing the number of dimensions of the attribute space.\n"
      ]
    },
    {
      "cell_type": "markdown",
      "metadata": {
        "id": "dYTwCHBVaV3y"
      },
      "source": [
        "## Mean vector\n",
        "\n",
        "Consider a data set consisting of $m$ samples, each one an $n$-dimensional vector. That is, the corresponding data matrix $X$ contains in its rows $m$ vector columns (each with $n$ components) of the data set.\n",
        "\n",
        "Structure of a data matrix $X$:\n",
        "\n",
        "$$\n",
        "\\mathbf{X} = {\n",
        "  \\begin{bmatrix}\n",
        "    \\mathbf{x}^{(1)}\\\\\n",
        "    \\vdots \\\\\n",
        "    \\mathbf{x}^{(m)}\n",
        "  \\end{bmatrix}}^T = \n",
        "  {\\begin{bmatrix} \n",
        "    (\\mathbf{x}^{(1)})^T \\\\ \n",
        "    \\vdots \\\\ \n",
        "    (\\mathbf{x}^{(m)})^T \n",
        "  \\end{bmatrix}}\n",
        "$$\n",
        "\n",
        "Another way to interpret the above statement is to say that a data matrix $X$ contain the $m$ column vector as rows, and each column vector has $n$ components.\n",
        "\n",
        "$$\n",
        "\\mathbf{X} = {\\begin{bmatrix} (\\mathbf{x}^{(1)})^T \\\\ \\vdots \\\\ (\\mathbf{x}^{(m)})^T \\end{bmatrix}}\n",
        "$$\n",
        "\n",
        "We denote the entry in the $i$-th row and $j$-th column of $X$ by $x^{(i)}_j$. We define $\\mu_j$, the **mean** of the $j$-th column (feature) of $X$ as the following:\n",
        "\n",
        "$$\n",
        "{\\mu_j = \\displaystyle {\\frac {1}{m}}\\sum _{i=1}^{m}x_{j}^{(i)} } \n",
        "$$\n",
        "\n",
        "Notice that $\\mu_j \\in \\Re$. We can also think of $\\mathbf{\\mu} \\in \\Re^n$, the **sample mean vector** of a data matrix. The sample mean vector contains the average of the observations for each variable, and is written as the following:\n",
        "\n",
        "$$\n",
        "\\mathbf{\\mu} ={\\frac{1}{m}}\\sum _{i=1}^{m} \\mathbf{x}^{(i)} = {\\begin{bmatrix}{\\mu}_{1}\\\\\\vdots \\\\{\\mu}_{j}\\\\\\vdots \\\\{\\mu}_{n}\\end{bmatrix}}\n",
        "$$\n",
        "\n",
        "A data matrix is ​​said to be *centered* if all of its points (data vectors) have been transformed to subtract the corresponding mean vector. See the following example. Notice that centering the points in the original matrix results in them being just translated; the distances between them remain the same after the translation.\n",
        "\n"
      ]
    },
    {
      "cell_type": "code",
      "metadata": {
        "id": "jn-T6VFBLnlg",
        "outputId": "6cd3673c-59bc-47f8-f858-b31fdc36ccba",
        "colab": {
          "base_uri": "https://localhost:8080/",
          "height": 225
        }
      },
      "source": [
        "import numpy as np\n",
        "\n",
        "X = np.array([[0,0],[1/2,1/2],[0,1],[1,0],[1,1]])\n",
        "print('Original data matrix:\\n', X)\n",
        "\n",
        "X_centered = X - X.mean(axis=0)\n",
        "print('Centered data matrix:\\n', X_centered)"
      ],
      "execution_count": 102,
      "outputs": [
        {
          "output_type": "stream",
          "text": [
            "Original data matrix:\n",
            " [[0.  0. ]\n",
            " [0.5 0.5]\n",
            " [0.  1. ]\n",
            " [1.  0. ]\n",
            " [1.  1. ]]\n",
            "Centered data matrix:\n",
            " [[-0.5 -0.5]\n",
            " [ 0.   0. ]\n",
            " [-0.5  0.5]\n",
            " [ 0.5 -0.5]\n",
            " [ 0.5  0.5]]\n"
          ],
          "name": "stdout"
        }
      ]
    },
    {
      "cell_type": "code",
      "metadata": {
        "id": "kHV4y1FD4sEV",
        "outputId": "1a00aadb-5405-4240-85b6-b5340405db33",
        "colab": {
          "base_uri": "https://localhost:8080/",
          "height": 311
        }
      },
      "source": [
        "import matplotlib.pyplot as plt\n",
        "\n",
        "fig, (ax1, ax2) = plt.subplots(1, 2)\n",
        "fig.suptitle('Data matrices before (left) and after (right) centering.')\n",
        "\n",
        "# plot data\n",
        "ax1.scatter(X[:, 0], X[:, 1])\n",
        "ax2.scatter(X_centered[:, 0], X_centered[:, 1])"
      ],
      "execution_count": null,
      "outputs": [
        {
          "output_type": "execute_result",
          "data": {
            "text/plain": [
              "<matplotlib.collections.PathCollection at 0x7f531709ab00>"
            ]
          },
          "metadata": {
            "tags": []
          },
          "execution_count": 26
        },
        {
          "output_type": "display_data",
          "data": {
            "image/png": "[encoded data removed]",
            "text/plain": [
              "<Figure size 432x288 with 2 Axes>"
            ]
          },
          "metadata": {
            "tags": [],
            "needs_background": "light"
          }
        }
      ]
    },
    {
      "cell_type": "markdown",
      "metadata": {
        "id": "CwHySm4jbLGI"
      },
      "source": [
        "## Variance and covariance\n",
        "\n",
        "given two random variable $x$ and $y$, the covariance betewwn $x$ and $y$ as follows:\n",
        "\n",
        "$$\n",
        "\\Sigma_{ij} = \\mathrm{cov}(x,y)=\\mathbf{E}{\n",
        "  \\begin{bmatrix}\n",
        "  (x-\\mathbf{\\mu}_x)(y-\\mathbf{\\mu}_y)\n",
        "  \\end{bmatrix}}=\\mathbf{E} \n",
        "  {\\begin{bmatrix}x y\\end{bmatrix}}-\\mathbf{\\mu}_{x}\\mathbf{\\mu}_{y}\n",
        "$$\n",
        "\n",
        "In the above expression, $\\mu_x$ and $\\mu_y$ are the means of $x$ and $y$, respectively, and $\\mathbf{E}[\\cdot]$ denotes the expected value.\n",
        "\n",
        "In the context of a data matrix, covariance measures the linear relationship (if any) between a pair of features. For example, suppose a data matrix has two features:\n",
        "\n",
        "* $x_i = \\text{number of hours of study}$\n",
        "* $x_j = \\text{final grade obtained}$ \n",
        "\n",
        "The value $\\Sigma_{ij}$ tells us whether those two variables are related, and, if so, what is the direction of such relationship.\n",
        "\n",
        "The covariance between a random variable and itself is the *variance* of this variable. This gives us a notion of the dispersion of the values of this variable around its mean. That is, variance is a measure of the deviation (from the mean) for points in one dimension. For example, we can compute the variance of the heights of a group of individuals to see how dispersed these values are.\n",
        "\n"
      ]
    },
    {
      "cell_type": "markdown",
      "metadata": {
        "id": "61G7pOT9bW2I"
      },
      "source": [
        "## Covariance matrix\n",
        "\n",
        "It is possible to organize the values of covariances between variables (features) of a $n$-dimensional data matrix into another matrix.The so called *covariance matrix* of a data matrix $X$ has order $n \\times n$. Given two attributes $x_i$ and $x_j$ in $X$, the entry $(i, j)$ in this matrix is ​​defined by $\\Sigma_{ij}$.\n",
        "\n",
        "Every covariance matrix is ​​symmetric with respect to the main diagonal, since $\\text{cov}(x_i,x_j) = \\text{cov}(x_j,x_i)$. The values ​​on the main diagonal of a covariance matrix correspond to the sample variances of each of the $n$ variables (features)."
      ]
    },
    {
      "cell_type": "markdown",
      "metadata": {
        "id": "VvdbH38D20Ji"
      },
      "source": [
        "In a machine learning context, we will be working with [estimates of the covaviance matrix](https://en.wikipedia.org/wiki/Estimation_of_covariance_matrices), since we are going to build an approximation of the true covariance matriz considering only the samples from the data matrix $X$.\n",
        "\n",
        "$$\n",
        "\\Sigma_{jk} = {\\frac{1}{m-1}}\\sum _{i=1}^{m}\\left(x^{(i)}_{j}-{\\mu}_{j}\\right)\\left(x^{(i)}_{k}-{\\mu}_{k}\\right) \n",
        "$$\n",
        "\n",
        "The covariance matrix can be computed in a vectorized way:\n",
        "\n",
        "$$\n",
        "\\Sigma =\\frac{1}{m-1} X^T \\, X\n",
        "$$\n",
        "\n",
        "The code cell below shows how the sample covariance matrix of a data matrix $X$ can be computed."
      ]
    },
    {
      "cell_type": "code",
      "metadata": {
        "id": "5rvca_nNfOxD",
        "outputId": "b5cd23cb-28ea-4dff-9e33-57f758851097",
        "colab": {
          "base_uri": "https://localhost:8080/",
          "height": 242
        }
      },
      "source": [
        "X = np.array([[0, 2], [1, 1], [2, 0]])\n",
        "m =3\n",
        "print(X)\n",
        "\n",
        "X_centered = X - X.mean(axis=0)\n",
        "\n",
        "print('centered:')\n",
        "print(X_centered)\n",
        "\n",
        "print('cov:')\n",
        "temp = X_centered.T.dot(X_centered)\n",
        "temp = temp / (m-1)\n",
        "print(temp)\n",
        "\n",
        "from sklearn.covariance import EmpiricalCovariance\n",
        "\n",
        "cov = EmpiricalCovariance().fit(temp)\n",
        "\n",
        "print('Estimate of the covariance matrix:\\n', cov.covariance_)"
      ],
      "execution_count": null,
      "outputs": [
        {
          "output_type": "stream",
          "text": [
            "[[0 2]\n",
            " [1 1]\n",
            " [2 0]]\n",
            "centered:\n",
            "[[-1.  1.]\n",
            " [ 0.  0.]\n",
            " [ 1. -1.]]\n",
            "cov:\n",
            "[[ 1. -1.]\n",
            " [-1.  1.]]\n",
            "Estimate of the covariance matrix:\n",
            " [[ 1. -1.]\n",
            " [-1.  1.]]\n"
          ],
          "name": "stdout"
        }
      ]
    },
    {
      "cell_type": "markdown",
      "metadata": {
        "id": "1UHhJRcFmqqB"
      },
      "source": [
        "The code cell below ilustrates the difference between the real covariance matrix and the sample covariance matrix. Consider that the covariance matrix for these two variables is the following:\n",
        "\n",
        "\\begin{equation*} \n",
        "\t\\Sigma = \\begin{bmatrix} \\sigma(x,x) & \\sigma(x,y) \\\\[0.3em] \\sigma(y,x) & \\sigma(y,y) \\\\[0.3em] \\end{bmatrix}  = \\begin{bmatrix} 0.8 & 0.3 \\\\[0.3em] 0.3 & 0.4 \\\\[0.3em] \\end{bmatrix}\n",
        "\\end{equation*}\n",
        "\n",
        "The code cell below first build a sample of 500 pais of those two normally distributed random variables. The result is a data matrix with $n=2$ features and $m = 500$ examples. In the generated plot, notice how these two variable are somewhat positively correlated. After ploting the points, the class `EmpiricalCovariance` of Scikit-Learn is used to build an estimate of the covariance matriz using these points. By comparing the real covariance matrix and its estimate, you should conclude that the latter is a good approximation of the former. "
      ]
    },
    {
      "cell_type": "code",
      "metadata": {
        "id": "_E6KjZxIUGby",
        "outputId": "a0e27483-023e-4975-80e5-ae2a42704582",
        "colab": {
          "base_uri": "https://localhost:8080/",
          "height": 437
        }
      },
      "source": [
        "import numpy as np\n",
        "from sklearn.covariance import EmpiricalCovariance\n",
        "from sklearn.datasets import make_gaussian_quantiles\n",
        "real_cov = np.array([[.8, .3],\n",
        "                     [.3, .4]])\n",
        "\n",
        "print('Real covariance matrix:\\n', real_cov)\n",
        "\n",
        "rng = np.random.RandomState(0)\n",
        "X = rng.multivariate_normal(mean=[0, 0], cov=real_cov, size=500)\n",
        "cov = EmpiricalCovariance().fit(X)\n",
        "\n",
        "plt.title('Data matrix $X$')\n",
        "plt.scatter(X[:, 0], X[:, 1])\n",
        "plt.show()\n",
        "\n",
        "print('Estimate of the covariance matrix:\\n', cov.covariance_)\n",
        "print('***')\n",
        "print('Estimate of the mean vector:\\n', cov.location_)"
      ],
      "execution_count": 37,
      "outputs": [
        {
          "output_type": "stream",
          "text": [
            "Real covariance matrix:\n",
            " [[0.8 0.3]\n",
            " [0.3 0.4]]\n"
          ],
          "name": "stdout"
        },
        {
          "output_type": "display_data",
          "data": {
            "image/png": "[encoded data removed]",
            "text/plain": [
              "<Figure size 432x288 with 1 Axes>"
            ]
          },
          "metadata": {
            "tags": [],
            "needs_background": "light"
          }
        },
        {
          "output_type": "stream",
          "text": [
            "Estimate of the covariance matrix:\n",
            " [[0.75693565 0.28186631]\n",
            " [0.28186631 0.39288421]]\n",
            "***\n",
            "Estimate of the mean vector:\n",
            " [0.06228968 0.01937939]\n"
          ],
          "name": "stdout"
        }
      ]
    },
    {
      "cell_type": "markdown",
      "metadata": {
        "id": "hW8m5PrbdbP4"
      },
      "source": [
        "## Principal Component Analysis\n",
        "\n",
        "Principal Components Analysis (PCA) is the most popular algorithm to perform dimensionality reduction in a unsupervised way.\n",
        "\n",
        "Mathematically, PCA is defined as an orthogonal linear transformation that represents the data points in $X$ in a new coordinate system, so that the largest variance resides in the first coordinate (called the first principal component), the second largest variance resides in the second coordinate, and so on."
      ]
    },
    {
      "cell_type": "markdown",
      "metadata": {
        "id": "czf0O_FvdmXe"
      },
      "source": [
        "### Projection error\n",
        "\n",
        "The new coordinate system is produced by the PCA in such a way as to minimize the **projection error** of the data on the smaller dimensional space.\n",
        "\n",
        "Mathematically, the projection error corresponds to the sum of the squares of the distances between each data point and the surface corresponding to the smaller dimensional space for which the points must be projected.\n",
        "\n",
        "To understand the concept of projection error, consider the following 2D data set:\n",
        "\n",
        "![alt text](https://i.stack.imgur.com/jPw90.png)\n",
        "\n",
        "The following animation ([source](https://stats.stackexchange.com/questions/2691/making-sense-of-principal-component-analysis-eigenvectors-eigenvalues)) presents different lines of projections on which the set original data file (in 2D) can be designed. Each of these projection lines corresponds to a 1D dimensional space. For each projection line, each of the points located on it (points in red) corresponds to some point in the original space (points in blue).\n",
        "\n",
        "![alt text](https://i.stack.imgur.com/Q7HIP.gif)\n",
        "\n",
        "For a given projection line $R$, if we compute the square of the distance between each red point and the corresponding blue point (i.e., the lengths of the straight line segments in red) and add all these distances, we obtain the projection error related to the line $R$. In this example, note that\n",
        "\n",
        "* each projection line has its corresponding projection error.\n",
        "* each of these lines defines a new space determined by a vector (which defines the direction of the line).\n",
        "* the line that corresponds to the maximum data gap is the same that corresponds to the minimum projection error value.\n",
        "\n",
        "The objective of the PCA is to find the direction (s) of projection corresponding to the minimum possible projection error."
      ]
    },
    {
      "cell_type": "markdown",
      "metadata": {
        "id": "WWq9Fv5bdy81"
      },
      "source": [
        "### Formalization\n",
        "\n",
        "* 2 dimensions case $\\rightarrow$ 1 dimension: find a direction (i.e., a vector) on which to project the data, in such a way as to minimize the projection error.\n",
        "* (general case) $n$ dimensions $\\rightarrow$ $k$ dimensions: find $k$ directions (i.e., $k$ vectors) on which to project the data, in order to minimize the projection error."
      ]
    },
    {
      "cell_type": "markdown",
      "metadata": {
        "id": "Nuavm0RUfJAl"
      },
      "source": [
        "### Pre-processing\n",
        "\n",
        "Before applying the PCA, it is necessary to centralize the data matrix $X$.\n",
        "\n",
        "Furthermore, if the scales of the various attributes in $ X $ are very different, *feature scaling* should be performed."
      ]
    },
    {
      "cell_type": "markdown",
      "metadata": {
        "id": "3r1MEkJjOPnN"
      },
      "source": [
        "### Linear Transformations\n",
        "\n",
        "Fundamental to understading PCA is the concept of linear transformations. Watch the video below to get a grasp on this subject."
      ]
    },
    {
      "cell_type": "code",
      "metadata": {
        "id": "qAMsQS-9OThx",
        "outputId": "06a9ef1e-e0f1-4633-8029-fca66a14de59",
        "colab": {
          "base_uri": "https://localhost:8080/",
          "height": 322
        }
      },
      "source": [
        "from IPython.display import YouTubeVideo\n",
        "YouTubeVideo('kYB8IZa5AuE')"
      ],
      "execution_count": 100,
      "outputs": [
        {
          "output_type": "execute_result",
          "data": {
            "text/html": [
              "\n",
              "        <iframe\n",
              "            width=\"400\"\n",
              "            height=\"300\"\n",
              "            src=\"https://www.youtube.com/embed/kYB8IZa5AuE\"\n",
              "            frameborder=\"0\"\n",
              "            allowfullscreen\n",
              "        ></iframe>\n",
              "        "
            ],
            "text/plain": [
              "<IPython.lib.display.YouTubeVideo at 0x7f5317d01908>"
            ],
            "image/jpeg": "[encoded data removed]"
          },
          "metadata": {
            "tags": []
          },
          "execution_count": 100
        }
      ]
    },
    {
      "cell_type": "markdown",
      "metadata": {
        "id": "dU-YkqZnmHMx"
      },
      "source": [
        "### Singular Values Decomposition ​​(SVD)\n",
        "\n",
        "By now, you should understand that linear tranformations are special functions that map one vector to another. You should also understand that a linear transformation can always be represented by a matrix in such a way that, when we multiply this matrix by a vector the resulting vector is produced.\n",
        "\n",
        "Formally, SVD is a way to factor a composite linear transformation represented by a matrix M into its component matrices. In particular, a matrix $M$ representing a composite linear transformatrion can be factorized: \n",
        "\n",
        "$$\n",
        "M = \\mathbf{U \\times \\Sigma \\times V}\n",
        "$$\n",
        "\n",
        "Intuitively, SVD produces a decomposition of the original matrix $M$ into matrices that either rotate or resize the input vectors. This way, applying $M$ to a vector $\\mathbf{v}$ is equivalent to applying the components matrices in sequence:\n",
        "\n",
        "$$\n",
        "M \\times \\mathbf{v}\\equiv U \\times (\\Sigma \\times (V \\times \\mathbf{v}))\n",
        "$$\n",
        "\n",
        "The following animation ([source](https://en.wikipedia.org/wiki/Singular_value_decomposition)) illustrates the mechanics of SVD. Two vectors are depicted (in yellow and red). You should see that the change in these vectors resulting from applying $M$ is the same obtained by applying $V$, $\\Sigma$ and $U$ (in this order) on them.\n",
        "\n",
        "![alt text](https://upload.wikimedia.org/wikipedia/commons/thumb/e/e9/Singular_value_decomposition.gif/280px-Singular_value_decomposition.gif)\n",
        "\n",
        "See also the following image.\n",
        "\n",
        "![alt text](https://upload.wikimedia.org/wikipedia/commons/thumb/b/bb/Singular-Value-Decomposition.svg/800px-Singular-Value-Decomposition.svg.png)\n",
        "\n",
        "NB: be aware of the chance in notation used in the above animation."
      ]
    },
    {
      "cell_type": "markdown",
      "metadata": {
        "id": "ii2oY3N7fRKs"
      },
      "source": [
        "### Algorithm steps\n",
        "\n",
        "Consider using PCA to reduce the dimensionality of the (already centralized) $X$ data matrix from $n$ to $k$. To do this, the following steps should be performed:\n",
        "\n",
        "1. Compute $\\Sigma$, the covariance matrix of $X$:\n",
        "\n",
        "2. Compute the SVD decomposition of $\\Sigma$: $[U, S, V] := \\text{svd}(\\Sigma)$\n",
        "\n",
        "From this decomposition (step 2), the relevant matrix for PCA is ​​$U \\in \\Re^{n \\times n}$. This matrix contains the main components determined by PCA.\n",
        "\n",
        "$$\n",
        "U = \\begin{bmatrix}\n",
        "\\vert \t& \\vert \t& \t\t\t& \\vert \\\\ \n",
        "\\mathbf{u}^{(1)} & \\mathbf{u}^{(2)} & \\dots & \\mathbf{u}^{(n)}\\\\ \n",
        "\\vert \t& \\vert \t& \t\t\t& \\vert \n",
        "\\end{bmatrix}\n",
        "$$\n",
        "\n",
        "After identifying the principal components, it is possible to reduce the size of the data set to $k$ dimensions, projecting it on the hyperplane defined by the first $k$ principal components. Selecting this hyperplane ensures that the projection will preserve the greatest possible variance. Consider the matrix $U_{redux}$ obtained from $U$: $U_{redux}$ contains the first $k$ columns of $U$:\n",
        "\n",
        "$$\n",
        "U_{redux} = \\begin{bmatrix}\n",
        "\\vert \t& \\vert \t& \t\t\t& \\vert \\\\ \n",
        "\\mathbf{u}^{(1)} & \\mathbf{u}^{(2)} & \\dots & \\mathbf{u}^{(k)}\\\\ \n",
        "\\vert \t& \\vert \t& \t\t\t& \\vert \n",
        "\\end{bmatrix}\n",
        "$$\n",
        "\n",
        "To map the vector $\\mathbf{x}^{(i)} \\in \\Re^n$ to the vector $\\mathbf{z}^{(i)} \\in \\Re^k$, PCA computes:\n",
        "$$\n",
        "\\mathbf{z}^{(i)} = \\begin{bmatrix}\n",
        "\\vert \t& \\vert \t& \t\t\t& \\vert \\\\ \n",
        "\\mathbf{u}^{(1)} & \\mathbf{u}^{(2)} & \\dots & \\mathbf{u}^{(k)}\\\\ \n",
        "\\vert \t& \\vert \t& \t\t\t& \\vert \n",
        "\\end{bmatrix}^T \\, \\mathbf{x}^{(i)}\n",
        "$$\n",
        "\n",
        "\n"
      ]
    },
    {
      "cell_type": "markdown",
      "metadata": {
        "id": "1FSqTMLGbuJ0"
      },
      "source": [
        "### PCA: implementation with numpy and scipy"
      ]
    },
    {
      "cell_type": "code",
      "metadata": {
        "id": "vzaOuhlXYWrW"
      },
      "source": [
        "import numpy as np\n",
        "from scipy import linalg as LA\n",
        "\n",
        "def pca(X, k):\n",
        "    # Data centering\n",
        "    mu = np.mean(X, axis = 0)\n",
        "    print('Mean vector: ' + str(mu))\n",
        "    centered_X = X - mu  \n",
        "    print('\\nCentered data matrix:\\n ' + str(centered_X))\n",
        "\n",
        "    C = np.cov(centered_X, rowvar = False)\n",
        "\n",
        "    # SVD decomposition on the covariance matrix\n",
        "    print('\\n***** SVD decomposition ****')\n",
        "    U, S, V = LA.svd(C)\n",
        "    print('U:\\n' + str(U))\n",
        "    print('S:\\n' + str(S))\n",
        "    print('V:\\n' + str(V))\n",
        "\n",
        "    # Verifying that the eigenvectors are unit vectors\n",
        "    print('\\nEigenvectors norms (columns of U):')\n",
        "    print(np.linalg.norm(U[:,0]), np.linalg.norm(U[:,1]), np.linalg.norm(U[:,2]))\n",
        "\n",
        "    print('\\nVariance percentages per component:\\n', str(S/np.sum(S) * 100))\n",
        "\n",
        "    # To project to k dimensions, we must compute U_redux\n",
        "    U_redux = U[:, 0:k]\n",
        "    print('\\nU_redux:\\n', str(U_redux))\n",
        "\n",
        "    # Now, we compute Z, the matrix of projected points in k-dimensional space.\n",
        "    Z = np.matmul(U_redux.T,X.T)\n",
        "    print('\\nProjected data matrix (k=' + str(k) + '):\\n' + str(Z.T))\n",
        "    \n",
        "    return U_redux, Z\n",
        "\n",
        "def restore(U_redux, Z):\n",
        "    print('\\nRestored data matrix:\\n' + str(np.matmul(U_redux, Z).T))"
      ],
      "execution_count": 99,
      "outputs": []
    },
    {
      "cell_type": "code",
      "metadata": {
        "id": "100CG-X4YWra",
        "outputId": "d469c586-a185-47b2-b1ca-f70d269f772b",
        "colab": {
          "base_uri": "https://localhost:8080/",
          "height": 777
        }
      },
      "source": [
        "X = np.array([\n",
        "        [0.387,  4878, 5.42],\n",
        "        [0.723, 12104, 5.25],\n",
        "        [1,     12756, 5.52],\n",
        "        [1.524,  6787, 3.94],\n",
        "    ])\n",
        "\n",
        "pca(X, 2)"
      ],
      "execution_count": 98,
      "outputs": [
        {
          "output_type": "stream",
          "text": [
            "**************\n",
            "Mean vector: [9.08500e-01 9.13125e+03 5.03250e+00]\n",
            "\n",
            "Centered data matrix:\n",
            " [[-5.21500e-01 -4.25325e+03  3.87500e-01]\n",
            " [-1.85500e-01  2.97275e+03  2.17500e-01]\n",
            " [ 9.15000e-02  3.62475e+03  4.87500e-01]\n",
            " [ 6.15500e-01 -2.34425e+03 -1.09250e+00]]\n",
            "\n",
            "***** SVD decomposition ****\n",
            "U:\n",
            "[[-1.21901390e-05  5.66460727e-01  8.24088736e-01]\n",
            " [-9.99999997e-01  5.32639789e-05 -5.14047691e-05]\n",
            " [-7.30130279e-05 -8.24088734e-01  5.66460725e-01]]\n",
            "S:\n",
            "[1.51872330e+07 6.70619604e-01 2.02485956e-02]\n",
            "V:\n",
            "[[-1.21901390e-05 -9.99999997e-01 -7.30130279e-05]\n",
            " [ 5.66460727e-01  5.32639789e-05 -8.24088734e-01]\n",
            " [ 8.24088736e-01 -5.14047691e-05  5.66460725e-01]]\n",
            "\n",
            "Eigenvectors norms (columns of U):\n",
            "0.9999999999999998 0.9999999999999997 0.9999999999999998\n",
            "\n",
            "Variance percentages per component:\n",
            " [9.99999955e+01 4.41567976e-06 1.33326424e-07]\n",
            "\n",
            "U_redux:\n",
            " [[-1.21901390e-05  5.66460727e-01]\n",
            " [-9.99999997e-01  5.32639789e-05]\n",
            " [-7.30130279e-05 -8.24088734e-01]]\n",
            "\n",
            "Projected data matrix (k=2):\n",
            "[[-4.87800039e+03 -3.98751895e+00]\n",
            " [-1.21040004e+04 -3.27220755e+00]\n",
            " [-1.27560004e+04 -3.30307377e+00]\n",
            " [-6.78700029e+03 -2.02212084e+00]]\n"
          ],
          "name": "stdout"
        },
        {
          "output_type": "execute_result",
          "data": {
            "text/plain": [
              "(array([[-1.21901390e-05,  5.66460727e-01],\n",
              "        [-9.99999997e-01,  5.32639789e-05],\n",
              "        [-7.30130279e-05, -8.24088734e-01]]),\n",
              " array([[-4.87800039e+03, -1.21040004e+04, -1.27560004e+04,\n",
              "         -6.78700029e+03],\n",
              "        [-3.98751895e+00, -3.27220755e+00, -3.30307377e+00,\n",
              "         -2.02212084e+00]]))"
            ]
          },
          "metadata": {
            "tags": []
          },
          "execution_count": 98
        }
      ]
    },
    {
      "cell_type": "code",
      "metadata": {
        "id": "-o5WlQ7HYWre",
        "outputId": "4f198eb0-6f69-4e30-e388-1d39d5b15c07",
        "colab": {
          "base_uri": "https://localhost:8080/",
          "height": 743
        }
      },
      "source": [
        "X = np.array([\n",
        "        [1,  -2, -.05],\n",
        "        [2, 4, +.05],\n",
        "        [4, -8, -.1],\n",
        "        [8,  16, +.1],\n",
        "    ])\n",
        "U_redux, Z = pca(X, k=2)\n",
        "\n",
        "restore(U_redux, Z)"
      ],
      "execution_count": 101,
      "outputs": [
        {
          "output_type": "stream",
          "text": [
            "Mean vector: [3.75 2.5  0.  ]\n",
            "\n",
            "Centered data matrix:\n",
            " [[ -2.75  -4.5   -0.05]\n",
            " [ -1.75   1.5    0.05]\n",
            " [  0.25 -10.5   -0.1 ]\n",
            " [  4.25  13.5    0.1 ]]\n",
            "\n",
            "***** SVD decomposition ****\n",
            "U:\n",
            "[[-0.21011096  0.97765515  0.00661783]\n",
            " [-0.97764219 -0.21004099 -0.00992594]\n",
            " [-0.00831413 -0.00855542  0.99992884]]\n",
            "S:\n",
            "[1.09628348e+02 4.96292646e+00 3.92101053e-04]\n",
            "V:\n",
            "[[-0.21011096 -0.97764219 -0.00831413]\n",
            " [ 0.97765515 -0.21004099 -0.00855542]\n",
            " [ 0.00661783 -0.00992594  0.99992884]]\n",
            "\n",
            "Eigenvectors norms (columns of U):\n",
            "1.0000000000000002 1.0 0.9999999999999999\n",
            "\n",
            "Variance percentages per component:\n",
            " [9.56686915e+01 4.33096630e+00 3.42172398e-04]\n",
            "\n",
            "U_redux:\n",
            " [[-0.21011096  0.97765515]\n",
            " [-0.97764219 -0.21004099]\n",
            " [-0.00831413 -0.00855542]]\n",
            "\n",
            "Projected data matrix (k=2):\n",
            "[[  1.74558913   1.3981649 ]\n",
            " [ -4.33120641   1.11471857]\n",
            " [  6.98152512   5.59180404]\n",
            " [-17.32399421   4.45972983]]\n",
            "\n",
            "Restored data matrix:\n",
            "[[ 1.0001557  -2.00023352 -0.02647493]\n",
            " [ 1.99984429  4.00023354  0.02647331]\n",
            " [ 3.99996105 -7.99994158 -0.1058855 ]\n",
            " [ 8.00003891 15.99994164  0.10587902]]\n"
          ],
          "name": "stdout"
        }
      ]
    },
    {
      "cell_type": "markdown",
      "metadata": {
        "id": "GsLdRiK_eEo0"
      },
      "source": [
        "### PCA on Scikit-Learn\n",
        "\n",
        "In Scikit-Learn, the class [sklearn.decomposition.PCA](https://scikit-learn.org/stable/modules/generated/sklearn.decomposition.PCA.html) implements PCA. This class project point in the the input data matrix $X$ to a smaller dimensional space. The data matrix is ​​centralized, but its attributes are not resized, before applying the SVD decomposition.\n",
        "\n",
        "```\n",
        "from sklearn.decomposition import PCA\n",
        "pca = PCA(n_components = 2)\n",
        "X_reduced = pca.fit_transform(X)\n",
        "```\n",
        "\n",
        "Instead of specifying the number of principal components to be preserved, it is possible to define `n_components` as a number between 0.0 and 1.0, to indicate the proportion of variance to be maintained:\n",
        "\n",
        "```\n",
        "from sklearn.decomposition import PCA\n",
        "pca = PCA(ncomponents = 0.95)\n",
        "X_reduced = pca.fit_transform(X)\n",
        "```\n",
        "\n",
        "After applying the transformer to the $X$, the principal components are stored in the variable `components_`. This variable contains PCs as horizontal vectors. So, for example, the first major component is the same as `pca.components_.T [:, 0])`."
      ]
    },
    {
      "cell_type": "markdown",
      "metadata": {
        "id": "84F2YiA-RzjC"
      },
      "source": [
        "As an example of using the class [sklearn.decomposition.PCA](https://scikit-learn.org/stable/modules/generated/sklearn.decomposition.PCA.html), consider the following two-dimensional toy dataset."
      ]
    },
    {
      "cell_type": "code",
      "metadata": {
        "id": "J5Kqq31EUtec",
        "outputId": "278f319a-0b87-4079-f5b5-1d72fb3fb0b0",
        "colab": {
          "base_uri": "https://localhost:8080/",
          "height": 265
        }
      },
      "source": [
        "import matplotlib.pyplot as plt\n",
        "rng = np.random.RandomState(42)\n",
        "X = np.dot(rng.rand(2, 2), rng.randn(2, 200)).T\n",
        "\n",
        "plt.scatter(X[:, 0], X[:, 1])\n",
        "plt.axis('equal');"
      ],
      "execution_count": 95,
      "outputs": [
        {
          "output_type": "display_data",
          "data": {
            "image/png": "[encoded data removed]",
            "text/plain": [
              "<Figure size 432x288 with 1 Axes>"
            ]
          },
          "metadata": {
            "tags": [],
            "needs_background": "light"
          }
        }
      ]
    },
    {
      "cell_type": "markdown",
      "metadata": {
        "id": "9p323TGOSDSd"
      },
      "source": [
        "By visually inspecting the plot presented above, you should notice that there exists a positive correlation between the two variables: greater values of one of the variables correspond to greater values of the other variable, and vice-versa. We can confirm this by inspecting the empirical covariance matrix. See the code cell below."
      ]
    },
    {
      "cell_type": "code",
      "metadata": {
        "id": "2eapih76SDjU",
        "outputId": "857870d6-8ca5-4395-a667-7638dfa8661c",
        "colab": {
          "base_uri": "https://localhost:8080/",
          "height": 51
        }
      },
      "source": [
        "from sklearn.covariance import EmpiricalCovariance\n",
        "cov = EmpiricalCovariance().fit(X)\n",
        "print(cov.covariance_)"
      ],
      "execution_count": null,
      "outputs": [
        {
          "output_type": "stream",
          "text": [
            "[[0.67876672 0.22978007]\n",
            " [0.22978007 0.09833763]]\n"
          ],
          "name": "stdout"
        }
      ]
    },
    {
      "cell_type": "markdown",
      "metadata": {
        "id": "VwUy_BHuTHHD"
      },
      "source": [
        "The following code instantiates the PCA class of Scikit-Learn and invokes the `fit` method to compute the principal components for $X$."
      ]
    },
    {
      "cell_type": "code",
      "metadata": {
        "id": "fQ82roEwUzQa",
        "outputId": "922630ee-ad41-4a06-ca4d-462f713f9af6",
        "colab": {
          "base_uri": "https://localhost:8080/",
          "height": 51
        }
      },
      "source": [
        "from sklearn.decomposition import PCA\n",
        "pca = PCA(n_components=2)\n",
        "pca.fit(X)"
      ],
      "execution_count": null,
      "outputs": [
        {
          "output_type": "execute_result",
          "data": {
            "text/plain": [
              "PCA(copy=True, iterated_power='auto', n_components=2, random_state=None,\n",
              "    svd_solver='auto', tol=0.0, whiten=False)"
            ]
          },
          "metadata": {
            "tags": []
          },
          "execution_count": 48
        }
      ]
    },
    {
      "cell_type": "code",
      "metadata": {
        "id": "Fp-amk_OU48j",
        "outputId": "b0ad8078-fbe0-4365-b2df-5fa07d36c142",
        "colab": {
          "base_uri": "https://localhost:8080/",
          "height": 51
        }
      },
      "source": [
        "print(pca.components_)"
      ],
      "execution_count": null,
      "outputs": [
        {
          "output_type": "stream",
          "text": [
            "[[-0.94446029 -0.32862557]\n",
            " [-0.32862557  0.94446029]]\n"
          ],
          "name": "stdout"
        }
      ]
    },
    {
      "cell_type": "code",
      "metadata": {
        "id": "R-A8K4pQU5hM",
        "outputId": "75b21215-5d4e-4e12-8a1a-9f64b5789c0d",
        "colab": {
          "base_uri": "https://localhost:8080/",
          "height": 34
        }
      },
      "source": [
        "print(pca.explained_variance_)"
      ],
      "execution_count": null,
      "outputs": [
        {
          "output_type": "stream",
          "text": [
            "[0.7625315 0.0184779]\n"
          ],
          "name": "stdout"
        }
      ]
    },
    {
      "cell_type": "markdown",
      "metadata": {
        "id": "HNPofhp_TZRI"
      },
      "source": [
        "We can have a greater intuition about the meaning of the principal components through the following visualization."
      ]
    },
    {
      "cell_type": "code",
      "metadata": {
        "id": "mtxWpKFZVKIH",
        "outputId": "cf8033a7-eb54-44d7-d47f-eaa346652d63",
        "colab": {
          "base_uri": "https://localhost:8080/",
          "height": 269
        }
      },
      "source": [
        "# fonte: https://jakevdp.github.io/PythonDataScienceHandbook/05.09-principal-component-analysis.html\n",
        "import matplotlib.pyplot as plt\n",
        "def draw_vector(v0, v1, ax=None):\n",
        "    ax = ax or plt.gca()\n",
        "    arrowprops=dict(arrowstyle='->',\n",
        "                    linewidth=2,\n",
        "                    shrinkA=0, shrinkB=0)\n",
        "    ax.annotate('', v1, v0, arrowprops=arrowprops)\n",
        "\n",
        "# plot data\n",
        "plt.scatter(X[:, 0], X[:, 1], alpha=0.2)\n",
        "for length, vector in zip(pca.explained_variance_, pca.components_):\n",
        "    v = vector * 3 * np.sqrt(length)\n",
        "    draw_vector(pca.mean_, pca.mean_ + v)\n",
        "plt.axis('equal');"
      ],
      "execution_count": null,
      "outputs": [
        {
          "output_type": "display_data",
          "data": {
            "image/png": "[encoded data removed]",
            "text/plain": [
              "<Figure size 432x288 with 1 Axes>"
            ]
          },
          "metadata": {
            "tags": []
          }
        }
      ]
    },
    {
      "cell_type": "markdown",
      "metadata": {
        "id": "AebQxMIrWfJl"
      },
      "source": [
        "In the visualization presented above, the vectors represent the main axes of the data in the new coordinate system determined by PCA. In addition, the length of each vector is an indication of how \"important\" the corresponding axis is in the description of the data distribution. More precisely, it is a measure of the variance of the data when projected for that axis."
      ]
    },
    {
      "cell_type": "markdown",
      "metadata": {
        "id": "du3gKhXjj7jP"
      },
      "source": [
        "### PCA applications\n",
        "\n",
        "* Reduction of memory required for data storage.\n",
        "\n",
        "* Acceleration of learning algorithms: PCA can be applied to reduce the dimensionality of a data matrix before applying some learning algorithm. The resulting projected data matrix will usually be processed faster due to the lower number of features.\n",
        "\n",
        "* Preview: PCA can be used as an exploratory data analysis tool. In such context, we can apply PCA to reduce a dataset to 2 or 3 dimensions, in order to visually inspect its points and get some insight."
      ]
    },
    {
      "cell_type": "markdown",
      "metadata": {
        "id": "I0-V6jURPXLc"
      },
      "source": [
        "### Finding the intrinsic dimension\n",
        "\n",
        "An important procedure when using PCA is to estimate how many components are needed to adequately describe the data. This quantity is called [intrinsic dimension](https://en.wikipedia.org/wiki/Intrinsic_dimension) of the data set.\n",
        "\n",
        "The intrinsic dimension can be determined by looking at the accumulated explained variance rate as a function of the number of components.\n",
        "\n",
        "The following example uses the data set [digits](https://scikit-learn.org/stable/modules/generated/sklearn.datasets.load_digits.html) to illustrate this process ([source](https://jakevdp.github.io/PythonDataScienceHandbook/05.09-principal-component-analysis.html))."
      ]
    },
    {
      "cell_type": "code",
      "metadata": {
        "id": "NWO37P2YOlqW",
        "outputId": "4b0158ee-24a7-44d2-bdb9-bb4d49b61580",
        "colab": {
          "base_uri": "https://localhost:8080/",
          "height": 317
        }
      },
      "source": [
        "from sklearn.datasets import load_digits\n",
        "import matplotlib.pyplot as plt\n",
        "digits = load_digits()\n",
        "digits.data.shape\n",
        "\n",
        "pca = PCA(2)  # project from 64 to 2 dimensions\n",
        "projected = pca.fit_transform(digits.data)\n",
        "print(digits.data.shape)\n",
        "print(projected.shape)\n",
        "\n",
        "plt.scatter(projected[:, 0], projected[:, 1],\n",
        "            c=digits.target, edgecolor='none', alpha=0.5,\n",
        "            cmap=plt.cm.get_cmap('Blues', 10))\n",
        "plt.xlabel('component 1')\n",
        "plt.ylabel('component 2')\n",
        "plt.colorbar();"
      ],
      "execution_count": null,
      "outputs": [
        {
          "output_type": "stream",
          "text": [
            "(1797, 64)\n",
            "(1797, 2)\n"
          ],
          "name": "stdout"
        },
        {
          "output_type": "display_data",
          "data": {
            "image/png": "[encoded data removed]",
            "text/plain": [
              "<Figure size 432x288 with 2 Axes>"
            ]
          },
          "metadata": {
            "tags": []
          }
        }
      ]
    },
    {
      "cell_type": "code",
      "metadata": {
        "id": "sfg765yoPH2k",
        "outputId": "bef0f19e-3ea3-4a49-ff94-91b07c838b1d",
        "colab": {
          "base_uri": "https://localhost:8080/",
          "height": 283
        }
      },
      "source": [
        "pca = PCA().fit(digits.data)\n",
        "plt.plot(np.cumsum(pca.explained_variance_ratio_))\n",
        "plt.xlabel('number of components')\n",
        "plt.ylabel('cumulative explained variance')"
      ],
      "execution_count": null,
      "outputs": [
        {
          "output_type": "display_data",
          "data": {
            "image/png": "[encoded data removed]",
            "text/plain": [
              "<Figure size 432x288 with 1 Axes>"
            ]
          },
          "metadata": {
            "tags": []
          }
        }
      ]
    },
    {
      "cell_type": "markdown",
      "metadata": {
        "id": "d7WoniLnOlVc"
      },
      "source": [
        "Through the graph above, we see that the two-dimensional projection loses a lot of information (measured by the explained variance) and that we need about 20 components to retain around 90% of the variance. Looking at this graph for a large data set can help you understand the level of redundancy present in the data set."
      ]
    },
    {
      "cell_type": "markdown",
      "metadata": {
        "id": "57wHtb9RkLgX"
      },
      "source": [
        "### PCA - practical considerations\n",
        "\n",
        "* At first, we could erroneously consider adding PCA unconditionally to the usual ML task implementation workflow. A more appropriate approach is, before applying PCA, to try the ML algorithm (s) on the original data set. If the results are unsatisfactory, consider applying PCA.\n",
        "\n",
        "* The projection must be constructed using only the training set. After building this mapping, it can be applied to the validation and test sets.\n",
        "\n",
        "* A weakness of the PCA is that it tends to be heavily affected by * outliers *. Therefore, it is worth an exploratory analysis to identify whether there are extreme values ​​in the data set.\n",
        "\n",
        "* The resizing of attributes is important for the correct functioning of the PCA, as shown in the following figure. (See also [Importance of Feature Scaling](https://scikit-learn.org/stable/auto_examples/preprocessing/plot_scaling_importance.html#sphx-glr-auto-examples-preprocessing-plot-scaling-importance-py))\n",
        "\n",
        "![alt text](https://scikit-learn.org/stable/_images/sphx_glr_plot_scaling_importance_001.png)"
      ]
    },
    {
      "cell_type": "markdown",
      "metadata": {
        "id": "B9bffGsU_bjs"
      },
      "source": [
        "### Case study\n",
        "\n",
        "In this section, we investigate a PCA application case study on the Iris data set (4D) to project it on the plane (2D space) defined by the first two principal components, preserving a large part of the data set variance."
      ]
    },
    {
      "cell_type": "markdown",
      "metadata": {
        "id": "YSpK7USuxuCF"
      },
      "source": [
        "Load the data set into a Pandas DataFrame"
      ]
    },
    {
      "cell_type": "code",
      "metadata": {
        "id": "vQtl9TNq_fod"
      },
      "source": [
        "import pandas as pd\n",
        "url = \"https://archive.ics.uci.edu/ml/machine-learning-databases/iris/iris.data\"\n",
        "df = pd.read_csv(url, names=['sepal length','sepal width','petal length','petal width','target'])"
      ],
      "execution_count": null,
      "outputs": []
    },
    {
      "cell_type": "markdown",
      "metadata": {
        "id": "VJolHjig_nL4"
      },
      "source": [
        "Resize the data"
      ]
    },
    {
      "cell_type": "code",
      "metadata": {
        "id": "FSF2VoDv_myo"
      },
      "source": [
        "from sklearn.preprocessing import StandardScaler\n",
        "features = ['sepal length', 'sepal width', 'petal length', 'petal width']\n",
        "\n",
        "# data matrix (only features)\n",
        "X = df.loc[:, features].values\n",
        "\n",
        "# target vector\n",
        "y = df.loc[:,['target']].values\n",
        "\n",
        "# Rescaling the features\n",
        "X = StandardScaler().fit_transform(X)"
      ],
      "execution_count": null,
      "outputs": []
    },
    {
      "cell_type": "markdown",
      "metadata": {
        "id": "5n37QgSp_03v"
      },
      "source": [
        "Invokes PCA to project the dataset to two dimensions"
      ]
    },
    {
      "cell_type": "code",
      "metadata": {
        "id": "PXS0XaqH_3nk"
      },
      "source": [
        "from sklearn.decomposition import PCA\n",
        "pca = PCA(n_components=2)\n",
        "principalComponents = pca.fit_transform(X)\n",
        "principalDf = pd.DataFrame(data = principalComponents\n",
        "             , columns = ['principal component 1', 'principal component 2'])"
      ],
      "execution_count": null,
      "outputs": []
    },
    {
      "cell_type": "markdown",
      "metadata": {
        "id": "MUx7YZW00N2H"
      },
      "source": [
        "Determines the intrinsic dimension of the data"
      ]
    },
    {
      "cell_type": "code",
      "metadata": {
        "id": "CF6MR4Wb0OHn",
        "outputId": "1af5e0bd-e04e-4cba-b7a3-5c928d616eac",
        "colab": {
          "base_uri": "https://localhost:8080/",
          "height": 296
        }
      },
      "source": [
        "import matplotlib.pyplot as plt\n",
        "import numpy as np\n",
        "\n",
        "pca = PCA().fit(X)\n",
        "print(pca.explained_variance_)\n",
        "plt.plot(np.cumsum(pca.explained_variance_ratio_))\n",
        "plt.xlabel('number of components')\n",
        "plt.ylabel('cumulative explained variance');"
      ],
      "execution_count": null,
      "outputs": [
        {
          "output_type": "stream",
          "text": [
            "[2.93035378 0.92740362 0.14834223 0.02074601]\n"
          ],
          "name": "stdout"
        },
        {
          "output_type": "display_data",
          "data": {
            "image/png": "[encoded data removed]",
            "text/plain": [
              "<Figure size 432x288 with 1 Axes>"
            ]
          },
          "metadata": {
            "tags": [],
            "needs_background": "light"
          }
        }
      ]
    },
    {
      "cell_type": "code",
      "metadata": {
        "id": "6TZBS5WqAFMr"
      },
      "source": [
        "finalDf = pd.concat([principalDf, df[['target']]], axis = 1)"
      ],
      "execution_count": null,
      "outputs": []
    },
    {
      "cell_type": "markdown",
      "metadata": {
        "id": "_AvhS-axA8Gh"
      },
      "source": [
        "The next code cell plots the resulting two-dimensional data. Notice in the graph below that the classes appear well separated from each other."
      ]
    },
    {
      "cell_type": "code",
      "metadata": {
        "id": "n1J0bE4kA8-v",
        "outputId": "4a613404-1792-47bf-e5cb-2d191c8b10d2",
        "colab": {
          "base_uri": "https://localhost:8080/",
          "height": 523
        }
      },
      "source": [
        "fig = plt.figure(figsize = (8,8))\n",
        "ax = fig.add_subplot(1,1,1) \n",
        "ax.set_xlabel('Principal Component 1', fontsize = 15)\n",
        "ax.set_ylabel('Principal Component 2', fontsize = 15)\n",
        "ax.set_title('2 component PCA', fontsize = 20)\n",
        "targets = ['Iris-setosa', 'Iris-versicolor', 'Iris-virginica']\n",
        "colors = ['r', 'g', 'b']\n",
        "for target, color in zip(targets,colors):\n",
        "    indicesToKeep = finalDf['target'] == target\n",
        "    ax.scatter(finalDf.loc[indicesToKeep, 'principal component 1']\n",
        "               , finalDf.loc[indicesToKeep, 'principal component 2']\n",
        "               , c = color\n",
        "               , s = 50)\n",
        "ax.legend(targets)\n",
        "ax.grid()"
      ],
      "execution_count": null,
      "outputs": [
        {
          "output_type": "display_data",
          "data": {
            "image/png": "[encoded data removed]",
            "text/plain": [
              "<Figure size 576x576 with 1 Axes>"
            ]
          },
          "metadata": {
            "tags": []
          }
        }
      ]
    },
    {
      "cell_type": "markdown",
      "metadata": {
        "id": "f18H10Z9BNZq"
      },
      "source": [
        "The `explained_variance_ratio_` field of the PCA object tells you how much information (variance) can be attributed to each of the main components. When inspecting the `explained_variance_ratio_` vector, we can see that the first main component contains 72.77% of the variance, and the second main component contains 23.03% of the variance. Together, the two components contain 95.80% of the information."
      ]
    },
    {
      "cell_type": "code",
      "metadata": {
        "id": "uM328auqBUje",
        "outputId": "df1a2ad5-55d5-4083-acea-73fcf0df99b3",
        "colab": {
          "base_uri": "https://localhost:8080/",
          "height": 34
        }
      },
      "source": [
        "pca.explained_variance_ratio_"
      ],
      "execution_count": null,
      "outputs": [
        {
          "output_type": "execute_result",
          "data": {
            "text/plain": [
              "array([0.72770452, 0.23030523])"
            ]
          },
          "metadata": {
            "tags": []
          },
          "execution_count": 40
        }
      ]
    },
    {
      "cell_type": "markdown",
      "metadata": {
        "id": "SrUIFtJwC3Vy"
      },
      "source": [
        "You can find out how many components PCA chooses after adjusting the model using the `pca.n_components_` field."
      ]
    },
    {
      "cell_type": "code",
      "metadata": {
        "id": "rHRWfqN3DEfd",
        "outputId": "f0eee45e-c72a-4dac-bd93-7b14dc8cbe25",
        "colab": {
          "base_uri": "https://localhost:8080/",
          "height": 34
        }
      },
      "source": [
        "pca.n_components_"
      ],
      "execution_count": null,
      "outputs": [
        {
          "output_type": "execute_result",
          "data": {
            "text/plain": [
              "2"
            ]
          },
          "metadata": {
            "tags": []
          },
          "execution_count": 41
        }
      ]
    },
    {
      "cell_type": "markdown",
      "metadata": {
        "id": "2q-e_0I5SWQ1"
      },
      "source": [
        "### Variants of PCA\n",
        "\n",
        "Some variants of PCA have been developed. Scikit-Learn contains some implementations of these variants, including the following:\n",
        "\n",
        "* `IncrementalPCA`. One problem with the classic PCA implementation is that it requires the entire training set to fit in memory for the SVD algorithm to run. The IncrementalPCA implementation can divide the training set into mini-batches and feed the decomposition procedure one mini-batch at a time. This is useful for large training sets.\n",
        "\n",
        "* `RandomizedPCA`. This implementation uses a non-deterministic method to quickly approximate the first few major components in very large data. `RandomizedPCA` implements a stochastic algorithm that quickly finds an approximation of the first $k$ main components. Its computational complexity is $O(m \\times k^2) + O(k^3)$. In comparison to the $O(m \\times n^2) + O(n^3)$ complexity of the original version, this stochastic version is significantly faster when $k$ is much less than $n$."
      ]
    },
    {
      "cell_type": "markdown",
      "metadata": {
        "id": "6dzkyoh0YdtM"
      },
      "source": [
        "The following code divides the MNIST data set into 100 mini-batches (using NumPy's `array_split()` function) and supplies them to the IncrementalPCA class to reduce the dimensionality of the MNIST data set to 154 dimensions. Note that you must call the `partial_fit()` method with each mini-batch instead of the `fit()` method with the entire training set."
      ]
    },
    {
      "cell_type": "code",
      "metadata": {
        "id": "xxU5Ty6zYdVA",
        "outputId": "f778a64e-04c4-4457-cafc-47c1f6c9a02a",
        "colab": {
          "base_uri": "https://localhost:8080/",
          "height": 51
        }
      },
      "source": [
        "from sklearn.decomposition import IncrementalPCA\n",
        "from sklearn.datasets import fetch_openml\n",
        "\n",
        "# Load data from https://www.openml.org/d/554\n",
        "X_mnist, y_mnist = fetch_openml('mnist_784', version=1, return_X_y=True)\n",
        "\n",
        "print(X_mnist.data.shape)\n",
        "\n",
        "n_batches = 100\n",
        "inc_pca = IncrementalPCA(n_components=154)\n",
        "for X_batch in np.array_split(X_mnist, n_batches):\n",
        "        inc_pca.partial_fit(X_batch)\n",
        "X_mnist_reduced = inc_pca.transform(X_mnist)\n",
        "\n",
        "print(X_mnist_reduced.shape)"
      ],
      "execution_count": null,
      "outputs": [
        {
          "output_type": "stream",
          "text": [
            "(70000, 784)\n",
            "(70000, 154)\n"
          ],
          "name": "stdout"
        }
      ]
    },
    {
      "cell_type": "markdown",
      "metadata": {
        "id": "ILsJh5CEexPi"
      },
      "source": [
        "The following example illustrates the use of the class `RandomizedPCA`."
      ]
    },
    {
      "cell_type": "code",
      "metadata": {
        "id": "ZnWewI_Vewn9"
      },
      "source": [
        "rnd_pca = PCA(n_components=154, svd_solver=\"randomized\")\n",
        "X_reduced = rnd_pca.fit_transform(X_mnist)\n",
        "print(X_mnist_reduced.shape)"
      ],
      "execution_count": null,
      "outputs": []
    },
    {
      "cell_type": "markdown",
      "metadata": {
        "id": "FhQWEli1cR9G"
      },
      "source": [
        "# Seleção de Atributos"
      ]
    },
    {
      "cell_type": "markdown",
      "metadata": {
        "id": "shtyhtQycbMs"
      },
      "source": [
        "## Seleção baseada em variância\n",
        "\n",
        "No Scikit-Learn, a classe [`VarianceThreshold`](https://scikit-learn.org/stable/modules/generated/sklearn.feature_selection.VarianceThreshold.html) implementa um procedimento simples para a seleção de atributos. Essa estratégia remove todos os atributos cuja variância não atinge algum limite fornecido. Por padrão, esse procedimento remove todos os atributos cuja variância é zero."
      ]
    },
    {
      "cell_type": "markdown",
      "metadata": {
        "id": "NVbSswAccNiK"
      },
      "source": [
        "A célula a seguir (adaptada deste [exemplo](https://)) ilustra um dataset com três atributos binários. O código descarta os atributos que possuem mais de 80% de zeros (ou de uns). Repare que o primeiro atributo é descartado, visto que há uma probabilidade igual a $5/6$ (maior do que $0.8$) de encontrar um zero.\n",
        "\n",
        "N.B.: a variância de uma variável aleatória de Bernoulli $X$ cuja probabilidade de sucesso é $p$ é dada por $\\operatorname {Var} [X]=p(1-p)$.\n"
      ]
    },
    {
      "cell_type": "code",
      "metadata": {
        "id": "IwUzaRNRcVj9",
        "outputId": "83455805-e5af-467f-822e-597a1569446b",
        "colab": {
          "base_uri": "https://localhost:8080/",
          "height": 235
        }
      },
      "source": [
        "from sklearn.feature_selection import VarianceThreshold\n",
        "import numpy as np\n",
        "\n",
        "X = [[0, 0, 1], [0, 1, 0], [1, 0, 0], [0, 1, 1], [0, 1, 0], [0, 1, 1]]\n",
        "\n",
        "print(np.asarray(X))\n",
        "\n",
        "sel = VarianceThreshold(threshold=(.8 * (1 - .8)))\n",
        "sel.fit_transform(X)"
      ],
      "execution_count": null,
      "outputs": [
        {
          "output_type": "stream",
          "text": [
            "[[0 0 1]\n",
            " [0 1 0]\n",
            " [1 0 0]\n",
            " [0 1 1]\n",
            " [0 1 0]\n",
            " [0 1 1]]\n"
          ],
          "name": "stdout"
        },
        {
          "output_type": "execute_result",
          "data": {
            "text/plain": [
              "array([[0, 1],\n",
              "       [1, 0],\n",
              "       [0, 0],\n",
              "       [1, 1],\n",
              "       [1, 0],\n",
              "       [1, 1]])"
            ]
          },
          "metadata": {
            "tags": []
          },
          "execution_count": 4
        }
      ]
    },
    {
      "cell_type": "markdown",
      "metadata": {
        "id": "5MTdmHG9eFwh"
      },
      "source": [
        "## Seleção de atributos univariada\n",
        "\n",
        "A seleção de atributos univariada é útil para seleção de atributos no contexto da tarefa de **classificação**. Essa estratégia seleciona os melhores atributos com base em algum teste estatístico capaz de medir a dependência entre duas variáveis. \n",
        "\n",
        "O Scikit-learn expõe rotinas de seleção de atributos como classes que implementam o método de transformação `fit_transform`. Esse método recebe como argumentos a matrix de dados $X$ e a matriz alvo $y$.\n",
        "\n",
        "Uma dessas rotinas é fornecida pela classe `SelectKBest`. Essa classe pode ser configurada com um dentre um conjunto de testes estatísticos diferentes para selecionar um número específico de atributos. Um dos parâmetros a ser passado é uma função de pontuação, que deve ser aplicável a um par (𝑋, 𝑦). O resultado é uma matriz de pontuações, com uma pontuação para cada atributo de 𝑋. O objeto `SelectKBest` então simplesmente mantém os primeiros $k$ atributos de 𝑋 com as pontuações mais altas.\n",
        "\n",
        "Se, por exemplo, for passada `chi2` como função de pontuação, `SelectKBest` irá calcular a estatística `chi2` entre cada atributo de 𝑋 e o atributo alvo 𝑦 (presumindo que este último contém os rótulos da classe). Um valor pequeno significará que o atributo é independente de 𝑦. Um valor grande significará que o atributo não está relacionado aleatoriamente a 𝑦 e, portanto, provavelmente fornecerá informações importantes para o estimador. Apenas os 𝑘 atributos de maior pontuação são mantidos.\n",
        "\n",
        "O exemplo abaixo ilustra o uso de `SelectKBest` com o teste estatístico qui quadrado ($\\chi^2$) para selecionar os melhores 4 atributos do conjunto de dados de original."
      ]
    },
    {
      "cell_type": "code",
      "metadata": {
        "id": "bY8uWUhsnMye",
        "outputId": "a99af585-9cc5-4954-d042-23920a71eb54",
        "colab": {
          "base_uri": "https://localhost:8080/",
          "height": 54
        }
      },
      "source": [
        "from sklearn.datasets import load_iris\n",
        "from sklearn.feature_selection import SelectKBest\n",
        "from sklearn.feature_selection import chi2\n",
        "iris = load_iris()\n",
        "X, y = iris.data, iris.target\n",
        "print(X.shape)\n",
        "\n",
        "X_new = SelectKBest(chi2, k=2).fit_transform(X, y)\n",
        "print(X_new.shape)"
      ],
      "execution_count": null,
      "outputs": [
        {
          "output_type": "stream",
          "text": [
            "(150, 4)\n",
            "(150, 2)\n"
          ],
          "name": "stdout"
        }
      ]
    },
    {
      "cell_type": "markdown",
      "metadata": {
        "id": "qQvR-wHf3fol"
      },
      "source": [
        "### Seleção por informação mútua\n",
        "\n",
        "A [informação mútua](https://en.wikipedia.org/wiki/Mutual_information) (mutual information, MI) entre duas variáveis aleatórias é um valor não negativo, que mede a dependência entre as variáveis. É igual a zero se e somente se duas variáveis aleatórias forem independentes. Quanto maior o valor de MI, maior a dependência estatística entre as variáveis. \n",
        "\n",
        "Formalmente,  dadas duas variáveis aleatórias $X$ e $Y$, a MI mede o quão diferente a distribuição conjunta do par ${\\displaystyle (X, Y)}$ é do produto de distribuições marginais de ${\\displaystyle X}$ e ${\\displaystyle Y}$.\n",
        "\n",
        "Intuitivamente, MI mede o quanto o conhecimento de uma dessas variáveis reduz a incerteza sobre a outra. Por exemplo, se ${\\displaystyle X}$ e ${\\displaystyle Y}$ forem independentes, saber ${\\displaystyle X}$ não fornecerá informações sobre ${\\displaystyle Y}$ e vice-versa. Portanto, a informação mútua neste caso é zero. No outro extremo, se ${\\displaystyle X}$ é uma função determinística de ${\\displaystyle Y}$ e ${\\displaystyle Y}$ é uma função determinística de ${\\displaystyle X}$, então toda a informação transmitida por ${\\displaystyle X }$ é compartilhada com ${\\displaystyle Y}$: conhecer ${\\displaystyle X}$ determina o valor de ${\\displaystyle Y}$ e vice-versa.\n",
        "\n",
        "A MI não está limitada a variáveis aleatórias de valor real e nem a dependências lineares (como acontece no caso do coeficiente de correlação).\n",
        "\n",
        "No Scikit-Learn, a função [sklearn.feature_selection.mutual_info_classif](https://scikit-learn.org/stable/modules/generated/sklearn.feature_selection.mutual_info_classif.html) permite estimar a *informação mútua* entre cada atributo previsor e um atributo alvo discreto.\n"
      ]
    },
    {
      "cell_type": "code",
      "metadata": {
        "id": "AjKOPFEcnz2n",
        "outputId": "cd085057-dffd-43e4-ed9b-1d63864b0732",
        "colab": {
          "base_uri": "https://localhost:8080/",
          "height": 35
        }
      },
      "source": [
        "import numpy as np\n",
        "from sklearn.feature_selection import mutual_info_classif\n",
        "X = np.array([[0, 0, 0, 1],\n",
        "              [1, 1, 0, 2],\n",
        "              [2, 0, 1, 3],\n",
        "              [2, 0, 1, 3],\n",
        "              [1, 0, 1, 2]])\n",
        "y = np.array([0, 1, 2, 2, 1])\n",
        "mutual_info_classif(X, y, discrete_features=True)"
      ],
      "execution_count": null,
      "outputs": [
        {
          "output_type": "execute_result",
          "data": {
            "text/plain": [
              "array([1.05492017, 0.22314355, 0.39575279, 1.05492017])"
            ]
          },
          "metadata": {
            "tags": []
          },
          "execution_count": 15
        }
      ]
    },
    {
      "cell_type": "code",
      "metadata": {
        "id": "H_8APMn7MO8A",
        "outputId": "9c17fd4b-cd6d-4594-86d4-9981431e65d4",
        "colab": {
          "base_uri": "https://localhost:8080/",
          "height": 35
        }
      },
      "source": [
        "print(X[:,0])"
      ],
      "execution_count": null,
      "outputs": [
        {
          "output_type": "stream",
          "text": [
            "[0 1 2 2 1]\n"
          ],
          "name": "stdout"
        }
      ]
    },
    {
      "cell_type": "markdown",
      "metadata": {
        "id": "URCWiPDaV245"
      },
      "source": [
        "As duas células a seguir ilustram de que forma a computação da MI pode ser implementada. Para entendimento deste código, vale a leitura do link a seguir: https://en.wikipedia.org/wiki/G-test#Relation_to_mutual_information."
      ]
    },
    {
      "cell_type": "code",
      "metadata": {
        "id": "PCZJMZ0wNY_8",
        "outputId": "8d0753a2-20af-4a14-d1c0-d4f1534d2529",
        "colab": {
          "base_uri": "https://localhost:8080/",
          "height": 69
        }
      },
      "source": [
        "import numpy as np\n",
        "x = np.array([1, 2, 0, 0, 2])\n",
        "y = np.array([0, 1, 2, 2, 1])\n",
        "bins = 3\n",
        "c_xy = np.histogram2d(x, y, bins)[0]\n",
        "print(c_xy)"
      ],
      "execution_count": null,
      "outputs": [
        {
          "output_type": "stream",
          "text": [
            "[[0. 0. 2.]\n",
            " [1. 0. 0.]\n",
            " [0. 2. 0.]]\n"
          ],
          "name": "stdout"
        }
      ]
    },
    {
      "cell_type": "code",
      "metadata": {
        "id": "wYOVhIRYMGPF",
        "outputId": "2470e081-acee-478c-d0ea-aad0b6885074",
        "colab": {
          "base_uri": "https://localhost:8080/",
          "height": 35
        }
      },
      "source": [
        "from scipy.stats import chi2_contingency\n",
        "\n",
        "def calc_MI(x, y, bins):\n",
        "    c_xy = np.histogram2d(x, y, bins)[0]\n",
        "    g, p, dof, expected = chi2_contingency(c_xy, lambda_=\"log-likelihood\")\n",
        "    mi = 0.5 * g / c_xy.sum()\n",
        "    return mi\n",
        "calc_MI(X[:,0], y, 3)"
      ],
      "execution_count": null,
      "outputs": [
        {
          "output_type": "execute_result",
          "data": {
            "text/plain": [
              "1.0549201679861442"
            ]
          },
          "metadata": {
            "tags": []
          },
          "execution_count": 33
        }
      ]
    },
    {
      "cell_type": "markdown",
      "metadata": {
        "id": "EDa23lhhK7Wt"
      },
      "source": [
        "A classe `SelectPercentile` funciona de forma similar. Essa classe também deve ser configurada com uma função de pontuação. Entretanto, em vez de passar a *quantidade* de atributos que devem permanecer, passamos a *porcentagem* de atributos que devem permanecer (relativamente à quantidade total de atributos em $X$).\n",
        "\n",
        "No exemplo a seguir, $X$ contém 64 atributos. Após a seleção (repare o uso do parâmetro `percentile` para definir que 10% dos atributos devem ser retidos), o conjunto de dados contém apenas 7 atributos."
      ]
    },
    {
      "cell_type": "code",
      "metadata": {
        "id": "5gYDonlDntbW",
        "outputId": "2f30746d-e2da-4fed-95ec-aa58892e5768",
        "colab": {
          "base_uri": "https://localhost:8080/",
          "height": 52
        }
      },
      "source": [
        "from sklearn.datasets import load_digits\n",
        "from sklearn.feature_selection import SelectPercentile, chi2\n",
        "X, y = load_digits(return_X_y=True)\n",
        "print('Antes da seleção:', X.shape)\n",
        "\n",
        "X_new = SelectPercentile(chi2, percentile=10).fit_transform(X, y)\n",
        "print('Depois da seleção:', X_new.shape)"
      ],
      "execution_count": null,
      "outputs": [
        {
          "output_type": "stream",
          "text": [
            "Antes da seleção: (1797, 64)\n",
            "Depois da seleção: (1797, 7)\n"
          ],
          "name": "stdout"
        }
      ]
    },
    {
      "cell_type": "markdown",
      "metadata": {
        "id": "fNbo0k_U-PhC"
      },
      "source": [
        "## Recursive Feature Elimination"
      ]
    },
    {
      "cell_type": "markdown",
      "metadata": {
        "id": "siUCyJmRMxOt"
      },
      "source": [
        "A estratégia *Recursive Feature Elimination*, implementada na classe [sklearn.feature_selection.RFE](https://scikit-learn.org/stable/modules/generated/sklearn.feature_selection.RFE.html) utiliza algum algoritmo de ML que gere modelos preditivos (classificador ou regressor) para selecionar atributos. Essa estratégia é útil em tarefas de classificação ou de regressão, nas quais há um conjunto de atributos previsores e um atributo alvo. A RFE permite selecionar os atributos previsores mais relevantes para predizer o atributo alvo.\n",
        "\n",
        "O RFE ajusta um modelo preditivo (classificador ou regressor) a diferentes combinações de atributos. Para cada combinação, ele usa a acurácia do modelo ajustado para identificar quais atributos contribuem mais para prever o atributo alvo. Sendo assim, uma pressuposição para aplicar o RFE é que o algoritmo usado para ajuste do modelo a um conjunto de dados $X$ produz um peso (i.e., um indicador numérido de importância) para cada atributo em $X$. \n",
        "\n",
        "Inicialmente, o algoritmo de ML é aplicado ao conjunto de dados original $X$. Em seguida, o atributo menos relevante (de acordo com os coeficientes retornados pelo modelo ajustado) é removido de $X$, o que resulta em um novo conjunto de dados $X^\\prime$. Um novo modelo é então ajustado sobre novo conjunto de dados $X^\\prime$, para gerar uma nova lista de coeficientes de importância. Esse procedimento é realizado recursivamente, até que a quantidade de atributos desejada seja alcançada.\n",
        "\n",
        "A classe `RFE` possui dois atributos, `support_` e `ranking_`, vetores (do tipo *numpy array*) que podem ser consultados para analisar o resultado da seleção de atributos."
      ]
    },
    {
      "cell_type": "markdown",
      "metadata": {
        "id": "0NdiBH9lu9q5"
      },
      "source": [
        "No código de exemplo abaixo, o conjunto de dados Iris é usado para ilustrar o uso de RFE. O conjunto de dados Iris tem 4 atributos previsores, todos medidos em cm:\n",
        "* comprimento da sépala, \n",
        "* largura da sépala, \n",
        "* comprimento da pétala, \n",
        "* largura da pétala. \n",
        "\n",
        "No exemplo  abaixo, o vetor `ranking_` resultante é `[2 1 1 1]`, o que significa que a largura da sépala, o comprimento da pétala e a largura da pétala são todos mais importantes do que o comprimento da sépala."
      ]
    },
    {
      "cell_type": "code",
      "metadata": {
        "id": "IMvpWDdKu9Sq",
        "outputId": "15f6dbcf-1444-4131-e76f-e2f158ebac98",
        "colab": {
          "base_uri": "https://localhost:8080/",
          "height": 141
        }
      },
      "source": [
        "from sklearn.svm import LinearSVC\n",
        "from sklearn.feature_selection import RFE\n",
        "from sklearn import datasets\n",
        "\n",
        "dataset = datasets.load_iris()\n",
        "\n",
        "svm = LinearSVC()\n",
        "\n",
        "# create the RFE model for the svm classifier \n",
        "# and select attributes\n",
        "rfe = RFE(svm, n_features_to_select=3)\n",
        "rfe = rfe.fit(dataset.data, dataset.target)\n",
        "\n",
        "#\n",
        "# imprime sumários relativos aos atributos selecionados\n",
        "#\n",
        "\n",
        "# um array com valores booleanos para indicar os atributos selecionados\n",
        "print(rfe.support_)\n",
        "\n",
        "# um array de inteiros positivos para indicar o ranking de atributos\n",
        "# (pontuação mais baixa indica um ranking mais alto) \n",
        "print(rfe.ranking_)"
      ],
      "execution_count": null,
      "outputs": [
        {
          "output_type": "stream",
          "text": [
            "[False  True  True  True]\n",
            "[2 1 1 1]\n"
          ],
          "name": "stdout"
        },
        {
          "output_type": "stream",
          "text": [
            "/usr/local/lib/python3.6/dist-packages/sklearn/svm/_base.py:947: ConvergenceWarning: Liblinear failed to converge, increase the number of iterations.\n",
            "  \"the number of iterations.\", ConvergenceWarning)\n",
            "/usr/local/lib/python3.6/dist-packages/sklearn/svm/_base.py:947: ConvergenceWarning: Liblinear failed to converge, increase the number of iterations.\n",
            "  \"the number of iterations.\", ConvergenceWarning)\n"
          ],
          "name": "stderr"
        }
      ]
    },
    {
      "cell_type": "code",
      "metadata": {
        "id": "LOWAL7edWppm",
        "outputId": "76c568fb-23ec-47c6-9c22-494e866f888e",
        "colab": {
          "base_uri": "https://localhost:8080/",
          "height": 51
        }
      },
      "source": [
        "from sklearn.datasets import make_friedman1\n",
        "from sklearn.feature_selection import RFE\n",
        "from sklearn.svm import SVR\n",
        "X, y = make_friedman1(n_samples=50, n_features=10, random_state=0)\n",
        "estimator = SVR(kernel=\"linear\")\n",
        "selector = RFE(estimator, n_features_to_select=5, step=1)\n",
        "selector = selector.fit(X, y)\n",
        "\n",
        "print(selector.support_)\n",
        "\n",
        "\n",
        "print(selector.ranking_)\n"
      ],
      "execution_count": null,
      "outputs": [
        {
          "output_type": "stream",
          "text": [
            "[ True  True  True  True  True False False False False False]\n",
            "[1 1 1 1 1 6 4 3 2 5]\n"
          ],
          "name": "stdout"
        }
      ]
    },
    {
      "cell_type": "markdown",
      "metadata": {
        "id": "02P-FOvo8cXn"
      },
      "source": [
        "Outra classe do scikit-learn fornecida para seleção de atributos é [`RFECV`](https://scikit-learn.org/stable/modules/generated/sklearn.feature_selection.RFECV.html).  Essa é uma sublcasse de RFE.\n",
        "\n",
        "Uma desvantagem da classe RFE é que a quantidade de atributos a selecionar deve ser fornecida por meio do parâmetro `n_features_to_select`. A classe RFECV ajuda a ajustar (i.e., determinar) o valor desse parâmetro usando validação cruzada. Para cada etapa em que o número de atributos definido em `steps` é eliminado, a RFECV calcula a acurácia em um conjunto de dados de validação. A combinação de atributos que fornece a acurácia máxima nos dados de validação é retornada."
      ]
    },
    {
      "cell_type": "code",
      "metadata": {
        "id": "dOeW9i6AMw5S",
        "outputId": "08840ff4-421b-4967-c718-f27fa5d5d1bd",
        "colab": {
          "base_uri": "https://localhost:8080/",
          "height": 34
        }
      },
      "source": [
        "from sklearn.feature_selection import RFECV\n",
        "regression = SVR(kernel=\"linear\")\n",
        "selector = RFECV(estimator=regression, cv=10)\n",
        "selector.fit(X, y)\n",
        "print(\"Quantidade ótima de atributos: %d\" % selector.n_features_)"
      ],
      "execution_count": null,
      "outputs": [
        {
          "output_type": "stream",
          "text": [
            "Quantidade ótima de atributos: 5\n"
          ],
          "name": "stdout"
        }
      ]
    },
    {
      "cell_type": "code",
      "metadata": {
        "id": "ic-3i1S_N6wU",
        "outputId": "eb301f5b-b131-4853-d778-5b4a0bf754ca",
        "colab": {
          "base_uri": "https://localhost:8080/",
          "height": 34
        }
      },
      "source": [
        "from sklearn.datasets import make_friedman1\n",
        "from sklearn.feature_selection import RFECV\n",
        "from sklearn.svm import SVR\n",
        "X, y = make_friedman1(n_samples=50, n_features=10, random_state=0)\n",
        "estimator = SVR(kernel=\"linear\")\n",
        "selector = RFECV(estimator, step=1, cv=5)\n",
        "selector = selector.fit(X, y)\n",
        "selector.support_ \n",
        "\n",
        "\n",
        "selector.ranking_"
      ],
      "execution_count": null,
      "outputs": [
        {
          "output_type": "execute_result",
          "data": {
            "text/plain": [
              "array([1, 1, 1, 1, 1, 6, 4, 3, 2, 5])"
            ]
          },
          "metadata": {
            "tags": []
          },
          "execution_count": 11
        }
      ]
    },
    {
      "cell_type": "code",
      "metadata": {
        "id": "WEs52zrzTKi4",
        "outputId": "7d55f893-41d6-418e-daef-113f033f319a",
        "colab": {
          "base_uri": "https://localhost:8080/",
          "height": 334
        }
      },
      "source": [
        "# https://scikit-learn.org/stable/auto_examples/feature_selection/plot_rfe_with_cross_validation.html#sphx-glr-auto-examples-feature-selection-plot-rfe-with-cross-validation-py\n",
        "\n",
        "print(__doc__)\n",
        "\n",
        "import matplotlib.pyplot as plt\n",
        "from sklearn.svm import SVC\n",
        "from sklearn.model_selection import StratifiedKFold\n",
        "from sklearn.feature_selection import RFECV\n",
        "from sklearn.datasets import make_classification\n",
        "\n",
        "# Build a classification task using 3 informative features\n",
        "X, y = make_classification(n_samples=1000, n_features=25, n_informative=3,\n",
        "                           n_redundant=2, n_repeated=0, n_classes=8,\n",
        "                           n_clusters_per_class=1, random_state=0)\n",
        "\n",
        "# Create the RFE object and compute a cross-validated score.\n",
        "svc = SVC(kernel=\"linear\")\n",
        "# The \"accuracy\" scoring is proportional to the number of correct\n",
        "# classifications\n",
        "rfecv = RFECV(estimator=svc, step=1, cv=StratifiedKFold(2),\n",
        "              scoring='accuracy')\n",
        "rfecv.fit(X, y)\n",
        "\n",
        "print(\"Optimal number of features : %d\" % rfecv.n_features_)\n",
        "\n",
        "# Plot number of features VS. cross-validation scores\n",
        "plt.figure()\n",
        "plt.xlabel(\"Number of features selected\")\n",
        "plt.ylabel(\"Cross validation score (nb of correct classifications)\")\n",
        "plt.plot(range(1, len(rfecv.grid_scores_) + 1), rfecv.grid_scores_)\n",
        "plt.show()"
      ],
      "execution_count": null,
      "outputs": [
        {
          "output_type": "stream",
          "text": [
            "Automatically created module for IPython interactive environment\n",
            "Optimal number of features : 3\n"
          ],
          "name": "stdout"
        },
        {
          "output_type": "display_data",
          "data": {
            "image/png": "[encoded data removed]",
            "text/plain": [
              "<Figure size 432x288 with 1 Axes>"
            ]
          },
          "metadata": {
            "tags": []
          }
        }
      ]
    },
    {
      "cell_type": "code",
      "metadata": {
        "id": "IYn9kA_lm0Km"
      },
      "source": [
        "import pandas as pd\n",
        "data = pd.read_csv('./breast-cancer.csv')"
      ],
      "execution_count": null,
      "outputs": []
    },
    {
      "cell_type": "code",
      "metadata": {
        "id": "ttwhAX4enezj",
        "outputId": "33e070cb-c5f4-422a-f037-1e587abcc2fe",
        "colab": {
          "base_uri": "https://localhost:8080/",
          "height": 241
        }
      },
      "source": [
        "data.head()"
      ],
      "execution_count": null,
      "outputs": [
        {
          "output_type": "execute_result",
          "data": {
            "text/html": [
              "<div>\n",
              "<style scoped>\n",
              "    .dataframe tbody tr th:only-of-type {\n",
              "        vertical-align: middle;\n",
              "    }\n",
              "\n",
              "    .dataframe tbody tr th {\n",
              "        vertical-align: top;\n",
              "    }\n",
              "\n",
              "    .dataframe thead th {\n",
              "        text-align: right;\n",
              "    }\n",
              "</style>\n",
              "<table border=\"1\" class=\"dataframe\">\n",
              "  <thead>\n",
              "    <tr style=\"text-align: right;\">\n",
              "      <th></th>\n",
              "      <th>id</th>\n",
              "      <th>diagnosis</th>\n",
              "      <th>radius_mean</th>\n",
              "      <th>texture_mean</th>\n",
              "      <th>perimeter_mean</th>\n",
              "      <th>area_mean</th>\n",
              "      <th>smoothness_mean</th>\n",
              "      <th>compactness_mean</th>\n",
              "      <th>concavity_mean</th>\n",
              "      <th>concave points_mean</th>\n",
              "      <th>symmetry_mean</th>\n",
              "      <th>fractal_dimension_mean</th>\n",
              "      <th>radius_se</th>\n",
              "      <th>texture_se</th>\n",
              "      <th>perimeter_se</th>\n",
              "      <th>area_se</th>\n",
              "      <th>smoothness_se</th>\n",
              "      <th>compactness_se</th>\n",
              "      <th>concavity_se</th>\n",
              "      <th>concave points_se</th>\n",
              "      <th>symmetry_se</th>\n",
              "      <th>fractal_dimension_se</th>\n",
              "      <th>radius_worst</th>\n",
              "      <th>texture_worst</th>\n",
              "      <th>perimeter_worst</th>\n",
              "      <th>area_worst</th>\n",
              "      <th>smoothness_worst</th>\n",
              "      <th>compactness_worst</th>\n",
              "      <th>concavity_worst</th>\n",
              "      <th>concave points_worst</th>\n",
              "      <th>symmetry_worst</th>\n",
              "      <th>fractal_dimension_worst</th>\n",
              "      <th>Unnamed: 32</th>\n",
              "    </tr>\n",
              "  </thead>\n",
              "  <tbody>\n",
              "    <tr>\n",
              "      <th>0</th>\n",
              "      <td>842302</td>\n",
              "      <td>M</td>\n",
              "      <td>17.99</td>\n",
              "      <td>10.38</td>\n",
              "      <td>122.80</td>\n",
              "      <td>1001.0</td>\n",
              "      <td>0.11840</td>\n",
              "      <td>0.27760</td>\n",
              "      <td>0.3001</td>\n",
              "      <td>0.14710</td>\n",
              "      <td>0.2419</td>\n",
              "      <td>0.07871</td>\n",
              "      <td>1.0950</td>\n",
              "      <td>0.9053</td>\n",
              "      <td>8.589</td>\n",
              "      <td>153.40</td>\n",
              "      <td>0.006399</td>\n",
              "      <td>0.04904</td>\n",
              "      <td>0.05373</td>\n",
              "      <td>0.01587</td>\n",
              "      <td>0.03003</td>\n",
              "      <td>0.006193</td>\n",
              "      <td>25.38</td>\n",
              "      <td>17.33</td>\n",
              "      <td>184.60</td>\n",
              "      <td>2019.0</td>\n",
              "      <td>0.1622</td>\n",
              "      <td>0.6656</td>\n",
              "      <td>0.7119</td>\n",
              "      <td>0.2654</td>\n",
              "      <td>0.4601</td>\n",
              "      <td>0.11890</td>\n",
              "      <td>NaN</td>\n",
              "    </tr>\n",
              "    <tr>\n",
              "      <th>1</th>\n",
              "      <td>842517</td>\n",
              "      <td>M</td>\n",
              "      <td>20.57</td>\n",
              "      <td>17.77</td>\n",
              "      <td>132.90</td>\n",
              "      <td>1326.0</td>\n",
              "      <td>0.08474</td>\n",
              "      <td>0.07864</td>\n",
              "      <td>0.0869</td>\n",
              "      <td>0.07017</td>\n",
              "      <td>0.1812</td>\n",
              "      <td>0.05667</td>\n",
              "      <td>0.5435</td>\n",
              "      <td>0.7339</td>\n",
              "      <td>3.398</td>\n",
              "      <td>74.08</td>\n",
              "      <td>0.005225</td>\n",
              "      <td>0.01308</td>\n",
              "      <td>0.01860</td>\n",
              "      <td>0.01340</td>\n",
              "      <td>0.01389</td>\n",
              "      <td>0.003532</td>\n",
              "      <td>24.99</td>\n",
              "      <td>23.41</td>\n",
              "      <td>158.80</td>\n",
              "      <td>1956.0</td>\n",
              "      <td>0.1238</td>\n",
              "      <td>0.1866</td>\n",
              "      <td>0.2416</td>\n",
              "      <td>0.1860</td>\n",
              "      <td>0.2750</td>\n",
              "      <td>0.08902</td>\n",
              "      <td>NaN</td>\n",
              "    </tr>\n",
              "    <tr>\n",
              "      <th>2</th>\n",
              "      <td>84300903</td>\n",
              "      <td>M</td>\n",
              "      <td>19.69</td>\n",
              "      <td>21.25</td>\n",
              "      <td>130.00</td>\n",
              "      <td>1203.0</td>\n",
              "      <td>0.10960</td>\n",
              "      <td>0.15990</td>\n",
              "      <td>0.1974</td>\n",
              "      <td>0.12790</td>\n",
              "      <td>0.2069</td>\n",
              "      <td>0.05999</td>\n",
              "      <td>0.7456</td>\n",
              "      <td>0.7869</td>\n",
              "      <td>4.585</td>\n",
              "      <td>94.03</td>\n",
              "      <td>0.006150</td>\n",
              "      <td>0.04006</td>\n",
              "      <td>0.03832</td>\n",
              "      <td>0.02058</td>\n",
              "      <td>0.02250</td>\n",
              "      <td>0.004571</td>\n",
              "      <td>23.57</td>\n",
              "      <td>25.53</td>\n",
              "      <td>152.50</td>\n",
              "      <td>1709.0</td>\n",
              "      <td>0.1444</td>\n",
              "      <td>0.4245</td>\n",
              "      <td>0.4504</td>\n",
              "      <td>0.2430</td>\n",
              "      <td>0.3613</td>\n",
              "      <td>0.08758</td>\n",
              "      <td>NaN</td>\n",
              "    </tr>\n",
              "    <tr>\n",
              "      <th>3</th>\n",
              "      <td>84348301</td>\n",
              "      <td>M</td>\n",
              "      <td>11.42</td>\n",
              "      <td>20.38</td>\n",
              "      <td>77.58</td>\n",
              "      <td>386.1</td>\n",
              "      <td>0.14250</td>\n",
              "      <td>0.28390</td>\n",
              "      <td>0.2414</td>\n",
              "      <td>0.10520</td>\n",
              "      <td>0.2597</td>\n",
              "      <td>0.09744</td>\n",
              "      <td>0.4956</td>\n",
              "      <td>1.1560</td>\n",
              "      <td>3.445</td>\n",
              "      <td>27.23</td>\n",
              "      <td>0.009110</td>\n",
              "      <td>0.07458</td>\n",
              "      <td>0.05661</td>\n",
              "      <td>0.01867</td>\n",
              "      <td>0.05963</td>\n",
              "      <td>0.009208</td>\n",
              "      <td>14.91</td>\n",
              "      <td>26.50</td>\n",
              "      <td>98.87</td>\n",
              "      <td>567.7</td>\n",
              "      <td>0.2098</td>\n",
              "      <td>0.8663</td>\n",
              "      <td>0.6869</td>\n",
              "      <td>0.2575</td>\n",
              "      <td>0.6638</td>\n",
              "      <td>0.17300</td>\n",
              "      <td>NaN</td>\n",
              "    </tr>\n",
              "    <tr>\n",
              "      <th>4</th>\n",
              "      <td>84358402</td>\n",
              "      <td>M</td>\n",
              "      <td>20.29</td>\n",
              "      <td>14.34</td>\n",
              "      <td>135.10</td>\n",
              "      <td>1297.0</td>\n",
              "      <td>0.10030</td>\n",
              "      <td>0.13280</td>\n",
              "      <td>0.1980</td>\n",
              "      <td>0.10430</td>\n",
              "      <td>0.1809</td>\n",
              "      <td>0.05883</td>\n",
              "      <td>0.7572</td>\n",
              "      <td>0.7813</td>\n",
              "      <td>5.438</td>\n",
              "      <td>94.44</td>\n",
              "      <td>0.011490</td>\n",
              "      <td>0.02461</td>\n",
              "      <td>0.05688</td>\n",
              "      <td>0.01885</td>\n",
              "      <td>0.01756</td>\n",
              "      <td>0.005115</td>\n",
              "      <td>22.54</td>\n",
              "      <td>16.67</td>\n",
              "      <td>152.20</td>\n",
              "      <td>1575.0</td>\n",
              "      <td>0.1374</td>\n",
              "      <td>0.2050</td>\n",
              "      <td>0.4000</td>\n",
              "      <td>0.1625</td>\n",
              "      <td>0.2364</td>\n",
              "      <td>0.07678</td>\n",
              "      <td>NaN</td>\n",
              "    </tr>\n",
              "  </tbody>\n",
              "</table>\n",
              "</div>"
            ],
            "text/plain": [
              "         id diagnosis  ...  fractal_dimension_worst  Unnamed: 32\n",
              "0    842302         M  ...                  0.11890          NaN\n",
              "1    842517         M  ...                  0.08902          NaN\n",
              "2  84300903         M  ...                  0.08758          NaN\n",
              "3  84348301         M  ...                  0.17300          NaN\n",
              "4  84358402         M  ...                  0.07678          NaN\n",
              "\n",
              "[5 rows x 33 columns]"
            ]
          },
          "metadata": {
            "tags": []
          },
          "execution_count": 21
        }
      ]
    },
    {
      "cell_type": "code",
      "metadata": {
        "id": "CwuCqczsnoCk",
        "outputId": "d4a9c247-5715-462c-bbc6-fad3648dca7a",
        "colab": {
          "base_uri": "https://localhost:8080/",
          "height": 187
        }
      },
      "source": [
        "# feature names as a list\n",
        "col = data.columns       # .columns gives columns names in data \n",
        "print(col)"
      ],
      "execution_count": null,
      "outputs": [
        {
          "output_type": "stream",
          "text": [
            "Index(['id', 'diagnosis', 'radius_mean', 'texture_mean', 'perimeter_mean',\n",
            "       'area_mean', 'smoothness_mean', 'compactness_mean', 'concavity_mean',\n",
            "       'concave points_mean', 'symmetry_mean', 'fractal_dimension_mean',\n",
            "       'radius_se', 'texture_se', 'perimeter_se', 'area_se', 'smoothness_se',\n",
            "       'compactness_se', 'concavity_se', 'concave points_se', 'symmetry_se',\n",
            "       'fractal_dimension_se', 'radius_worst', 'texture_worst',\n",
            "       'perimeter_worst', 'area_worst', 'smoothness_worst',\n",
            "       'compactness_worst', 'concavity_worst', 'concave points_worst',\n",
            "       'symmetry_worst', 'fractal_dimension_worst', 'Unnamed: 32'],\n",
            "      dtype='object')\n"
          ],
          "name": "stdout"
        }
      ]
    },
    {
      "cell_type": "code",
      "metadata": {
        "id": "6rCH0utZnseU",
        "outputId": "3c03efec-d447-4a5d-cbd2-a6d542f5081a",
        "colab": {
          "base_uri": "https://localhost:8080/",
          "height": 241
        }
      },
      "source": [
        "# y includes our labels and x includes our features\n",
        "y = data.diagnosis                          # M or B \n",
        "list = ['Unnamed: 32','id','diagnosis']\n",
        "x = data.drop(list,axis = 1 )\n",
        "x.head()"
      ],
      "execution_count": null,
      "outputs": [
        {
          "output_type": "execute_result",
          "data": {
            "text/html": [
              "<div>\n",
              "<style scoped>\n",
              "    .dataframe tbody tr th:only-of-type {\n",
              "        vertical-align: middle;\n",
              "    }\n",
              "\n",
              "    .dataframe tbody tr th {\n",
              "        vertical-align: top;\n",
              "    }\n",
              "\n",
              "    .dataframe thead th {\n",
              "        text-align: right;\n",
              "    }\n",
              "</style>\n",
              "<table border=\"1\" class=\"dataframe\">\n",
              "  <thead>\n",
              "    <tr style=\"text-align: right;\">\n",
              "      <th></th>\n",
              "      <th>radius_mean</th>\n",
              "      <th>texture_mean</th>\n",
              "      <th>perimeter_mean</th>\n",
              "      <th>area_mean</th>\n",
              "      <th>smoothness_mean</th>\n",
              "      <th>compactness_mean</th>\n",
              "      <th>concavity_mean</th>\n",
              "      <th>concave points_mean</th>\n",
              "      <th>symmetry_mean</th>\n",
              "      <th>fractal_dimension_mean</th>\n",
              "      <th>radius_se</th>\n",
              "      <th>texture_se</th>\n",
              "      <th>perimeter_se</th>\n",
              "      <th>area_se</th>\n",
              "      <th>smoothness_se</th>\n",
              "      <th>compactness_se</th>\n",
              "      <th>concavity_se</th>\n",
              "      <th>concave points_se</th>\n",
              "      <th>symmetry_se</th>\n",
              "      <th>fractal_dimension_se</th>\n",
              "      <th>radius_worst</th>\n",
              "      <th>texture_worst</th>\n",
              "      <th>perimeter_worst</th>\n",
              "      <th>area_worst</th>\n",
              "      <th>smoothness_worst</th>\n",
              "      <th>compactness_worst</th>\n",
              "      <th>concavity_worst</th>\n",
              "      <th>concave points_worst</th>\n",
              "      <th>symmetry_worst</th>\n",
              "      <th>fractal_dimension_worst</th>\n",
              "    </tr>\n",
              "  </thead>\n",
              "  <tbody>\n",
              "    <tr>\n",
              "      <th>0</th>\n",
              "      <td>17.99</td>\n",
              "      <td>10.38</td>\n",
              "      <td>122.80</td>\n",
              "      <td>1001.0</td>\n",
              "      <td>0.11840</td>\n",
              "      <td>0.27760</td>\n",
              "      <td>0.3001</td>\n",
              "      <td>0.14710</td>\n",
              "      <td>0.2419</td>\n",
              "      <td>0.07871</td>\n",
              "      <td>1.0950</td>\n",
              "      <td>0.9053</td>\n",
              "      <td>8.589</td>\n",
              "      <td>153.40</td>\n",
              "      <td>0.006399</td>\n",
              "      <td>0.04904</td>\n",
              "      <td>0.05373</td>\n",
              "      <td>0.01587</td>\n",
              "      <td>0.03003</td>\n",
              "      <td>0.006193</td>\n",
              "      <td>25.38</td>\n",
              "      <td>17.33</td>\n",
              "      <td>184.60</td>\n",
              "      <td>2019.0</td>\n",
              "      <td>0.1622</td>\n",
              "      <td>0.6656</td>\n",
              "      <td>0.7119</td>\n",
              "      <td>0.2654</td>\n",
              "      <td>0.4601</td>\n",
              "      <td>0.11890</td>\n",
              "    </tr>\n",
              "    <tr>\n",
              "      <th>1</th>\n",
              "      <td>20.57</td>\n",
              "      <td>17.77</td>\n",
              "      <td>132.90</td>\n",
              "      <td>1326.0</td>\n",
              "      <td>0.08474</td>\n",
              "      <td>0.07864</td>\n",
              "      <td>0.0869</td>\n",
              "      <td>0.07017</td>\n",
              "      <td>0.1812</td>\n",
              "      <td>0.05667</td>\n",
              "      <td>0.5435</td>\n",
              "      <td>0.7339</td>\n",
              "      <td>3.398</td>\n",
              "      <td>74.08</td>\n",
              "      <td>0.005225</td>\n",
              "      <td>0.01308</td>\n",
              "      <td>0.01860</td>\n",
              "      <td>0.01340</td>\n",
              "      <td>0.01389</td>\n",
              "      <td>0.003532</td>\n",
              "      <td>24.99</td>\n",
              "      <td>23.41</td>\n",
              "      <td>158.80</td>\n",
              "      <td>1956.0</td>\n",
              "      <td>0.1238</td>\n",
              "      <td>0.1866</td>\n",
              "      <td>0.2416</td>\n",
              "      <td>0.1860</td>\n",
              "      <td>0.2750</td>\n",
              "      <td>0.08902</td>\n",
              "    </tr>\n",
              "    <tr>\n",
              "      <th>2</th>\n",
              "      <td>19.69</td>\n",
              "      <td>21.25</td>\n",
              "      <td>130.00</td>\n",
              "      <td>1203.0</td>\n",
              "      <td>0.10960</td>\n",
              "      <td>0.15990</td>\n",
              "      <td>0.1974</td>\n",
              "      <td>0.12790</td>\n",
              "      <td>0.2069</td>\n",
              "      <td>0.05999</td>\n",
              "      <td>0.7456</td>\n",
              "      <td>0.7869</td>\n",
              "      <td>4.585</td>\n",
              "      <td>94.03</td>\n",
              "      <td>0.006150</td>\n",
              "      <td>0.04006</td>\n",
              "      <td>0.03832</td>\n",
              "      <td>0.02058</td>\n",
              "      <td>0.02250</td>\n",
              "      <td>0.004571</td>\n",
              "      <td>23.57</td>\n",
              "      <td>25.53</td>\n",
              "      <td>152.50</td>\n",
              "      <td>1709.0</td>\n",
              "      <td>0.1444</td>\n",
              "      <td>0.4245</td>\n",
              "      <td>0.4504</td>\n",
              "      <td>0.2430</td>\n",
              "      <td>0.3613</td>\n",
              "      <td>0.08758</td>\n",
              "    </tr>\n",
              "    <tr>\n",
              "      <th>3</th>\n",
              "      <td>11.42</td>\n",
              "      <td>20.38</td>\n",
              "      <td>77.58</td>\n",
              "      <td>386.1</td>\n",
              "      <td>0.14250</td>\n",
              "      <td>0.28390</td>\n",
              "      <td>0.2414</td>\n",
              "      <td>0.10520</td>\n",
              "      <td>0.2597</td>\n",
              "      <td>0.09744</td>\n",
              "      <td>0.4956</td>\n",
              "      <td>1.1560</td>\n",
              "      <td>3.445</td>\n",
              "      <td>27.23</td>\n",
              "      <td>0.009110</td>\n",
              "      <td>0.07458</td>\n",
              "      <td>0.05661</td>\n",
              "      <td>0.01867</td>\n",
              "      <td>0.05963</td>\n",
              "      <td>0.009208</td>\n",
              "      <td>14.91</td>\n",
              "      <td>26.50</td>\n",
              "      <td>98.87</td>\n",
              "      <td>567.7</td>\n",
              "      <td>0.2098</td>\n",
              "      <td>0.8663</td>\n",
              "      <td>0.6869</td>\n",
              "      <td>0.2575</td>\n",
              "      <td>0.6638</td>\n",
              "      <td>0.17300</td>\n",
              "    </tr>\n",
              "    <tr>\n",
              "      <th>4</th>\n",
              "      <td>20.29</td>\n",
              "      <td>14.34</td>\n",
              "      <td>135.10</td>\n",
              "      <td>1297.0</td>\n",
              "      <td>0.10030</td>\n",
              "      <td>0.13280</td>\n",
              "      <td>0.1980</td>\n",
              "      <td>0.10430</td>\n",
              "      <td>0.1809</td>\n",
              "      <td>0.05883</td>\n",
              "      <td>0.7572</td>\n",
              "      <td>0.7813</td>\n",
              "      <td>5.438</td>\n",
              "      <td>94.44</td>\n",
              "      <td>0.011490</td>\n",
              "      <td>0.02461</td>\n",
              "      <td>0.05688</td>\n",
              "      <td>0.01885</td>\n",
              "      <td>0.01756</td>\n",
              "      <td>0.005115</td>\n",
              "      <td>22.54</td>\n",
              "      <td>16.67</td>\n",
              "      <td>152.20</td>\n",
              "      <td>1575.0</td>\n",
              "      <td>0.1374</td>\n",
              "      <td>0.2050</td>\n",
              "      <td>0.4000</td>\n",
              "      <td>0.1625</td>\n",
              "      <td>0.2364</td>\n",
              "      <td>0.07678</td>\n",
              "    </tr>\n",
              "  </tbody>\n",
              "</table>\n",
              "</div>"
            ],
            "text/plain": [
              "   radius_mean  texture_mean  ...  symmetry_worst  fractal_dimension_worst\n",
              "0        17.99         10.38  ...          0.4601                  0.11890\n",
              "1        20.57         17.77  ...          0.2750                  0.08902\n",
              "2        19.69         21.25  ...          0.3613                  0.08758\n",
              "3        11.42         20.38  ...          0.6638                  0.17300\n",
              "4        20.29         14.34  ...          0.2364                  0.07678\n",
              "\n",
              "[5 rows x 30 columns]"
            ]
          },
          "metadata": {
            "tags": []
          },
          "execution_count": 23
        }
      ]
    },
    {
      "cell_type": "code",
      "metadata": {
        "id": "nA65Elxkn0I-",
        "outputId": "f69eccca-14cc-4d17-c2eb-74b72d696b65",
        "colab": {
          "base_uri": "https://localhost:8080/",
          "height": 317
        }
      },
      "source": [
        "import seaborn as sns\n",
        "ax = sns.countplot(y,label=\"Count\")       # M = 212, B = 357\n",
        "B, M = y.value_counts()\n",
        "print('Number of Benign: ',B)\n",
        "print('Number of Malignant : ',M)"
      ],
      "execution_count": null,
      "outputs": [
        {
          "output_type": "stream",
          "text": [
            "Number of Benign:  357\n",
            "Number of Malignant :  212\n"
          ],
          "name": "stdout"
        },
        {
          "output_type": "display_data",
          "data": {
            "image/png": "[encoded data removed]",
            "text/plain": [
              "<Figure size 432x288 with 1 Axes>"
            ]
          },
          "metadata": {
            "tags": []
          }
        }
      ]
    },
    {
      "cell_type": "markdown",
      "metadata": {
        "id": "H-OKauXPHmBL"
      },
      "source": [
        "## SelectFromModel\n",
        "\n",
        "A classe [sklearn.feature_selection.SelectFromModel](https://scikit-learn.org/stable/modules/generated/sklearn.feature_selection.SelectFromModel.html) pode ser usada com qualquer estimador que tenha campos `coef_` ou `feature_importances_`. Os atributos considerados sem importância são aqueles cujos correspondentes em `coef_` (ou em `feature_importances_`) estiverem abaixo do parâmetro de limite fornecido (`threshold`).\n",
        "\n",
        "<center>`threshold : string, float, optional default None`</center>\n",
        "\n",
        "> *The threshold value to use for feature selection. Features whose importance is greater or equal are kept while the others are discarded. If “median” (resp. “mean”), then the threshold value is the median (resp. the mean) of the feature importances. A scaling factor (e.g., “1.25*mean”) may also be used. If None and if the estimator has a parameter penalty set to l1, either explicitly or implicitly (e.g, Lasso), the threshold used is 1e-5. Otherwise, “mean” is used by default.*\n"
      ]
    },
    {
      "cell_type": "code",
      "metadata": {
        "id": "Gl4aWBcJn0Ew",
        "outputId": "a7b30d8b-9382-426f-d935-c6ad81d0eea2",
        "colab": {
          "base_uri": "https://localhost:8080/",
          "height": 107
        }
      },
      "source": [
        "import pandas as pd\n",
        "from sklearn.ensemble import ExtraTreesClassifier\n",
        "from sklearn.feature_selection import SelectFromModel\n",
        "import numpy as np\n",
        "import seaborn as sns\n",
        "import numpy as np\n",
        "\n",
        "df_iris = sns.load_dataset('iris')\n",
        "\n",
        "y = df_iris['species'] # atributo alvo \n",
        "X = df_iris.drop('species', axis=1) # remove atributo alvo da matrix de dados \n",
        "clf = ExtraTreesClassifier(n_estimators=250)\n",
        "clf = clf.fit(X, y)\n",
        "\n",
        "print('Atributos previsores:', X.columns)\n",
        "print('Importâncias:', clf.feature_importances_)\n",
        "\n",
        "print('Média das importâncias:', np.mean(clf.feature_importances_))\n",
        "\n",
        "model = SelectFromModel(clf, prefit=True)\n",
        "X_new = model.transform(X)\n",
        "\n",
        "feature_idx = model.get_support().astype(int)\n",
        "\n",
        "feature_idx = np.argwhere(feature_idx==1)\n",
        "\n",
        "feature_name = df_iris.columns[feature_idx]\n",
        "\n",
        "print('Atributos selecionados:', feature_name)"
      ],
      "execution_count": null,
      "outputs": [
        {
          "output_type": "stream",
          "text": [
            "Atributos previsores: Index(['sepal_length', 'sepal_width', 'petal_length', 'petal_width'], dtype='object')\n",
            "Importâncias: [0.10385294 0.05613477 0.36595459 0.4740577 ]\n",
            "Média das importâncias: 0.25\n",
            "Atributos selecionados: Index([['petal_length'], ['petal_width']], dtype='object')\n"
          ],
          "name": "stdout"
        }
      ]
    },
    {
      "cell_type": "code",
      "metadata": {
        "id": "rEEex5-SiNla"
      },
      "source": [
        ""
      ],
      "execution_count": null,
      "outputs": []
    },
    {
      "cell_type": "markdown",
      "metadata": {
        "id": "qCV6RXYImCz8"
      },
      "source": [
        "O próximo exemplo é retirado da própria documentação do scikit-learn ([Feature importances with forests of trees](https://scikit-learn.org/stable/auto_examples/ensemble/plot_forest_importances.html#sphx-glr-auto-examples-ensemble-plot-forest-importances-py))"
      ]
    },
    {
      "cell_type": "code",
      "metadata": {
        "id": "q_5ghS80nz_q",
        "outputId": "40e821a9-1349-426f-91e4-15d8f801b5c2",
        "colab": {
          "base_uri": "https://localhost:8080/",
          "height": 481
        }
      },
      "source": [
        "import numpy as np\n",
        "import matplotlib.pyplot as plt\n",
        "\n",
        "from sklearn.datasets import make_classification\n",
        "from sklearn.ensemble import ExtraTreesClassifier\n",
        "\n",
        "# Build a classification task using 3 informative features\n",
        "X, y = make_classification(n_samples=1000,\n",
        "                           n_features=10,\n",
        "                           n_informative=3,\n",
        "                           n_redundant=0,\n",
        "                           n_repeated=0,\n",
        "                           n_classes=2,\n",
        "                           random_state=0,\n",
        "                           shuffle=False)\n",
        "\n",
        "# Build a forest and compute the feature importances\n",
        "forest = ExtraTreesClassifier(n_estimators=250,\n",
        "                              random_state=0)\n",
        "\n",
        "forest.fit(X, y)\n",
        "importances = forest.feature_importances_\n",
        "std = np.std([tree.feature_importances_ for tree in forest.estimators_],\n",
        "             axis=0)\n",
        "indices = np.argsort(importances)[::-1]\n",
        "\n",
        "# Print the feature ranking\n",
        "print(\"Feature ranking:\")\n",
        "\n",
        "for f in range(X.shape[1]):\n",
        "    print(\"%d. feature %d (%f)\" % (f + 1, indices[f], importances[indices[f]]))\n",
        "\n",
        "# Plot the feature importances of the forest\n",
        "plt.figure()\n",
        "plt.title(\"Feature importances\")\n",
        "plt.bar(range(X.shape[1]), importances[indices],\n",
        "       color=\"r\", yerr=std[indices], align=\"center\")\n",
        "plt.xticks(range(X.shape[1]), indices)\n",
        "plt.xlim([-1, X.shape[1]])\n",
        "plt.show()"
      ],
      "execution_count": null,
      "outputs": [
        {
          "output_type": "stream",
          "text": [
            "Feature ranking:\n",
            "1. feature 1 (0.295902)\n",
            "2. feature 2 (0.208351)\n",
            "3. feature 0 (0.177632)\n",
            "4. feature 3 (0.047121)\n",
            "5. feature 6 (0.046303)\n",
            "6. feature 8 (0.046013)\n",
            "7. feature 7 (0.045575)\n",
            "8. feature 4 (0.044614)\n",
            "9. feature 9 (0.044577)\n",
            "10. feature 5 (0.043912)\n"
          ],
          "name": "stdout"
        },
        {
          "output_type": "display_data",
          "data": {
            "image/png": "[encoded data removed]",
            "text/plain": [
              "<Figure size 432x288 with 1 Axes>"
            ]
          },
          "metadata": {
            "tags": []
          }
        }
      ]
    },
    {
      "cell_type": "markdown",
      "metadata": {
        "id": "j2mFDOPUq01W"
      },
      "source": [
        "## RFE vs SelectFromModel \n",
        "\n",
        "As estratégias de seleção de atributos implementadas em RFE e SelectFromModel têm o mesmo propósito, a saber, selecionar um conjunto de atributos relevantes para uma tarefa de predição, mas a metodologia usada em cada técnica varia, conforme descrito a seguir.\n",
        "\n",
        "* `RFE` remove atributos menos relevantes de forma iterativa: primeiro remove alguns atributos que não são importantes e, em seguida, ajusta novo modelo e remove novamente outros atributos e ajusta novo modelo. Essa estratégia repete essa iteração até atingir um número pré-estabelecido de atributos.\n",
        "\n",
        "* `SelectFromModel` apenas remove atributos menos importantes com base em um limite fornecido como um parâmetro. Não há iteração envolvida."
      ]
    },
    {
      "cell_type": "markdown",
      "metadata": {
        "id": "vnT7_yIFkIQd"
      },
      "source": [
        "# Exercícios\n",
        "\n",
        "**1** - Considere que a matrix de dados abaixo corresponde a notas de 5 estudantes, nas disciplinas Matemática, Português e Artes. Construa a matriz de covariâncias correspondente à matriz de dados fornecida. Qual o teste que possui maior variância? Qual par de disciplinas está mais correlacionado?\n",
        "$$\n",
        "\\begin{matrix} \n",
        "90 & 60 & 90 \\\\ \n",
        "90 & 90 & 30 \\\\ \n",
        "60 & 60 & 60  \\\\\n",
        "60 & 60 & 90 \\\\ \n",
        "30 & 30 & 30 \\\\ \n",
        "\\end{matrix}\n",
        "$$\n",
        "\n",
        "**2** - Neste exercício, considere a implementação em PCA em numpy e scipy fornecida. O que você espera que os conjuntos de dados projetados sejam para a matriz de dados $X1$ fornecida abaixo? Explique os resultados para $k = 3$ e $k = 1$.\n",
        "\n",
        "```\n",
        "X1 = np.array([\n",
        "        [1,   2, -.05],\n",
        "        [2,   4, -.05],\n",
        "        [4,   8, -.05],\n",
        "        [8,  16, -.05],\n",
        "    ])\n",
        "pca(X=X1, k=3)\n",
        "pca(X=X1, k=1)\n",
        "```\n",
        "\n",
        "\n",
        "**3** - Considere o conjunto de dados [MNIST](https://en.wikipedia.org/wiki/MNIST_database), composto de imagens de dígitos de 28x28 pixels. A dimensão original deste conjunto de dados é 784. Utilizando a abordagem de plotar a soma acumulada das variâncias explicadas, determine a dimensão intrínseca desse conjunto de dados. Abaixo, é fornecido o código para carregar o conjunto de dados. \n",
        "\n",
        "```\n",
        "# Load data from https://www.openml.org/d/554\n",
        "X_mnist, y_mnist = fetch_openml('mnist_784', version=1, return_X_y=True)\n",
        "\n",
        "print(X_mnist.data.shape)\n",
        "```\n",
        "\n",
        "**4** - Considere o conjunto de dados PIMA Indians (fornecido como arquivo em formato CSV). Use as abordagens de seleção de atributos univariada e RFE para determinar quais os atributos mais relevantes relativamente ao atributo alvo.\n",
        "\n",
        "\n"
      ]
    }
  ]
}